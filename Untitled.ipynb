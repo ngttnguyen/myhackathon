{
 "cells": [
  {
   "cell_type": "code",
   "execution_count": 1,
   "metadata": {},
   "outputs": [],
   "source": [
    "import pandas as pd\n",
    "import numpy as np\n",
    "from matplotlib import pyplot as plt\n",
    "import seaborn as sns\n",
    "\n",
    "from datetime import date\n",
    "from datetime import time\n",
    "import datetime as dt"
   ]
  },
  {
   "cell_type": "code",
   "execution_count": 5,
   "metadata": {},
   "outputs": [],
   "source": [
    "basket_df = pd.read_csv(\"data/basket_output.csv\",sep=';')"
   ]
  },
  {
   "cell_type": "code",
   "execution_count": 7,
   "metadata": {},
   "outputs": [
    {
     "data": {
      "text/html": [
       "<div>\n",
       "<style scoped>\n",
       "    .dataframe tbody tr th:only-of-type {\n",
       "        vertical-align: middle;\n",
       "    }\n",
       "\n",
       "    .dataframe tbody tr th {\n",
       "        vertical-align: top;\n",
       "    }\n",
       "\n",
       "    .dataframe thead th {\n",
       "        text-align: right;\n",
       "    }\n",
       "</style>\n",
       "<table border=\"1\" class=\"dataframe\">\n",
       "  <thead>\n",
       "    <tr style=\"text-align: right;\">\n",
       "      <th></th>\n",
       "      <th>antecedents,consequents</th>\n",
       "    </tr>\n",
       "  </thead>\n",
       "  <tbody>\n",
       "    <tr>\n",
       "      <th>0</th>\n",
       "      <td>'Thoát Nạn Trong Gang Tấc 4','Thoát Nạn Trong ...</td>\n",
       "    </tr>\n",
       "    <tr>\n",
       "      <th>1</th>\n",
       "      <td>'Thoát Nạn Trong Gang Tấc 3','Thoát Nạn Trong ...</td>\n",
       "    </tr>\n",
       "    <tr>\n",
       "      <th>2</th>\n",
       "      <td>'Thoát Nạn Trong Gang Tấc 6','Thoát Nạn Trong ...</td>\n",
       "    </tr>\n",
       "    <tr>\n",
       "      <th>3</th>\n",
       "      <td>'Thoát Nạn Trong Gang Tấc 3','Thoát Nạn Trong ...</td>\n",
       "    </tr>\n",
       "    <tr>\n",
       "      <th>4</th>\n",
       "      <td>'Thoát Nạn Trong Gang Tấc 4','Thoát Nạn Trong ...</td>\n",
       "    </tr>\n",
       "    <tr>\n",
       "      <th>5</th>\n",
       "      <td>'Lạnh Lùng','Đoạn Tuyệt'</td>\n",
       "    </tr>\n",
       "    <tr>\n",
       "      <th>6</th>\n",
       "      <td>'Đoạn Tuyệt','Lạnh Lùng'</td>\n",
       "    </tr>\n",
       "    <tr>\n",
       "      <th>7</th>\n",
       "      <td>'Thoát Nạn Trong Gang Tấc 5','Thoát Nạn Trong ...</td>\n",
       "    </tr>\n",
       "    <tr>\n",
       "      <th>8</th>\n",
       "      <td>'Thoát Nạn Trong Gang Tấc 6','Thoát Nạn Trong ...</td>\n",
       "    </tr>\n",
       "    <tr>\n",
       "      <th>9</th>\n",
       "      <td>'Thoát Nạn Trong Gang Tấc 6','Thoát Nạn Trong ...</td>\n",
       "    </tr>\n",
       "  </tbody>\n",
       "</table>\n",
       "</div>"
      ],
      "text/plain": [
       "                             antecedents,consequents\n",
       "0  'Thoát Nạn Trong Gang Tấc 4','Thoát Nạn Trong ...\n",
       "1  'Thoát Nạn Trong Gang Tấc 3','Thoát Nạn Trong ...\n",
       "2  'Thoát Nạn Trong Gang Tấc 6','Thoát Nạn Trong ...\n",
       "3  'Thoát Nạn Trong Gang Tấc 3','Thoát Nạn Trong ...\n",
       "4  'Thoát Nạn Trong Gang Tấc 4','Thoát Nạn Trong ...\n",
       "5                           'Lạnh Lùng','Đoạn Tuyệt'\n",
       "6                           'Đoạn Tuyệt','Lạnh Lùng'\n",
       "7  'Thoát Nạn Trong Gang Tấc 5','Thoát Nạn Trong ...\n",
       "8  'Thoát Nạn Trong Gang Tấc 6','Thoát Nạn Trong ...\n",
       "9  'Thoát Nạn Trong Gang Tấc 6','Thoát Nạn Trong ..."
      ]
     },
     "execution_count": 7,
     "metadata": {},
     "output_type": "execute_result"
    }
   ],
   "source": [
    "basket_df.head(10)"
   ]
  }
 ],
 "metadata": {
  "kernelspec": {
   "display_name": "Python 3",
   "language": "python",
   "name": "python3"
  },
  "language_info": {
   "codemirror_mode": {
    "name": "ipython",
    "version": 3
   },
   "file_extension": ".py",
   "mimetype": "text/x-python",
   "name": "python",
   "nbconvert_exporter": "python",
   "pygments_lexer": "ipython3",
   "version": "3.8.5"
  }
 },
 "nbformat": 4,
 "nbformat_minor": 4
}
