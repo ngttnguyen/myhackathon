{
 "cells": [
  {
   "cell_type": "markdown",
   "metadata": {},
   "source": [
    "## BASKET ANALYSIS"
   ]
  },
  {
   "cell_type": "code",
   "execution_count": 9,
   "metadata": {},
   "outputs": [],
   "source": [
    "import pandas as pd\n",
    "import numpy as np\n",
    "from matplotlib import pyplot as plt\n",
    "import seaborn as sns\n",
    "\n",
    "from datetime import date\n",
    "from datetime import time\n",
    "import datetime as dt\n",
    "\n",
    "import mlxtend.frequent_patterns \n",
    "import mlxtend.preprocessing"
   ]
  },
  {
   "cell_type": "code",
   "execution_count": 37,
   "metadata": {},
   "outputs": [],
   "source": [
    "order_detail_df = pd.read_csv(\"data/order_processed.csv\")\n",
    "user_df = pd.read_csv(\"data/user_processed.csv\")\n",
    "listening_detail_df = pd.read_csv(\"data/listening_processed.csv\")\n",
    "clustering_df = pd.read_csv(\"data/clustering_processed.csv\")"
   ]
  },
  {
   "cell_type": "markdown",
   "metadata": {},
   "source": [
    "#### Xử lý kiểu dữ liệu"
   ]
  },
  {
   "cell_type": "code",
   "execution_count": 45,
   "metadata": {},
   "outputs": [],
   "source": [
    "##### Đổi tên cột\n",
    "listening_detail_df.columns=[\"PlaylistID\",\"Playlist Name\",\"Category\",\"SubCategory\",\"PlaylistType\",\"PlaylistDuration(min)\",\n",
    "                            \"ActualDuration(min)\",\"UserID\",\"ListeningTime\",\"ListeningDate\",\"ListeningDatetime\"]"
   ]
  },
  {
   "cell_type": "code",
   "execution_count": 58,
   "metadata": {},
   "outputs": [],
   "source": [
    "listening_detail_df[\"ListeningDate\"] = listening_detail_df[\"ListeningDate\"].astype(\"datetime64\")\n",
    "listening_detail_df[\"PlaylistID\"] = listening_detail_df[\"PlaylistID\"].astype(\"object\")"
   ]
  },
  {
   "cell_type": "code",
   "execution_count": 59,
   "metadata": {
    "scrolled": true
   },
   "outputs": [
    {
     "data": {
      "text/plain": [
       "PlaylistID                       object\n",
       "Playlist Name                    object\n",
       "Category                         object\n",
       "SubCategory                      object\n",
       "PlaylistType                     object\n",
       "PlaylistDuration(min)           float64\n",
       "ActualDuration(min)             float64\n",
       "UserID                            int64\n",
       "ListeningTime                    object\n",
       "ListeningDate            datetime64[ns]\n",
       "ListeningDatetime                object\n",
       "dtype: object"
      ]
     },
     "execution_count": 59,
     "metadata": {},
     "output_type": "execute_result"
    }
   ],
   "source": [
    "listening_detail_df.dtypes"
   ]
  },
  {
   "cell_type": "code",
   "execution_count": null,
   "metadata": {},
   "outputs": [],
   "source": [
    "##### Chuyển dữ liệu datetime\n",
    "order_detail_df[\"Transaction Date\"]=order_detail_df[\"Transaction Date\"].astype(\"datetime64\")"
   ]
  },
  {
   "cell_type": "markdown",
   "metadata": {},
   "source": [
    "#### Xử lý outliers của listening_detail_df\n",
    "1. Drop những playlist có duration ngắn\n",
    "2. Xử lý các megahit và các playlist có frequency quá thấp ==> vẽ phân phối frequency để nhìn thấy các outliers"
   ]
  },
  {
   "cell_type": "code",
   "execution_count": null,
   "metadata": {},
   "outputs": [],
   "source": []
  },
  {
   "cell_type": "markdown",
   "metadata": {},
   "source": [
    "#### Function definitions"
   ]
  },
  {
   "cell_type": "code",
   "execution_count": null,
   "metadata": {},
   "outputs": [],
   "source": [
    "def frequency_items (x,y):\n",
    "    fx_=sum([x in i for i in my_basket])\n",
    "    fy_=sum([y in i for i in my_basket])\n",
    "    \n",
    "    fxy_=sum([all(z in i for z in [x,y]) for i in my_basket])\n",
    "    \n",
    "    support=fxy_/len(my_basket)\n",
    "    confidence = support/(fx_/len(my_basket))\n",
    "    lift =confidence /(fy_/len(my_basket))\n",
    "    if confidence ==1:\n",
    "        conviction = 0\n",
    "    else:\n",
    "        conviction=(1-(fy_/len(my_basket)))/(1-confidence)\n",
    "    \n",
    "    print(\"Support = {}\".format(round(support,2)))\n",
    "    print(\"Confidence = {}\".format(round(confidence,2)))\n",
    "    print(\"Lift= {}\".format(round(lift,2)))\n",
    "    print(\"Conviction={}\".format(round(conviction,2)))\n",
    "\n",
    "def frequency_item(x,df):\n",
    "    '''\n",
    "        Return tần suất xuất hiện của item trong các lượt nghe\n",
    "    '''\n",
    "    fx_=sum([x in i for i in df])\n",
    "    support = fx_/len(df)\n",
    "    return support"
   ]
  },
  {
   "cell_type": "markdown",
   "metadata": {},
   "source": [
    "### Lấy danh sách các playlists theo transaction\n",
    "1. Một transaction: danh sách playlits mà users nghe trong vòng 15 ngày\n",
    "2. playlist_basket: chứa các playlist theo transaction 15 ngày"
   ]
  },
  {
   "cell_type": "markdown",
   "metadata": {},
   "source": [
    "##### 1. Tính danh sách nghe mỗi 15 ngày của các users"
   ]
  },
  {
   "cell_type": "code",
   "execution_count": 190,
   "metadata": {},
   "outputs": [],
   "source": [
    "def get_playlists_in_timewindow(user_id,timewindow = 15 ):\n",
    "    \n",
    "    user_basket = []\n",
    "    \n",
    "    df = listening_detail_df[listening_detail_df[\"UserID\"]==user]\n",
    "    t_min = df['ListeningDate'].min()\n",
    "    t_max = df['ListeningDate'].max()\n",
    "\n",
    "    ### tính số transactions có thể có của mỗi users nếu chia ra 15 ngày là 1 transaction\n",
    "    distance = (t_max - t_min).days\n",
    "    div_delta = int(distance/time_window)\n",
    "    mod_delta = distance%time_window\n",
    "    div_delta,mod_delta\n",
    "    trans_cnt = (div_delta+1) if mod_delta > 0 else div_delta\n",
    "\n",
    "    ### Xác định các mốc thời gian tương ứng\n",
    "    freq = str(timewindow)+'D'\n",
    "    date_points = pd.date_range(start =t_min.date(),periods = trans_cnt+1,freq =freq)\n",
    "    \n",
    "    ### Tính playlists của các transactions ứng với các date_point ở trên <= <\n",
    "    for i in range(trans_cnt):\n",
    "        playlists = df[df.ListeningDate.between(date_points[i], date_points[i+1])][\"PlaylistID\"].tolist()\n",
    "        if len(playlists)>0:\n",
    "            user_basket.append(playlists)\n",
    "    \n",
    "    return(user_basket)"
   ]
  },
  {
   "cell_type": "code",
   "execution_count": 191,
   "metadata": {},
   "outputs": [],
   "source": [
    "playlist_basket = []\n",
    "users = listening_summary_df[\"UserID\"].tolist()\n",
    "for user in users[:10]:\n",
    "    user_basket = get_playlists_in_timewindow(user)\n",
    "    playlist_basket += user_basket"
   ]
  },
  {
   "cell_type": "code",
   "execution_count": 186,
   "metadata": {},
   "outputs": [
    {
     "data": {
      "text/plain": [
       "[[3907, 3907], [3909, 3908]]"
      ]
     },
     "execution_count": 186,
     "metadata": {},
     "output_type": "execute_result"
    }
   ],
   "source": [
    "user_basket2 = [[3907, 3907],[3909, 3908]]\n",
    "playlist_basket += user_basket2\n",
    "user_basket2               "
   ]
  },
  {
   "cell_type": "code",
   "execution_count": null,
   "metadata": {},
   "outputs": [],
   "source": []
  },
  {
   "cell_type": "markdown",
   "metadata": {},
   "source": [
    "#### Basket Analysis on listening detail"
   ]
  },
  {
   "cell_type": "code",
   "execution_count": null,
   "metadata": {},
   "outputs": [],
   "source": [
    "encode_=mlxtend.preprocessing.TransactionEncoder()\n",
    "encode_arr=encode_.fit_transform(data)\n",
    "## 3. Converting to dataframe.\n",
    "\n",
    "encode_df=pd.DataFrame(encode_arr, columns=encode_.columns_)\n",
    "encode_df"
   ]
  },
  {
   "cell_type": "code",
   "execution_count": null,
   "metadata": {},
   "outputs": [],
   "source": [
    "## 4. Calculating support.\n",
    "\n",
    "md=mlxtend.frequent_patterns.apriori(encode_df)\n",
    "md_minsup=mlxtend.frequent_patterns.apriori(encode_df,\n",
    "                                           min_support=0.01, \n",
    "                                            use_colnames=True)\n",
    "md_minsup.head(20)"
   ]
  },
  {
   "cell_type": "code",
   "execution_count": null,
   "metadata": {},
   "outputs": [],
   "source": [
    "## 5. Creating rules (Metric: Confidence) Antecedents ⇒ Consequents\n",
    "\n",
    "rules=mlxtend.frequent_patterns.association_rules(\n",
    "md_minsup, metric=\"confidence\",min_threshold=0.06,support_only=False)\n",
    "\n",
    "rules.head(20)"
   ]
  },
  {
   "cell_type": "code",
   "execution_count": null,
   "metadata": {},
   "outputs": [],
   "source": [
    "## 6.Creating rules (Metric: Lift) Antecedents ⇒ Consequents\n",
    "\n",
    "rules2=mlxtend.frequent_patterns.association_rules(\n",
    "md_minsup, metric=\"lift\",min_threshold=0.06,support_only=False)\n",
    "\n",
    "rules2.head(20)"
   ]
  },
  {
   "cell_type": "code",
   "execution_count": null,
   "metadata": {},
   "outputs": [],
   "source": [
    "## 7. Scatter plot\n",
    "## Scatter plots help us to evaluate general tendencies of rules between antecedents and consequents\n",
    "\n",
    "import networkx as nx\n",
    "import seaborn as sns\n",
    "import matplotlib.pyplot as plt \n",
    "\n",
    "# Generate scatterplot using support and confidence\n",
    "plt.figure(figsize=(10,6))\n",
    "sns.scatterplot(x = \"support\", y = \"confidence\", \n",
    "                size = \"lift\", data = rules)\n",
    "plt.margins(0.01,0.01)\n",
    "plt.show()"
   ]
  },
  {
   "cell_type": "markdown",
   "metadata": {},
   "source": [
    "## Conclusion\n",
    "\n",
    "In this post, we have had a glimpse into what Affinity Analysis is and how to implement it in python.\n",
    "Affinity Analysis or Market Basket Analysis is used to extract valuable insights from transaction data. It can be used to determine what products to discount. Also, it can increase sales and customer satisfaction. It is important to realize that there are many other areas in which it can be applied."
   ]
  }
 ],
 "metadata": {
  "kernelspec": {
   "display_name": "Python 3",
   "language": "python",
   "name": "python3"
  },
  "language_info": {
   "codemirror_mode": {
    "name": "ipython",
    "version": 3
   },
   "file_extension": ".py",
   "mimetype": "text/x-python",
   "name": "python",
   "nbconvert_exporter": "python",
   "pygments_lexer": "ipython3",
   "version": "3.8.5"
  }
 },
 "nbformat": 4,
 "nbformat_minor": 4
}
