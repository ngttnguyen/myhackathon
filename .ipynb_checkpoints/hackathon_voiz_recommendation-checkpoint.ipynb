{
 "cells": [
  {
   "cell_type": "markdown",
   "metadata": {},
   "source": [
    "## Recommending high value playlists for free user "
   ]
  },
  {
   "cell_type": "code",
   "execution_count": 1,
   "metadata": {},
   "outputs": [],
   "source": [
    "import pandas as pd\n",
    "import numpy as np\n",
    "from matplotlib import pyplot as plt\n",
    "import seaborn as sns\n",
    "\n",
    "from datetime import date\n",
    "from datetime import time\n",
    "import datetime as dt"
   ]
  },
  {
   "cell_type": "markdown",
   "metadata": {},
   "source": [
    "#### Đọc dữ liệu"
   ]
  },
  {
   "cell_type": "code",
   "execution_count": 59,
   "metadata": {},
   "outputs": [],
   "source": [
    "order_detail_df = pd.read_csv(\"data/order_processed.csv\")\n",
    "user_df = pd.read_csv(\"data/user_processed.csv\")\n",
    "listening_detail_df = pd.read_csv(\"data/listening_processed.csv\")"
   ]
  },
  {
   "cell_type": "code",
   "execution_count": 42,
   "metadata": {},
   "outputs": [
    {
     "data": {
      "text/html": [
       "<div>\n",
       "<style scoped>\n",
       "    .dataframe tbody tr th:only-of-type {\n",
       "        vertical-align: middle;\n",
       "    }\n",
       "\n",
       "    .dataframe tbody tr th {\n",
       "        vertical-align: top;\n",
       "    }\n",
       "\n",
       "    .dataframe thead th {\n",
       "        text-align: right;\n",
       "    }\n",
       "</style>\n",
       "<table border=\"1\" class=\"dataframe\">\n",
       "  <thead>\n",
       "    <tr style=\"text-align: right;\">\n",
       "      <th></th>\n",
       "      <th>OrderID (PK)</th>\n",
       "      <th>Transaction Date</th>\n",
       "      <th>UserID (FK)</th>\n",
       "      <th>Bill Type</th>\n",
       "      <th>Total Amount</th>\n",
       "    </tr>\n",
       "  </thead>\n",
       "  <tbody>\n",
       "    <tr>\n",
       "      <th>0</th>\n",
       "      <td>6706</td>\n",
       "      <td>2020-08-16</td>\n",
       "      <td>44822</td>\n",
       "      <td>VIP</td>\n",
       "      <td>199000</td>\n",
       "    </tr>\n",
       "    <tr>\n",
       "      <th>1</th>\n",
       "      <td>6998</td>\n",
       "      <td>2020-08-23</td>\n",
       "      <td>47128</td>\n",
       "      <td>VIP</td>\n",
       "      <td>199000</td>\n",
       "    </tr>\n",
       "    <tr>\n",
       "      <th>2</th>\n",
       "      <td>6927</td>\n",
       "      <td>2020-08-21</td>\n",
       "      <td>47134</td>\n",
       "      <td>VIP</td>\n",
       "      <td>199000</td>\n",
       "    </tr>\n",
       "  </tbody>\n",
       "</table>\n",
       "</div>"
      ],
      "text/plain": [
       "   OrderID (PK) Transaction Date  UserID (FK) Bill Type  Total Amount\n",
       "0          6706       2020-08-16        44822       VIP        199000\n",
       "1          6998       2020-08-23        47128       VIP        199000\n",
       "2          6927       2020-08-21        47134       VIP        199000"
      ]
     },
     "execution_count": 42,
     "metadata": {},
     "output_type": "execute_result"
    }
   ],
   "source": [
    "order_detail_df.head(3)"
   ]
  },
  {
   "cell_type": "code",
   "execution_count": 43,
   "metadata": {},
   "outputs": [],
   "source": [
    "order_detail_df[\"Transaction Date\"]=order_detail_df[\"Transaction Date\"].astype(\"datetime64\")"
   ]
  },
  {
   "cell_type": "code",
   "execution_count": 44,
   "metadata": {
    "scrolled": true
   },
   "outputs": [
    {
     "name": "stderr",
     "output_type": "stream",
     "text": [
      "<ipython-input-44-0c890eeed07c>:1: FutureWarning: Treating datetime data as categorical rather than numeric in `.describe` is deprecated and will be removed in a future version of pandas. Specify `datetime_is_numeric=True` to silence this warning and adopt the future behavior now.\n",
      "  order_detail_df[\"Transaction Date\"].describe()\n"
     ]
    },
    {
     "data": {
      "text/plain": [
       "count                    3575\n",
       "unique                    163\n",
       "top       2020-12-13 00:00:00\n",
       "freq                       60\n",
       "first     2020-07-11 00:00:00\n",
       "last      2020-12-31 00:00:00\n",
       "Name: Transaction Date, dtype: object"
      ]
     },
     "execution_count": 44,
     "metadata": {},
     "output_type": "execute_result"
    }
   ],
   "source": [
    "order_detail_df[\"Transaction Date\"].describe()"
   ]
  },
  {
   "cell_type": "code",
   "execution_count": 45,
   "metadata": {},
   "outputs": [
    {
     "data": {
      "text/html": [
       "<div>\n",
       "<style scoped>\n",
       "    .dataframe tbody tr th:only-of-type {\n",
       "        vertical-align: middle;\n",
       "    }\n",
       "\n",
       "    .dataframe tbody tr th {\n",
       "        vertical-align: top;\n",
       "    }\n",
       "\n",
       "    .dataframe thead th {\n",
       "        text-align: right;\n",
       "    }\n",
       "</style>\n",
       "<table border=\"1\" class=\"dataframe\">\n",
       "  <thead>\n",
       "    <tr style=\"text-align: right;\">\n",
       "      <th></th>\n",
       "      <th>User_ID</th>\n",
       "      <th>min_purchase_date</th>\n",
       "      <th>max_purchase_date</th>\n",
       "      <th>order_cnt</th>\n",
       "    </tr>\n",
       "  </thead>\n",
       "  <tbody>\n",
       "    <tr>\n",
       "      <th>0</th>\n",
       "      <td>40843</td>\n",
       "      <td>2020-09-04</td>\n",
       "      <td>2020-09-25</td>\n",
       "      <td>3</td>\n",
       "    </tr>\n",
       "    <tr>\n",
       "      <th>1</th>\n",
       "      <td>40861</td>\n",
       "      <td>2020-09-09</td>\n",
       "      <td>2020-09-09</td>\n",
       "      <td>1</td>\n",
       "    </tr>\n",
       "    <tr>\n",
       "      <th>2</th>\n",
       "      <td>41003</td>\n",
       "      <td>2020-10-27</td>\n",
       "      <td>2020-10-27</td>\n",
       "      <td>1</td>\n",
       "    </tr>\n",
       "  </tbody>\n",
       "</table>\n",
       "</div>"
      ],
      "text/plain": [
       "   User_ID min_purchase_date max_purchase_date  order_cnt\n",
       "0    40843        2020-09-04        2020-09-25          3\n",
       "1    40861        2020-09-09        2020-09-09          1\n",
       "2    41003        2020-10-27        2020-10-27          1"
      ]
     },
     "execution_count": 45,
     "metadata": {},
     "output_type": "execute_result"
    }
   ],
   "source": [
    "order_summary_df = order_detail_df.groupby(\"UserID (FK)\").agg(\n",
    "                    {'Transaction Date': ['min', 'max', 'count']\n",
    "                    }\n",
    "                    ).reset_index()\n",
    "order_summary_df.columns = ['User_ID','min_purchase_date','max_purchase_date','order_cnt']\n",
    "\n",
    "order_summary_df.head(3)"
   ]
  },
  {
   "cell_type": "code",
   "execution_count": 46,
   "metadata": {
    "scrolled": false
   },
   "outputs": [
    {
     "data": {
      "text/html": [
       "<div>\n",
       "<style scoped>\n",
       "    .dataframe tbody tr th:only-of-type {\n",
       "        vertical-align: middle;\n",
       "    }\n",
       "\n",
       "    .dataframe tbody tr th {\n",
       "        vertical-align: top;\n",
       "    }\n",
       "\n",
       "    .dataframe thead th {\n",
       "        text-align: right;\n",
       "    }\n",
       "</style>\n",
       "<table border=\"1\" class=\"dataframe\">\n",
       "  <thead>\n",
       "    <tr style=\"text-align: right;\">\n",
       "      <th></th>\n",
       "      <th>UserID (PK)</th>\n",
       "      <th>VIP hay Free</th>\n",
       "      <th>Gender</th>\n",
       "      <th>Year of Birth</th>\n",
       "      <th>Age Range</th>\n",
       "      <th>Age</th>\n",
       "      <th>Region</th>\n",
       "      <th>Operation Systems</th>\n",
       "      <th>Registration Date</th>\n",
       "      <th>Total Listerning</th>\n",
       "      <th>Total Listening Time (Min)</th>\n",
       "    </tr>\n",
       "  </thead>\n",
       "  <tbody>\n",
       "    <tr>\n",
       "      <th>0</th>\n",
       "      <td>86229</td>\n",
       "      <td>free</td>\n",
       "      <td>male</td>\n",
       "      <td>NaN</td>\n",
       "      <td>No information</td>\n",
       "      <td>NaN</td>\n",
       "      <td>VN</td>\n",
       "      <td>android</td>\n",
       "      <td>2020-11-27</td>\n",
       "      <td>218</td>\n",
       "      <td>4151.3</td>\n",
       "    </tr>\n",
       "    <tr>\n",
       "      <th>1</th>\n",
       "      <td>48053</td>\n",
       "      <td>free</td>\n",
       "      <td>male</td>\n",
       "      <td>1995.0</td>\n",
       "      <td>25 - 34</td>\n",
       "      <td>26.0</td>\n",
       "      <td>VN</td>\n",
       "      <td>ios</td>\n",
       "      <td>2020-08-24</td>\n",
       "      <td>19</td>\n",
       "      <td>278.6</td>\n",
       "    </tr>\n",
       "    <tr>\n",
       "      <th>2</th>\n",
       "      <td>46340</td>\n",
       "      <td>free</td>\n",
       "      <td>male</td>\n",
       "      <td>1988.0</td>\n",
       "      <td>25 - 34</td>\n",
       "      <td>33.0</td>\n",
       "      <td>VN</td>\n",
       "      <td>website</td>\n",
       "      <td>2020-08-19</td>\n",
       "      <td>28</td>\n",
       "      <td>170.5</td>\n",
       "    </tr>\n",
       "  </tbody>\n",
       "</table>\n",
       "</div>"
      ],
      "text/plain": [
       "   UserID (PK) VIP hay Free Gender  Year of Birth       Age Range   Age  \\\n",
       "0        86229         free   male            NaN  No information   NaN   \n",
       "1        48053         free   male         1995.0         25 - 34  26.0   \n",
       "2        46340         free   male         1988.0         25 - 34  33.0   \n",
       "\n",
       "  Region Operation Systems Registration Date  Total Listerning  \\\n",
       "0     VN           android        2020-11-27               218   \n",
       "1     VN               ios        2020-08-24                19   \n",
       "2     VN           website        2020-08-19                28   \n",
       "\n",
       "   Total Listening Time (Min)  \n",
       "0                      4151.3  \n",
       "1                       278.6  \n",
       "2                       170.5  "
      ]
     },
     "execution_count": 46,
     "metadata": {},
     "output_type": "execute_result"
    }
   ],
   "source": [
    "user_df.head(3)"
   ]
  },
  {
   "cell_type": "code",
   "execution_count": 47,
   "metadata": {
    "scrolled": true
   },
   "outputs": [
    {
     "data": {
      "text/plain": [
       "count          66146\n",
       "unique           184\n",
       "top       2020-10-31\n",
       "freq            1219\n",
       "Name: Registration Date, dtype: object"
      ]
     },
     "execution_count": 47,
     "metadata": {},
     "output_type": "execute_result"
    }
   ],
   "source": [
    "user_df[\"Registration Date\"].describe()"
   ]
  },
  {
   "cell_type": "code",
   "execution_count": 48,
   "metadata": {},
   "outputs": [
    {
     "data": {
      "text/html": [
       "<div>\n",
       "<style scoped>\n",
       "    .dataframe tbody tr th:only-of-type {\n",
       "        vertical-align: middle;\n",
       "    }\n",
       "\n",
       "    .dataframe tbody tr th {\n",
       "        vertical-align: top;\n",
       "    }\n",
       "\n",
       "    .dataframe thead th {\n",
       "        text-align: right;\n",
       "    }\n",
       "</style>\n",
       "<table border=\"1\" class=\"dataframe\">\n",
       "  <thead>\n",
       "    <tr style=\"text-align: right;\">\n",
       "      <th></th>\n",
       "      <th>PlaylistID (PK)</th>\n",
       "      <th>Playlist Name</th>\n",
       "      <th>Category</th>\n",
       "      <th>Sub Category</th>\n",
       "      <th>Playlist Type</th>\n",
       "      <th>Playlist Duration (min)</th>\n",
       "      <th>Actual Duration (min)</th>\n",
       "      <th>UserID (FK)</th>\n",
       "      <th>Listening Time</th>\n",
       "      <th>Listening Date</th>\n",
       "      <th>Listening Datetime</th>\n",
       "      <th>Unnamed: 11</th>\n",
       "    </tr>\n",
       "  </thead>\n",
       "  <tbody>\n",
       "    <tr>\n",
       "      <th>0</th>\n",
       "      <td>4529</td>\n",
       "      <td>Dạy Tiếng Anh Cho Trẻ Mầm Non</td>\n",
       "      <td>Podcast</td>\n",
       "      <td>Học ngoại ngữ</td>\n",
       "      <td>free</td>\n",
       "      <td>44.9</td>\n",
       "      <td>0.1</td>\n",
       "      <td>82846</td>\n",
       "      <td>06:05:00</td>\n",
       "      <td>03-12-2020</td>\n",
       "      <td>2020-12-03 06:05:00</td>\n",
       "      <td>NaN</td>\n",
       "    </tr>\n",
       "    <tr>\n",
       "      <th>1</th>\n",
       "      <td>4577</td>\n",
       "      <td>Tư Duy Tích Cực - Bạn Là Những Gì Bạn Nghĩ (Nh...</td>\n",
       "      <td>Sách nói</td>\n",
       "      <td>Hạnh phúc</td>\n",
       "      <td>vip</td>\n",
       "      <td>79.8</td>\n",
       "      <td>15.9</td>\n",
       "      <td>56112</td>\n",
       "      <td>12:49:00</td>\n",
       "      <td>30-10-2020</td>\n",
       "      <td>2020-10-30 12:49:00</td>\n",
       "      <td>NaN</td>\n",
       "    </tr>\n",
       "    <tr>\n",
       "      <th>2</th>\n",
       "      <td>4169</td>\n",
       "      <td>50 thiên thần của bạn: Giải phóng bản thân khỏ...</td>\n",
       "      <td>Sách nói</td>\n",
       "      <td>Tâm linh</td>\n",
       "      <td>vip</td>\n",
       "      <td>324.8</td>\n",
       "      <td>6.8</td>\n",
       "      <td>94362</td>\n",
       "      <td>00:17:00</td>\n",
       "      <td>15-12-2020</td>\n",
       "      <td>2020-12-15 00:17:00</td>\n",
       "      <td>NaN</td>\n",
       "    </tr>\n",
       "  </tbody>\n",
       "</table>\n",
       "</div>"
      ],
      "text/plain": [
       "   PlaylistID (PK)                                      Playlist Name  \\\n",
       "0             4529                      Dạy Tiếng Anh Cho Trẻ Mầm Non   \n",
       "1             4577  Tư Duy Tích Cực - Bạn Là Những Gì Bạn Nghĩ (Nh...   \n",
       "2             4169  50 thiên thần của bạn: Giải phóng bản thân khỏ...   \n",
       "\n",
       "   Category   Sub Category Playlist Type  Playlist Duration (min)  \\\n",
       "0   Podcast  Học ngoại ngữ          free                     44.9   \n",
       "1  Sách nói      Hạnh phúc           vip                     79.8   \n",
       "2  Sách nói       Tâm linh           vip                    324.8   \n",
       "\n",
       "   Actual Duration (min)  UserID (FK) Listening Time Listening Date  \\\n",
       "0                    0.1        82846       06:05:00     03-12-2020   \n",
       "1                   15.9        56112       12:49:00     30-10-2020   \n",
       "2                    6.8        94362       00:17:00     15-12-2020   \n",
       "\n",
       "    Listening Datetime  Unnamed: 11  \n",
       "0  2020-12-03 06:05:00          NaN  \n",
       "1  2020-10-30 12:49:00          NaN  \n",
       "2  2020-12-15 00:17:00          NaN  "
      ]
     },
     "execution_count": 48,
     "metadata": {},
     "output_type": "execute_result"
    }
   ],
   "source": [
    "listening_detail_df.head(3)"
   ]
  },
  {
   "cell_type": "code",
   "execution_count": 49,
   "metadata": {},
   "outputs": [
    {
     "data": {
      "text/plain": [
       "PlaylistID (PK)              int64\n",
       "Playlist Name               object\n",
       "Category                    object\n",
       "Sub Category                object\n",
       "Playlist Type               object\n",
       "Playlist Duration (min)    float64\n",
       "Actual Duration (min)      float64\n",
       "UserID (FK)                  int64\n",
       "Listening Time              object\n",
       "Listening Date              object\n",
       "Listening Datetime          object\n",
       "Unnamed: 11                float64\n",
       "dtype: object"
      ]
     },
     "execution_count": 49,
     "metadata": {},
     "output_type": "execute_result"
    }
   ],
   "source": [
    "listening_detail_df.dtypes"
   ]
  },
  {
   "cell_type": "code",
   "execution_count": 60,
   "metadata": {},
   "outputs": [],
   "source": [
    "# # Chuyển Ngày phát sinh lượt nghe sang kiểu dữ liệu date\n",
    "# listening_detail_df[\"Listening Date\"] = listening_detail_df[\"Listening Date\"].map(\n",
    "#                                         lambda x:date(int(x.split(\"-\")[2]),int(x.split(\"-\")[1]),int(x.split(\"-\")[0])))\n",
    "listening_detail_df[\"Listening Date\"] = listening_detail_df[\"Listening Date\"].astype(\"datetime64\")"
   ]
  },
  {
   "cell_type": "code",
   "execution_count": 61,
   "metadata": {
    "scrolled": false
   },
   "outputs": [
    {
     "name": "stderr",
     "output_type": "stream",
     "text": [
      "<ipython-input-61-d0c3d75ad95d>:1: FutureWarning: Treating datetime data as categorical rather than numeric in `.describe` is deprecated and will be removed in a future version of pandas. Specify `datetime_is_numeric=True` to silence this warning and adopt the future behavior now.\n",
      "  listening_detail_df[\"Listening Date\"].describe()\n"
     ]
    },
    {
     "data": {
      "text/plain": [
       "count                  750098\n",
       "unique                    184\n",
       "top       2020-12-27 00:00:00\n",
       "freq                    10267\n",
       "first     2020-01-07 00:00:00\n",
       "last      2020-12-31 00:00:00\n",
       "Name: Listening Date, dtype: object"
      ]
     },
     "execution_count": 61,
     "metadata": {},
     "output_type": "execute_result"
    }
   ],
   "source": [
    "listening_detail_df[\"Listening Date\"].describe()"
   ]
  },
  {
   "cell_type": "markdown",
   "metadata": {},
   "source": [
    "### Lấy High Value Users"
   ]
  },
  {
   "cell_type": "code",
   "execution_count": 51,
   "metadata": {},
   "outputs": [],
   "source": [
    "clustering_df = pd.read_csv(\"data/clustering_processed.csv\")"
   ]
  },
  {
   "cell_type": "code",
   "execution_count": 7,
   "metadata": {},
   "outputs": [
    {
     "data": {
      "text/plain": [
       "Index(['User_ID (FK)', 'Type_user', 'MainCluster_ID',\n",
       "       'MainCluster_Description'],\n",
       "      dtype='object')"
      ]
     },
     "execution_count": 7,
     "metadata": {},
     "output_type": "execute_result"
    }
   ],
   "source": [
    "clustering_df.columns"
   ]
  },
  {
   "cell_type": "code",
   "execution_count": 52,
   "metadata": {},
   "outputs": [
    {
     "data": {
      "text/plain": [
       "MainCluster_ID  MainCluster_Description        \n",
       "1               Hibernating                        3093\n",
       "2               Defrost                            1185\n",
       "3               Need Attention                     6196\n",
       "4               Lost active user                   2510\n",
       "5               New User, Skimming Listeners       4256\n",
       "6               New Users, Engaging Listeners      4099\n",
       "7               Potential, Skimming Listeners      1090\n",
       "8               Potential, Engaging Listeners      1622\n",
       "9               Loyal Users, Skimming Listeners     342\n",
       "10              Loyal Users, Engaging Listeners     427\n",
       "dtype: int64"
      ]
     },
     "execution_count": 52,
     "metadata": {},
     "output_type": "execute_result"
    }
   ],
   "source": [
    "clustering_df[clustering_df['Type_user'] == 'free'].groupby(['MainCluster_ID','MainCluster_Description']).size()"
   ]
  },
  {
   "cell_type": "code",
   "execution_count": 53,
   "metadata": {},
   "outputs": [
    {
     "data": {
      "text/plain": [
       "MainCluster_ID  MainCluster_Description\n",
       "1               Churn App Users            387\n",
       "2               Need attention             175\n",
       "3               Lost Users                 254\n",
       "4               Lost High-value            119\n",
       "5               New Paid Users             424\n",
       "6               Potential Users            727\n",
       "7               Loyal Users                552\n",
       "dtype: int64"
      ]
     },
     "execution_count": 53,
     "metadata": {},
     "output_type": "execute_result"
    }
   ],
   "source": [
    "clustering_df[clustering_df['Type_user'] == 'paid'].groupby(['MainCluster_ID','MainCluster_Description']).size()"
   ]
  },
  {
   "cell_type": "code",
   "execution_count": 54,
   "metadata": {},
   "outputs": [],
   "source": [
    "## low_value user (for both free and paid users) have MainCluster_ID = 1/2/3\n",
    "low_value_cluster_ids = [1,2]\n",
    "clustering_df['Value Rank'] = clustering_df['MainCluster_ID'].map(lambda x: 'Low Value' if x in low_value_cluster_ids else 'High Value')"
   ]
  },
  {
   "cell_type": "code",
   "execution_count": 55,
   "metadata": {},
   "outputs": [
    {
     "data": {
      "text/plain": [
       "Type_user  Value Rank  MainCluster_ID\n",
       "free       High Value  3                 6196\n",
       "                       4                 2510\n",
       "                       5                 4256\n",
       "                       6                 4099\n",
       "                       7                 1090\n",
       "                       8                 1622\n",
       "                       9                  342\n",
       "                       10                 427\n",
       "           Low Value   1                 3093\n",
       "                       2                 1185\n",
       "paid       High Value  3                  254\n",
       "                       4                  119\n",
       "                       5                  424\n",
       "                       6                  727\n",
       "                       7                  552\n",
       "           Low Value   1                  387\n",
       "                       2                  175\n",
       "dtype: int64"
      ]
     },
     "execution_count": 55,
     "metadata": {},
     "output_type": "execute_result"
    }
   ],
   "source": [
    "clustering_df.groupby(['Type_user','Value Rank','MainCluster_ID']).size()"
   ]
  },
  {
   "cell_type": "markdown",
   "metadata": {},
   "source": [
    "#### Nối vào listening_detail_df"
   ]
  },
  {
   "cell_type": "code",
   "execution_count": 37,
   "metadata": {},
   "outputs": [],
   "source": [
    "# listening_detail_df_1 = listening_detail_df.copy()"
   ]
  },
  {
   "cell_type": "code",
   "execution_count": 63,
   "metadata": {},
   "outputs": [
    {
     "data": {
      "text/plain": [
       "Index(['PlaylistID (PK)', 'Playlist Name', 'Category', 'Sub Category',\n",
       "       'Playlist Type', 'Playlist Duration (min)', 'Actual Duration (min)',\n",
       "       'UserID (FK)', 'Listening Time', 'Listening Date', 'Listening Datetime',\n",
       "       'Unnamed: 11'],\n",
       "      dtype='object')"
      ]
     },
     "execution_count": 63,
     "metadata": {},
     "output_type": "execute_result"
    }
   ],
   "source": [
    "listening_detail_df.columns"
   ]
  },
  {
   "cell_type": "code",
   "execution_count": 64,
   "metadata": {},
   "outputs": [],
   "source": [
    "is_high_value = clustering_df['Value Rank'] == 'High Value'\n",
    "listening_detail_df=listening_detail_df.join(other=clustering_df[is_high_value][['User_ID (FK)','Type_user','Value Rank']].set_index('User_ID (FK)'),\n",
    "                                             on = 'UserID (FK)', how = 'inner')"
   ]
  },
  {
   "cell_type": "code",
   "execution_count": 65,
   "metadata": {},
   "outputs": [
    {
     "data": {
      "text/plain": [
       "682545"
      ]
     },
     "execution_count": 65,
     "metadata": {},
     "output_type": "execute_result"
    }
   ],
   "source": [
    "listening_detail_df.shape[0]"
   ]
  },
  {
   "cell_type": "markdown",
   "metadata": {},
   "source": [
    "\t2. Use Cases:\t\t\t\t\t\t\t\n",
    "\ta. Content Bundle: Gộp các contents liên quan để offer cho users theo bundle\t\t\t\t\t\t\t\n",
    "\t\t1. Chọn những Content Bundle của những playlist có High Content Value ở (Output 1) >> Bundle High Content Value\t\t\t\t\t\t\n",
    "\t\t2. Offer theo từng user\t\t\t\t\t\t\n",
    "\t\t\t2.1 Application\t\t\t\t\t\n",
    "\t\t\t\t2.1.1. Recommend trên trang chủ: Customize dựa trên lịch sử của người dùng, nếu là KH mới dẩy all top High Value content\t\t\t\t\n",
    "\t\t\t\t2.2.1. Improve feature mới: Thường được nghe cùng >> Recommend trong phần dưới cùng của playlist khi user search và bấm vào playlist (~cat)\t\t\t\t\n",
    "\t\t\t2.2 Streamlit\t\t\t\t\t\n",
    "\t\t\t\t2.2.1. Input list các userid\t\t\t\t\n",
    "\t\t\t\t2.2.2.\tOutput\t\t\t\n",
    "\t\t\t\t\t- List các playlist recommend cho từng user (sorting)\t\t\t"
   ]
  },
  {
   "cell_type": "markdown",
   "metadata": {},
   "source": [
    "### Lấy highly converting value content"
   ]
  },
  {
   "cell_type": "markdown",
   "metadata": {},
   "source": [
    "Những content có giá trị chuyển đổi cao là những content có thời lượng  trung bình 1 user nghe (trong vòng 2 tuần đó) trước khi chuyển đổi thành paid user  lớn hơn 20'"
   ]
  },
  {
   "cell_type": "code",
   "execution_count": 30,
   "metadata": {},
   "outputs": [
    {
     "data": {
      "text/html": [
       "<div>\n",
       "<style scoped>\n",
       "    .dataframe tbody tr th:only-of-type {\n",
       "        vertical-align: middle;\n",
       "    }\n",
       "\n",
       "    .dataframe tbody tr th {\n",
       "        vertical-align: top;\n",
       "    }\n",
       "\n",
       "    .dataframe thead th {\n",
       "        text-align: right;\n",
       "    }\n",
       "</style>\n",
       "<table border=\"1\" class=\"dataframe\">\n",
       "  <thead>\n",
       "    <tr style=\"text-align: right;\">\n",
       "      <th></th>\n",
       "      <th>User_ID</th>\n",
       "      <th>min_purchase_date</th>\n",
       "      <th>max_purchase_date</th>\n",
       "      <th>order_cnt</th>\n",
       "    </tr>\n",
       "  </thead>\n",
       "  <tbody>\n",
       "    <tr>\n",
       "      <th>0</th>\n",
       "      <td>40843</td>\n",
       "      <td>2020-09-04</td>\n",
       "      <td>2020-09-25</td>\n",
       "      <td>3</td>\n",
       "    </tr>\n",
       "    <tr>\n",
       "      <th>1</th>\n",
       "      <td>40861</td>\n",
       "      <td>2020-09-09</td>\n",
       "      <td>2020-09-09</td>\n",
       "      <td>1</td>\n",
       "    </tr>\n",
       "    <tr>\n",
       "      <th>2</th>\n",
       "      <td>41003</td>\n",
       "      <td>2020-10-27</td>\n",
       "      <td>2020-10-27</td>\n",
       "      <td>1</td>\n",
       "    </tr>\n",
       "  </tbody>\n",
       "</table>\n",
       "</div>"
      ],
      "text/plain": [
       "   User_ID min_purchase_date max_purchase_date  order_cnt\n",
       "0    40843        2020-09-04        2020-09-25          3\n",
       "1    40861        2020-09-09        2020-09-09          1\n",
       "2    41003        2020-10-27        2020-10-27          1"
      ]
     },
     "execution_count": 30,
     "metadata": {},
     "output_type": "execute_result"
    }
   ],
   "source": [
    "order_summary_df.head(3)"
   ]
  },
  {
   "cell_type": "code",
   "execution_count": 31,
   "metadata": {},
   "outputs": [
    {
     "data": {
      "text/plain": [
       "Index(['PlaylistID (PK)', 'Playlist Name', 'Category', 'Sub Category',\n",
       "       'Playlist Type', 'Playlist Duration (min)', 'Actual Duration (min)',\n",
       "       'UserID (FK)', 'Listening Time', 'Listening Date', 'Listening Datetime',\n",
       "       'Unnamed: 11', 'Type_user', 'Value Rank'],\n",
       "      dtype='object')"
      ]
     },
     "execution_count": 31,
     "metadata": {},
     "output_type": "execute_result"
    }
   ],
   "source": [
    "listening_detail_df.columns"
   ]
  },
  {
   "cell_type": "code",
   "execution_count": 66,
   "metadata": {},
   "outputs": [],
   "source": [
    "listen_pay_user_df = listening_detail_df.join(other=order_summary_df[[\"User_ID\",\"min_purchase_date\"]].set_index(\"User_ID\"),\n",
    "                                             how=\"inner\",on=\"UserID (FK)\")"
   ]
  },
  {
   "cell_type": "code",
   "execution_count": 67,
   "metadata": {},
   "outputs": [
    {
     "data": {
      "text/plain": [
       "Index(['PlaylistID (PK)', 'Playlist Name', 'Category', 'Sub Category',\n",
       "       'Playlist Type', 'Playlist Duration (min)', 'Actual Duration (min)',\n",
       "       'UserID (FK)', 'Listening Time', 'Listening Date', 'Listening Datetime',\n",
       "       'Unnamed: 11', 'Type_user', 'Value Rank', 'min_purchase_date',\n",
       "       'botton_date'],\n",
       "      dtype='object')"
      ]
     },
     "execution_count": 67,
     "metadata": {},
     "output_type": "execute_result"
    }
   ],
   "source": [
    "listen_pay_user_df[\"botton_date\"]=listen_pay_user_df[\"min_purchase_date\"].map(lambda x: (x - dt.timedelta(days = 14)))\n",
    "listen_pay_user_df[\"botton_date\"]=listen_pay_user_df[\"botton_date\"].astype(\"datetime64\")\n",
    "listen_pay_user_df.columns"
   ]
  },
  {
   "cell_type": "markdown",
   "metadata": {},
   "source": [
    "##### Lấy những content được nghe trước ngày có first order trong vòng 2 tuần"
   ]
  },
  {
   "cell_type": "code",
   "execution_count": 68,
   "metadata": {},
   "outputs": [],
   "source": [
    "hv_content_df = listen_pay_user_df[listen_pay_user_df[\"Listening Date\"] > listen_pay_user_df[\"botton_date\"]]\n",
    "hv_content_df = hv_content_df [hv_content_df[\"Listening Date\"]<hv_content_df[\"min_purchase_date\"]]"
   ]
  },
  {
   "cell_type": "code",
   "execution_count": 69,
   "metadata": {},
   "outputs": [],
   "source": [
    "hv_content_df= hv_content_df[['PlaylistID (PK)', 'Playlist Name', 'Category', 'Sub Category','Actual Duration (min)','UserID (FK)']]"
   ]
  },
  {
   "cell_type": "markdown",
   "metadata": {},
   "source": [
    "##### Tìm những playlists có thời lượng  trung bình 1 user nghe (trong vòng 2 tuần đó) trước khi chuyển đổi thành paid user  lớn hơn 20'"
   ]
  },
  {
   "cell_type": "code",
   "execution_count": 70,
   "metadata": {},
   "outputs": [],
   "source": [
    "hv_content_summary_df=hv_content_df.groupby(['PlaylistID (PK)','Playlist Name','Category', 'Sub Category','UserID (FK)']).agg(\n",
    "    {'Actual Duration (min)': 'sum'}).reset_index()\n",
    "hv_content_summary_df.columns = ['PlaylistID','PlaylistName','Category', 'SubCategory','UserID','TotalDuration']"
   ]
  },
  {
   "cell_type": "code",
   "execution_count": 71,
   "metadata": {},
   "outputs": [],
   "source": [
    "hv_convert_content_df=hv_content_summary_df.groupby([\"PlaylistID\",\"PlaylistName\",'Category', 'SubCategory']).agg({\"TotalDuration\":\"mean\"}).reset_index()\n",
    "hv_convert_content_df.columns=[\"PlaylistID\",\"PlaylistName\",'Category', 'SubCategory',\"AvgDuration\"]\n",
    "hv_convert_content_df=hv_convert_content_df.sort_values(by=[\"AvgDuration\"],ascending = False)"
   ]
  },
  {
   "cell_type": "code",
   "execution_count": 72,
   "metadata": {},
   "outputs": [],
   "source": [
    "hv_convert_content_df=hv_convert_content_df.sort_values(by=[\"AvgDuration\"],ascending = False)"
   ]
  },
  {
   "cell_type": "code",
   "execution_count": 73,
   "metadata": {},
   "outputs": [
    {
     "data": {
      "text/plain": [
       "414"
      ]
     },
     "execution_count": 73,
     "metadata": {},
     "output_type": "execute_result"
    }
   ],
   "source": [
    "kq=hv_convert_content_df[hv_convert_content_df[\"AvgDuration\"]>=20]\n",
    "kq.shape[0]"
   ]
  },
  {
   "cell_type": "code",
   "execution_count": 74,
   "metadata": {
    "scrolled": true
   },
   "outputs": [
    {
     "data": {
      "text/html": [
       "<div>\n",
       "<style scoped>\n",
       "    .dataframe tbody tr th:only-of-type {\n",
       "        vertical-align: middle;\n",
       "    }\n",
       "\n",
       "    .dataframe tbody tr th {\n",
       "        vertical-align: top;\n",
       "    }\n",
       "\n",
       "    .dataframe thead th {\n",
       "        text-align: right;\n",
       "    }\n",
       "</style>\n",
       "<table border=\"1\" class=\"dataframe\">\n",
       "  <thead>\n",
       "    <tr style=\"text-align: right;\">\n",
       "      <th></th>\n",
       "      <th>PlaylistID</th>\n",
       "      <th>PlaylistName</th>\n",
       "      <th>Category</th>\n",
       "      <th>SubCategory</th>\n",
       "      <th>AvgDuration</th>\n",
       "    </tr>\n",
       "  </thead>\n",
       "  <tbody>\n",
       "    <tr>\n",
       "      <th>count</th>\n",
       "      <td>948.000000</td>\n",
       "      <td>948</td>\n",
       "      <td>948</td>\n",
       "      <td>948</td>\n",
       "      <td>948.000000</td>\n",
       "    </tr>\n",
       "    <tr>\n",
       "      <th>unique</th>\n",
       "      <td>NaN</td>\n",
       "      <td>948</td>\n",
       "      <td>5</td>\n",
       "      <td>31</td>\n",
       "      <td>NaN</td>\n",
       "    </tr>\n",
       "    <tr>\n",
       "      <th>top</th>\n",
       "      <td>NaN</td>\n",
       "      <td>10 Đức Tính Cần Có Của Người Xuất Gia</td>\n",
       "      <td>Sách nói</td>\n",
       "      <td>Thiếu nhi</td>\n",
       "      <td>NaN</td>\n",
       "    </tr>\n",
       "    <tr>\n",
       "      <th>freq</th>\n",
       "      <td>NaN</td>\n",
       "      <td>1</td>\n",
       "      <td>449</td>\n",
       "      <td>106</td>\n",
       "      <td>NaN</td>\n",
       "    </tr>\n",
       "    <tr>\n",
       "      <th>mean</th>\n",
       "      <td>4596.553797</td>\n",
       "      <td>NaN</td>\n",
       "      <td>NaN</td>\n",
       "      <td>NaN</td>\n",
       "      <td>23.422683</td>\n",
       "    </tr>\n",
       "    <tr>\n",
       "      <th>std</th>\n",
       "      <td>386.071764</td>\n",
       "      <td>NaN</td>\n",
       "      <td>NaN</td>\n",
       "      <td>NaN</td>\n",
       "      <td>24.673593</td>\n",
       "    </tr>\n",
       "    <tr>\n",
       "      <th>min</th>\n",
       "      <td>3808.000000</td>\n",
       "      <td>NaN</td>\n",
       "      <td>NaN</td>\n",
       "      <td>NaN</td>\n",
       "      <td>0.000000</td>\n",
       "    </tr>\n",
       "    <tr>\n",
       "      <th>25%</th>\n",
       "      <td>4305.750000</td>\n",
       "      <td>NaN</td>\n",
       "      <td>NaN</td>\n",
       "      <td>NaN</td>\n",
       "      <td>8.044643</td>\n",
       "    </tr>\n",
       "    <tr>\n",
       "      <th>50%</th>\n",
       "      <td>4602.500000</td>\n",
       "      <td>NaN</td>\n",
       "      <td>NaN</td>\n",
       "      <td>NaN</td>\n",
       "      <td>16.916667</td>\n",
       "    </tr>\n",
       "    <tr>\n",
       "      <th>75%</th>\n",
       "      <td>4917.250000</td>\n",
       "      <td>NaN</td>\n",
       "      <td>NaN</td>\n",
       "      <td>NaN</td>\n",
       "      <td>31.450526</td>\n",
       "    </tr>\n",
       "    <tr>\n",
       "      <th>max</th>\n",
       "      <td>5438.000000</td>\n",
       "      <td>NaN</td>\n",
       "      <td>NaN</td>\n",
       "      <td>NaN</td>\n",
       "      <td>237.533333</td>\n",
       "    </tr>\n",
       "  </tbody>\n",
       "</table>\n",
       "</div>"
      ],
      "text/plain": [
       "         PlaylistID                           PlaylistName  Category  \\\n",
       "count    948.000000                                    948       948   \n",
       "unique          NaN                                    948         5   \n",
       "top             NaN  10 Đức Tính Cần Có Của Người Xuất Gia  Sách nói   \n",
       "freq            NaN                                      1       449   \n",
       "mean    4596.553797                                    NaN       NaN   \n",
       "std      386.071764                                    NaN       NaN   \n",
       "min     3808.000000                                    NaN       NaN   \n",
       "25%     4305.750000                                    NaN       NaN   \n",
       "50%     4602.500000                                    NaN       NaN   \n",
       "75%     4917.250000                                    NaN       NaN   \n",
       "max     5438.000000                                    NaN       NaN   \n",
       "\n",
       "       SubCategory  AvgDuration  \n",
       "count          948   948.000000  \n",
       "unique          31          NaN  \n",
       "top      Thiếu nhi          NaN  \n",
       "freq           106          NaN  \n",
       "mean           NaN    23.422683  \n",
       "std            NaN    24.673593  \n",
       "min            NaN     0.000000  \n",
       "25%            NaN     8.044643  \n",
       "50%            NaN    16.916667  \n",
       "75%            NaN    31.450526  \n",
       "max            NaN   237.533333  "
      ]
     },
     "execution_count": 74,
     "metadata": {},
     "output_type": "execute_result"
    }
   ],
   "source": [
    "hv_convert_content_df.describe(include=\"all\")"
   ]
  },
  {
   "cell_type": "code",
   "execution_count": 75,
   "metadata": {},
   "outputs": [
    {
     "data": {
      "text/html": [
       "<div>\n",
       "<style scoped>\n",
       "    .dataframe tbody tr th:only-of-type {\n",
       "        vertical-align: middle;\n",
       "    }\n",
       "\n",
       "    .dataframe tbody tr th {\n",
       "        vertical-align: top;\n",
       "    }\n",
       "\n",
       "    .dataframe thead th {\n",
       "        text-align: right;\n",
       "    }\n",
       "</style>\n",
       "<table border=\"1\" class=\"dataframe\">\n",
       "  <thead>\n",
       "    <tr style=\"text-align: right;\">\n",
       "      <th></th>\n",
       "      <th>PlaylistID</th>\n",
       "      <th>PlaylistName</th>\n",
       "      <th>Category</th>\n",
       "      <th>SubCategory</th>\n",
       "      <th>AvgDuration</th>\n",
       "    </tr>\n",
       "  </thead>\n",
       "  <tbody>\n",
       "    <tr>\n",
       "      <th>count</th>\n",
       "      <td>414.000000</td>\n",
       "      <td>414</td>\n",
       "      <td>414</td>\n",
       "      <td>414</td>\n",
       "      <td>414.000000</td>\n",
       "    </tr>\n",
       "    <tr>\n",
       "      <th>unique</th>\n",
       "      <td>NaN</td>\n",
       "      <td>414</td>\n",
       "      <td>5</td>\n",
       "      <td>28</td>\n",
       "      <td>NaN</td>\n",
       "    </tr>\n",
       "    <tr>\n",
       "      <th>top</th>\n",
       "      <td>NaN</td>\n",
       "      <td>69</td>\n",
       "      <td>Sách nói</td>\n",
       "      <td>Thành công</td>\n",
       "      <td>NaN</td>\n",
       "    </tr>\n",
       "    <tr>\n",
       "      <th>freq</th>\n",
       "      <td>NaN</td>\n",
       "      <td>1</td>\n",
       "      <td>263</td>\n",
       "      <td>47</td>\n",
       "      <td>NaN</td>\n",
       "    </tr>\n",
       "    <tr>\n",
       "      <th>mean</th>\n",
       "      <td>4628.154589</td>\n",
       "      <td>NaN</td>\n",
       "      <td>NaN</td>\n",
       "      <td>NaN</td>\n",
       "      <td>41.831872</td>\n",
       "    </tr>\n",
       "    <tr>\n",
       "      <th>std</th>\n",
       "      <td>393.658362</td>\n",
       "      <td>NaN</td>\n",
       "      <td>NaN</td>\n",
       "      <td>NaN</td>\n",
       "      <td>27.354147</td>\n",
       "    </tr>\n",
       "    <tr>\n",
       "      <th>min</th>\n",
       "      <td>3808.000000</td>\n",
       "      <td>NaN</td>\n",
       "      <td>NaN</td>\n",
       "      <td>NaN</td>\n",
       "      <td>20.000000</td>\n",
       "    </tr>\n",
       "    <tr>\n",
       "      <th>25%</th>\n",
       "      <td>4291.500000</td>\n",
       "      <td>NaN</td>\n",
       "      <td>NaN</td>\n",
       "      <td>NaN</td>\n",
       "      <td>25.885417</td>\n",
       "    </tr>\n",
       "    <tr>\n",
       "      <th>50%</th>\n",
       "      <td>4703.500000</td>\n",
       "      <td>NaN</td>\n",
       "      <td>NaN</td>\n",
       "      <td>NaN</td>\n",
       "      <td>33.980000</td>\n",
       "    </tr>\n",
       "    <tr>\n",
       "      <th>75%</th>\n",
       "      <td>4945.250000</td>\n",
       "      <td>NaN</td>\n",
       "      <td>NaN</td>\n",
       "      <td>NaN</td>\n",
       "      <td>47.075000</td>\n",
       "    </tr>\n",
       "    <tr>\n",
       "      <th>max</th>\n",
       "      <td>5426.000000</td>\n",
       "      <td>NaN</td>\n",
       "      <td>NaN</td>\n",
       "      <td>NaN</td>\n",
       "      <td>237.533333</td>\n",
       "    </tr>\n",
       "  </tbody>\n",
       "</table>\n",
       "</div>"
      ],
      "text/plain": [
       "         PlaylistID PlaylistName  Category SubCategory  AvgDuration\n",
       "count    414.000000          414       414         414   414.000000\n",
       "unique          NaN          414         5          28          NaN\n",
       "top             NaN           69  Sách nói  Thành công          NaN\n",
       "freq            NaN            1       263          47          NaN\n",
       "mean    4628.154589          NaN       NaN         NaN    41.831872\n",
       "std      393.658362          NaN       NaN         NaN    27.354147\n",
       "min     3808.000000          NaN       NaN         NaN    20.000000\n",
       "25%     4291.500000          NaN       NaN         NaN    25.885417\n",
       "50%     4703.500000          NaN       NaN         NaN    33.980000\n",
       "75%     4945.250000          NaN       NaN         NaN    47.075000\n",
       "max     5426.000000          NaN       NaN         NaN   237.533333"
      ]
     },
     "execution_count": 75,
     "metadata": {},
     "output_type": "execute_result"
    }
   ],
   "source": [
    "kq.describe(include=\"all\")"
   ]
  },
  {
   "cell_type": "code",
   "execution_count": 76,
   "metadata": {},
   "outputs": [
    {
     "data": {
      "text/plain": [
       "SubCategory\n",
       "Con cái                     16\n",
       "Công nghệ                    3\n",
       "Danh nhân                   11\n",
       "Hạnh phúc                   31\n",
       "Học ngoại ngữ                2\n",
       "Kinh doanh                  29\n",
       "Kinh dị                      3\n",
       "Kinh điển Quốc tế           20\n",
       "Kinh điển Việt Nam          20\n",
       "Kiến thức                    7\n",
       "Kỹ năng                     34\n",
       "Lãnh đạo                    14\n",
       "Lịch sử                      8\n",
       "Lứa đôi                     13\n",
       "Marketing                   11\n",
       "Ngôn tình                   11\n",
       "Pháp thoại                  15\n",
       "Sách tóm tắt                26\n",
       "Sức khoẻ                     5\n",
       "Thiếu nhi                   13\n",
       "Thành công                  47\n",
       "Trinh thám                   9\n",
       "Tâm linh                    38\n",
       "Tâm lý                       3\n",
       "Tâm sự                       2\n",
       "Văn hoá                      2\n",
       "Văn học Quốc tế Hiện đại    11\n",
       "Văn học VN Hiện đại         10\n",
       "dtype: int64"
      ]
     },
     "execution_count": 76,
     "metadata": {},
     "output_type": "execute_result"
    }
   ],
   "source": [
    "kq.groupby(\"SubCategory\").size()"
   ]
  },
  {
   "cell_type": "code",
   "execution_count": 91,
   "metadata": {},
   "outputs": [],
   "source": [
    "kq.to_csv(\"streamlit_data/hv_convert_content.csv\",index=False)"
   ]
  },
  {
   "cell_type": "markdown",
   "metadata": {},
   "source": [
    "### Basket_analysis - Chọn những nội dung hay nghe cùng nhau"
   ]
  },
  {
   "cell_type": "code",
   "execution_count": 92,
   "metadata": {},
   "outputs": [],
   "source": [
    "## đọc kết quả basket analysis\n",
    "basket_df=pd.read_excel(\"streamlit_data/basket_output.xlsx\")"
   ]
  },
  {
   "cell_type": "code",
   "execution_count": 79,
   "metadata": {
    "scrolled": true
   },
   "outputs": [
    {
     "data": {
      "text/html": [
       "<div>\n",
       "<style scoped>\n",
       "    .dataframe tbody tr th:only-of-type {\n",
       "        vertical-align: middle;\n",
       "    }\n",
       "\n",
       "    .dataframe tbody tr th {\n",
       "        vertical-align: top;\n",
       "    }\n",
       "\n",
       "    .dataframe thead th {\n",
       "        text-align: right;\n",
       "    }\n",
       "</style>\n",
       "<table border=\"1\" class=\"dataframe\">\n",
       "  <thead>\n",
       "    <tr style=\"text-align: right;\">\n",
       "      <th></th>\n",
       "      <th>PlaylistID</th>\n",
       "      <th>PlaylistName</th>\n",
       "      <th>Category</th>\n",
       "      <th>SubCategory</th>\n",
       "      <th>AvgDuration</th>\n",
       "    </tr>\n",
       "  </thead>\n",
       "  <tbody>\n",
       "    <tr>\n",
       "      <th>804</th>\n",
       "      <td>5036</td>\n",
       "      <td>Cạm Bẫy Trong Quản Lý</td>\n",
       "      <td>Sách nói</td>\n",
       "      <td>Lãnh đạo</td>\n",
       "      <td>237.533333</td>\n",
       "    </tr>\n",
       "    <tr>\n",
       "      <th>917</th>\n",
       "      <td>5195</td>\n",
       "      <td>Hỏa Ngục</td>\n",
       "      <td>Truyện nói</td>\n",
       "      <td>Trinh thám</td>\n",
       "      <td>220.712500</td>\n",
       "    </tr>\n",
       "    <tr>\n",
       "      <th>529</th>\n",
       "      <td>4679</td>\n",
       "      <td>Sức mạnh của ngôn từ</td>\n",
       "      <td>Sách nói</td>\n",
       "      <td>Kỹ năng</td>\n",
       "      <td>208.866667</td>\n",
       "    </tr>\n",
       "  </tbody>\n",
       "</table>\n",
       "</div>"
      ],
      "text/plain": [
       "     PlaylistID           PlaylistName    Category SubCategory  AvgDuration\n",
       "804        5036  Cạm Bẫy Trong Quản Lý    Sách nói    Lãnh đạo   237.533333\n",
       "917        5195               Hỏa Ngục  Truyện nói  Trinh thám   220.712500\n",
       "529        4679   Sức mạnh của ngôn từ    Sách nói     Kỹ năng   208.866667"
      ]
     },
     "execution_count": 79,
     "metadata": {},
     "output_type": "execute_result"
    }
   ],
   "source": [
    "hv_convert_content_df.head(3)"
   ]
  },
  {
   "cell_type": "markdown",
   "metadata": {},
   "source": [
    "## Content Bundle\n",
    " Cho UserID --> recommend content cho user\n"
   ]
  },
  {
   "cell_type": "markdown",
   "metadata": {},
   "source": [
    "### 1. Recommend list based on historycal playlist and basket analysis"
   ]
  },
  {
   "cell_type": "code",
   "execution_count": 230,
   "metadata": {},
   "outputs": [
    {
     "data": {
      "text/plain": [
       "Index(['PlaylistID (PK)', 'Playlist Name', 'Category', 'Sub Category',\n",
       "       'Playlist Type', 'Playlist Duration (min)', 'Actual Duration (min)',\n",
       "       'UserID (FK)', 'Listening Time', 'Listening Date', 'Listening Datetime',\n",
       "       'Unnamed: 11', 'Type_user'],\n",
       "      dtype='object')"
      ]
     },
     "execution_count": 230,
     "metadata": {},
     "output_type": "execute_result"
    }
   ],
   "source": [
    "listening_detail_df.columns"
   ]
  },
  {
   "cell_type": "code",
   "execution_count": 210,
   "metadata": {
    "scrolled": true
   },
   "outputs": [
    {
     "data": {
      "text/plain": [
       "750098"
      ]
     },
     "execution_count": 210,
     "metadata": {},
     "output_type": "execute_result"
    }
   ],
   "source": [
    "listening_detail_df.shape[0]"
   ]
  },
  {
   "cell_type": "code",
   "execution_count": 80,
   "metadata": {},
   "outputs": [
    {
     "data": {
      "text/plain": [
       "462582"
      ]
     },
     "execution_count": 80,
     "metadata": {},
     "output_type": "execute_result"
    }
   ],
   "source": [
    "listen_free_user_df = listening_detail_df.join(other=order_summary_df[[\"User_ID\",\"min_purchase_date\"]].set_index(\"User_ID\"),\n",
    "                                             how=\"left\",on=\"UserID (FK)\")\n",
    "listen_free_user_df = listen_free_user_df[listen_free_user_df[\"min_purchase_date\"].isnull()]\n",
    "listen_free_user_df.shape[0]"
   ]
  },
  {
   "cell_type": "code",
   "execution_count": 232,
   "metadata": {
    "scrolled": true
   },
   "outputs": [
    {
     "data": {
      "text/plain": [
       "Index(['PlaylistID (PK)', 'Playlist Name', 'Category', 'Sub Category',\n",
       "       'Playlist Type', 'Playlist Duration (min)', 'Actual Duration (min)',\n",
       "       'UserID (FK)', 'Listening Time', 'Listening Date', 'Listening Datetime',\n",
       "       'Unnamed: 11', 'Type_user', 'min_purchase_date'],\n",
       "      dtype='object')"
      ]
     },
     "execution_count": 232,
     "metadata": {},
     "output_type": "execute_result"
    }
   ],
   "source": [
    "listen_free_user_df.columns"
   ]
  },
  {
   "cell_type": "markdown",
   "metadata": {},
   "source": [
    "### Recommendation Playlists"
   ]
  },
  {
   "cell_type": "code",
   "execution_count": 82,
   "metadata": {},
   "outputs": [],
   "source": [
    "## Function suggest together_playlists base on basket analysis\n",
    "\n",
    "def define_hardPlaylist(user_id, listen_free_user_df):\n",
    "    df = listen_free_user_df[listen_free_user_df[\"UserID (FK)\"]==user_id]\n",
    "    bottom_date = df[\"Listening Date\"].max() -dt.timedelta(days = 14)\n",
    "    playlist = df[df[\"Listening Date\"]>bottom_date]\n",
    "    playlist_summary=playlist.groupby([\"UserID (FK)\",\"PlaylistID (PK)\",\"Playlist Name\"]).agg(\n",
    "    {\"Actual Duration (min)\":[\"sum\"]}).reset_index()\n",
    "    playlist_summary.columns=[\"UserID\",\"PlaylistID\",\"PlaylistName\",\"TotalDuration\"]\n",
    "    hard_playlist= playlist_summary.loc[playlist_summary[\"TotalDuration\"].idxmax(),[\"PlaylistID\",\"PlaylistName\"]]\n",
    "    return hard_playlist[1]\n",
    "\n",
    "def suggest_together_playlists(user_id,listen_free_user_df):\n",
    "    playlist = define_hardPlaylist(user_id, listen_free_user_df)\n",
    "    together_playlists = basket_df[basket_df[\"antecedents\"] == playlist][\"next playlist\"].to_list()\n",
    "    if len(together_playlists)>1:\n",
    "        return (together_playlists[0].split(\",\"))\n",
    "    else:\n",
    "        return (together_playlists)\n",
    "        \n",
    "def extract_high_value(x,high_value_user):\n",
    "#     high_value_user = listening_df[listening_df['Value Rank'] == 'High Value']\n",
    "    high_value_user_filter = high_value_user[high_value_user['UserID (FK)'] == x]\n",
    "    last_listening = high_value_user_filter.groupby(by='UserID (FK)')['Listening Date'].max().reset_index()\n",
    "    last_listening.columns = ['UserID (FK)','Last Listening Date']\n",
    "    test = pd.merge(high_value_user_filter, last_listening, how='left', on= 'UserID (FK)')\n",
    "    test['Last Listening Date'] = test['Last Listening Date'].astype('datetime64')\n",
    "    test['time window'] = (test['Last Listening Date'] - test['Listening Date']).dt.days\n",
    "    test = test[test['time window'] <= 14]\n",
    "    test = test.groupby(by=['UserID (FK)', 'Sub Category'])['PlaylistID (PK)'].count().reset_index()\n",
    "    test.columns = ['UserID (FK)', 'Sub Category', 'Listening Count']\n",
    "    test = test[test['Listening Count'] == test['Listening Count'].max()]\n",
    "    test = pd.merge(test, hv_convert_content_df[['PlaylistID','PlaylistName', 'Category', 'SubCategory' , 'AvgDuration']], how='left', left_on='Sub Category', right_on = 'SubCategory' )\n",
    "    lst = test['PlaylistName'].tolist()\n",
    "    \n",
    "    return lst\n",
    "\n",
    "def recommend_playlists(user_id, listen_free_user_df):\n",
    "    lst1 = extract_high_value(user_id,listen_free_user_df)\n",
    "    lst2 = suggest_together_playlists(user_id,listen_free_user_df)\n",
    "    lst3 = lst1 + lst2\n",
    "    newlist=[ii for n,ii in enumerate(lst3) if ii not in lst3[:n]]\n",
    "    \n",
    "    return ((newlist[:3]+newlist[-3:]) if len(newlist)>6 else newlist )"
   ]
  },
  {
   "cell_type": "code",
   "execution_count": 123,
   "metadata": {},
   "outputs": [],
   "source": [
    "# listen_free_user_df.to_csv(\"data/export/listen_free_user_df.csv\")\n",
    "# listening_detail_df.to_csv(\"data/export/listening_detail_df.csv\")"
   ]
  },
  {
   "cell_type": "code",
   "execution_count": null,
   "metadata": {},
   "outputs": [],
   "source": [
    "##### Thử chạy cho 10 free users"
   ]
  },
  {
   "cell_type": "code",
   "execution_count": 84,
   "metadata": {},
   "outputs": [
    {
     "data": {
      "text/html": [
       "<div>\n",
       "<style scoped>\n",
       "    .dataframe tbody tr th:only-of-type {\n",
       "        vertical-align: middle;\n",
       "    }\n",
       "\n",
       "    .dataframe tbody tr th {\n",
       "        vertical-align: top;\n",
       "    }\n",
       "\n",
       "    .dataframe thead th {\n",
       "        text-align: right;\n",
       "    }\n",
       "</style>\n",
       "<table border=\"1\" class=\"dataframe\">\n",
       "  <thead>\n",
       "    <tr style=\"text-align: right;\">\n",
       "      <th></th>\n",
       "      <th>User_ID</th>\n",
       "      <th>RecommendPlaylists</th>\n",
       "    </tr>\n",
       "  </thead>\n",
       "  <tbody>\n",
       "    <tr>\n",
       "      <th>0</th>\n",
       "      <td>82846</td>\n",
       "      <td>(Tin Vào Chính Mình (Eng), Đúng Việc, Nghĩ Lớn...</td>\n",
       "    </tr>\n",
       "    <tr>\n",
       "      <th>1</th>\n",
       "      <td>56112</td>\n",
       "      <td>(Sức mạnh của ngôn từ, Tại sao cần đơn giản?, ...</td>\n",
       "    </tr>\n",
       "    <tr>\n",
       "      <th>2</th>\n",
       "      <td>94362</td>\n",
       "      <td>(Muôn Kiếp Nhân Sinh - Tập 1, Tháo Dây Oan Trá...</td>\n",
       "    </tr>\n",
       "    <tr>\n",
       "      <th>3</th>\n",
       "      <td>85469</td>\n",
       "      <td>([Sách Tóm Tắt] Chú Chó Nhìn Thấy Gì, [Sách Tó...</td>\n",
       "    </tr>\n",
       "    <tr>\n",
       "      <th>4</th>\n",
       "      <td>87429</td>\n",
       "      <td>(Nhạc Tập Trung Làm Việc, Học Tập, Nhạc Thư Gi...</td>\n",
       "    </tr>\n",
       "    <tr>\n",
       "      <th>5</th>\n",
       "      <td>64413</td>\n",
       "      <td>(Dê Con Nhanh Trí, Ông già và biển cả, Umbalen...</td>\n",
       "    </tr>\n",
       "    <tr>\n",
       "      <th>6</th>\n",
       "      <td>69697</td>\n",
       "      <td>(Điểm Tin Trong Nước, Độc Đáo TV - Tin tức hàn...</td>\n",
       "    </tr>\n",
       "    <tr>\n",
       "      <th>7</th>\n",
       "      <td>78301</td>\n",
       "      <td>(Tin Vào Chính Mình (Eng), Đúng Việc, Nghĩ Lớn...</td>\n",
       "    </tr>\n",
       "    <tr>\n",
       "      <th>8</th>\n",
       "      <td>64148</td>\n",
       "      <td>([Sách Tóm Tắt] Chú Chó Nhìn Thấy Gì, [Sách Tó...</td>\n",
       "    </tr>\n",
       "    <tr>\n",
       "      <th>9</th>\n",
       "      <td>42445</td>\n",
       "      <td>(Tiệm Bánh Mì Podcast, Tây Sơn Ký: Những câu c...</td>\n",
       "    </tr>\n",
       "  </tbody>\n",
       "</table>\n",
       "</div>"
      ],
      "text/plain": [
       "   User_ID                                 RecommendPlaylists\n",
       "0    82846  (Tin Vào Chính Mình (Eng), Đúng Việc, Nghĩ Lớn...\n",
       "1    56112  (Sức mạnh của ngôn từ, Tại sao cần đơn giản?, ...\n",
       "2    94362  (Muôn Kiếp Nhân Sinh - Tập 1, Tháo Dây Oan Trá...\n",
       "3    85469  ([Sách Tóm Tắt] Chú Chó Nhìn Thấy Gì, [Sách Tó...\n",
       "4    87429  (Nhạc Tập Trung Làm Việc, Học Tập, Nhạc Thư Gi...\n",
       "5    64413  (Dê Con Nhanh Trí, Ông già và biển cả, Umbalen...\n",
       "6    69697  (Điểm Tin Trong Nước, Độc Đáo TV - Tin tức hàn...\n",
       "7    78301  (Tin Vào Chính Mình (Eng), Đúng Việc, Nghĩ Lớn...\n",
       "8    64148  ([Sách Tóm Tắt] Chú Chó Nhìn Thấy Gì, [Sách Tó...\n",
       "9    42445  (Tiệm Bánh Mì Podcast, Tây Sơn Ký: Những câu c..."
      ]
     },
     "execution_count": 84,
     "metadata": {},
     "output_type": "execute_result"
    }
   ],
   "source": [
    "users_lst = listen_free_user_df['UserID (FK)'].unique().tolist()[:10]\n",
    "recomemend_lst = {}\n",
    "for user in users_lst:\n",
    "    recomemend_lst[user] = recommend_playlists(user,listen_free_user_df) \n",
    "recomemend_df = pd.DataFrame()\n",
    "recomemend_df[\"User_ID\"]=recomemend_lst.keys()\n",
    "recomemend_df[\"RecommendPlaylists\"]=recomemend_lst.values()\n",
    "recomemend_df"
   ]
  },
  {
   "cell_type": "markdown",
   "metadata": {},
   "source": [
    "#### Lấy clustering name cho free user kèm theo clustering"
   ]
  },
  {
   "cell_type": "code",
   "execution_count": 85,
   "metadata": {},
   "outputs": [
    {
     "data": {
      "text/plain": [
       "Index(['User_ID (FK)', 'Type_user', 'MainCluster_ID',\n",
       "       'MainCluster_Description', 'Value Rank'],\n",
       "      dtype='object')"
      ]
     },
     "execution_count": 85,
     "metadata": {},
     "output_type": "execute_result"
    }
   ],
   "source": [
    "clustering_df.columns"
   ]
  },
  {
   "cell_type": "code",
   "execution_count": 86,
   "metadata": {},
   "outputs": [],
   "source": [
    "free_clustering_df = clustering_df[clustering_df[\"Type_user\"]==\"free\"]"
   ]
  },
  {
   "cell_type": "code",
   "execution_count": 87,
   "metadata": {
    "scrolled": true
   },
   "outputs": [
    {
     "data": {
      "text/plain": [
       "array(['High Value'], dtype=object)"
      ]
     },
     "execution_count": 87,
     "metadata": {},
     "output_type": "execute_result"
    }
   ],
   "source": [
    "listen_free_user_df ['Value Rank'].unique()"
   ]
  },
  {
   "cell_type": "markdown",
   "metadata": {},
   "source": [
    "#### Ghi vào file"
   ]
  },
  {
   "cell_type": "code",
   "execution_count": 88,
   "metadata": {},
   "outputs": [],
   "source": [
    "listen_free_user_df = listen_free_user_df.join(other=free_clustering_df[[\"User_ID (FK)\",'MainCluster_ID','MainCluster_Description']].set_index(\"User_ID (FK)\"),\n",
    "                        how = \"inner\", on = \"UserID (FK)\")\n",
    "listen_free_user_df.to_csv(\"streamlit_data/listen_free_user_df.csv\",index= False)"
   ]
  },
  {
   "cell_type": "markdown",
   "metadata": {},
   "source": [
    "##### xem thử các clusters trong free users như thế nào"
   ]
  },
  {
   "cell_type": "code",
   "execution_count": 89,
   "metadata": {},
   "outputs": [],
   "source": [
    "cluster = listen_free_user_df.groupby([\"MainCluster_ID\",\"MainCluster_Description\"]).agg({\"UserID (FK)\":\"count\"}).reset_index()\n",
    "\n",
    "cluster.columns=[\"MainCluster_ID\",\"MainCluster_Description\",\"#\"]"
   ]
  },
  {
   "cell_type": "code",
   "execution_count": 90,
   "metadata": {},
   "outputs": [
    {
     "data": {
      "text/html": [
       "<div>\n",
       "<style scoped>\n",
       "    .dataframe tbody tr th:only-of-type {\n",
       "        vertical-align: middle;\n",
       "    }\n",
       "\n",
       "    .dataframe tbody tr th {\n",
       "        vertical-align: top;\n",
       "    }\n",
       "\n",
       "    .dataframe thead th {\n",
       "        text-align: right;\n",
       "    }\n",
       "</style>\n",
       "<table border=\"1\" class=\"dataframe\">\n",
       "  <thead>\n",
       "    <tr style=\"text-align: right;\">\n",
       "      <th></th>\n",
       "      <th>MainCluster_ID</th>\n",
       "      <th>MainCluster_Description</th>\n",
       "      <th>#</th>\n",
       "    </tr>\n",
       "  </thead>\n",
       "  <tbody>\n",
       "    <tr>\n",
       "      <th>0</th>\n",
       "      <td>3</td>\n",
       "      <td>Need Attention</td>\n",
       "      <td>67857</td>\n",
       "    </tr>\n",
       "    <tr>\n",
       "      <th>1</th>\n",
       "      <td>4</td>\n",
       "      <td>Lost active user</td>\n",
       "      <td>51783</td>\n",
       "    </tr>\n",
       "    <tr>\n",
       "      <th>2</th>\n",
       "      <td>5</td>\n",
       "      <td>New User, Skimming Listeners</td>\n",
       "      <td>35089</td>\n",
       "    </tr>\n",
       "    <tr>\n",
       "      <th>3</th>\n",
       "      <td>6</td>\n",
       "      <td>New Users, Engaging Listeners</td>\n",
       "      <td>145770</td>\n",
       "    </tr>\n",
       "    <tr>\n",
       "      <th>4</th>\n",
       "      <td>7</td>\n",
       "      <td>Potential, Skimming Listeners</td>\n",
       "      <td>19558</td>\n",
       "    </tr>\n",
       "    <tr>\n",
       "      <th>5</th>\n",
       "      <td>8</td>\n",
       "      <td>Potential, Engaging Listeners</td>\n",
       "      <td>98687</td>\n",
       "    </tr>\n",
       "    <tr>\n",
       "      <th>6</th>\n",
       "      <td>9</td>\n",
       "      <td>Loyal Users, Skimming Listeners</td>\n",
       "      <td>17705</td>\n",
       "    </tr>\n",
       "    <tr>\n",
       "      <th>7</th>\n",
       "      <td>10</td>\n",
       "      <td>Loyal Users, Engaging Listeners</td>\n",
       "      <td>26133</td>\n",
       "    </tr>\n",
       "  </tbody>\n",
       "</table>\n",
       "</div>"
      ],
      "text/plain": [
       "   MainCluster_ID          MainCluster_Description       #\n",
       "0               3                   Need Attention   67857\n",
       "1               4                 Lost active user   51783\n",
       "2               5     New User, Skimming Listeners   35089\n",
       "3               6    New Users, Engaging Listeners  145770\n",
       "4               7    Potential, Skimming Listeners   19558\n",
       "5               8    Potential, Engaging Listeners   98687\n",
       "6               9  Loyal Users, Skimming Listeners   17705\n",
       "7              10  Loyal Users, Engaging Listeners   26133"
      ]
     },
     "execution_count": 90,
     "metadata": {},
     "output_type": "execute_result"
    }
   ],
   "source": [
    "cluster.sort_values(by=[\"MainCluster_ID\"])"
   ]
  }
 ],
 "metadata": {
  "kernelspec": {
   "display_name": "Python 3",
   "language": "python",
   "name": "python3"
  },
  "language_info": {
   "codemirror_mode": {
    "name": "ipython",
    "version": 3
   },
   "file_extension": ".py",
   "mimetype": "text/x-python",
   "name": "python",
   "nbconvert_exporter": "python",
   "pygments_lexer": "ipython3",
   "version": "3.8.5"
  }
 },
 "nbformat": 4,
 "nbformat_minor": 4
}
