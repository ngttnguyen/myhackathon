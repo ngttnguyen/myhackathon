{
 "cells": [
  {
   "cell_type": "code",
   "execution_count": 2,
   "metadata": {},
   "outputs": [],
   "source": [
    "import pandas as pd\n",
    "import numpy as np\n",
    "from matplotlib import pyplot as plt\n",
    "import seaborn as sns\n",
    "\n",
    "from datetime import date\n",
    "from datetime import time\n",
    "import datetime as dt\n",
    "from sklearn.cluster import KMeans"
   ]
  },
  {
   "cell_type": "markdown",
   "metadata": {},
   "source": [
    "#### Đọc dữ liệu"
   ]
  },
  {
   "cell_type": "code",
   "execution_count": 2,
   "metadata": {},
   "outputs": [],
   "source": [
    "order_detail_df = pd.read_csv(\"data/order_processed.csv\")\n",
    "user_df = pd.read_csv(\"data/user_processed.csv\")\n",
    "listening_detail_df = pd.read_csv(\"data/new/listening_processed.csv\")\n",
    "# usage_df = pd.read_excel(\"data/voiz_data//Usage.xlsx\") "
   ]
  },
  {
   "cell_type": "code",
   "execution_count": 3,
   "metadata": {},
   "outputs": [
    {
     "data": {
      "text/html": [
       "<div>\n",
       "<style scoped>\n",
       "    .dataframe tbody tr th:only-of-type {\n",
       "        vertical-align: middle;\n",
       "    }\n",
       "\n",
       "    .dataframe tbody tr th {\n",
       "        vertical-align: top;\n",
       "    }\n",
       "\n",
       "    .dataframe thead th {\n",
       "        text-align: right;\n",
       "    }\n",
       "</style>\n",
       "<table border=\"1\" class=\"dataframe\">\n",
       "  <thead>\n",
       "    <tr style=\"text-align: right;\">\n",
       "      <th></th>\n",
       "      <th>OrderID (PK)</th>\n",
       "      <th>Transaction Date</th>\n",
       "      <th>UserID (FK)</th>\n",
       "      <th>Bill Type</th>\n",
       "      <th>Total Amount</th>\n",
       "    </tr>\n",
       "  </thead>\n",
       "  <tbody>\n",
       "    <tr>\n",
       "      <th>0</th>\n",
       "      <td>6706</td>\n",
       "      <td>2020-08-16</td>\n",
       "      <td>44822</td>\n",
       "      <td>VIP</td>\n",
       "      <td>199000</td>\n",
       "    </tr>\n",
       "    <tr>\n",
       "      <th>1</th>\n",
       "      <td>6998</td>\n",
       "      <td>2020-08-23</td>\n",
       "      <td>47128</td>\n",
       "      <td>VIP</td>\n",
       "      <td>199000</td>\n",
       "    </tr>\n",
       "    <tr>\n",
       "      <th>2</th>\n",
       "      <td>6927</td>\n",
       "      <td>2020-08-21</td>\n",
       "      <td>47134</td>\n",
       "      <td>VIP</td>\n",
       "      <td>199000</td>\n",
       "    </tr>\n",
       "  </tbody>\n",
       "</table>\n",
       "</div>"
      ],
      "text/plain": [
       "   OrderID (PK) Transaction Date  UserID (FK) Bill Type  Total Amount\n",
       "0          6706       2020-08-16        44822       VIP        199000\n",
       "1          6998       2020-08-23        47128       VIP        199000\n",
       "2          6927       2020-08-21        47134       VIP        199000"
      ]
     },
     "execution_count": 3,
     "metadata": {},
     "output_type": "execute_result"
    }
   ],
   "source": [
    "order_detail_df.head(3)"
   ]
  },
  {
   "cell_type": "code",
   "execution_count": 4,
   "metadata": {},
   "outputs": [],
   "source": [
    "order_detail_df[\"Transaction Date\"]=order_detail_df[\"Transaction Date\"].astype(\"datetime64\")"
   ]
  },
  {
   "cell_type": "code",
   "execution_count": 5,
   "metadata": {},
   "outputs": [
    {
     "name": "stderr",
     "output_type": "stream",
     "text": [
      "<ipython-input-5-0c890eeed07c>:1: FutureWarning: Treating datetime data as categorical rather than numeric in `.describe` is deprecated and will be removed in a future version of pandas. Specify `datetime_is_numeric=True` to silence this warning and adopt the future behavior now.\n",
      "  order_detail_df[\"Transaction Date\"].describe()\n"
     ]
    },
    {
     "data": {
      "text/plain": [
       "count                    3575\n",
       "unique                    163\n",
       "top       2020-12-13 00:00:00\n",
       "freq                       60\n",
       "first     2020-07-11 00:00:00\n",
       "last      2020-12-31 00:00:00\n",
       "Name: Transaction Date, dtype: object"
      ]
     },
     "execution_count": 5,
     "metadata": {},
     "output_type": "execute_result"
    }
   ],
   "source": [
    "order_detail_df[\"Transaction Date\"].describe()"
   ]
  },
  {
   "cell_type": "code",
   "execution_count": 6,
   "metadata": {},
   "outputs": [
    {
     "data": {
      "text/html": [
       "<div>\n",
       "<style scoped>\n",
       "    .dataframe tbody tr th:only-of-type {\n",
       "        vertical-align: middle;\n",
       "    }\n",
       "\n",
       "    .dataframe tbody tr th {\n",
       "        vertical-align: top;\n",
       "    }\n",
       "\n",
       "    .dataframe thead th {\n",
       "        text-align: right;\n",
       "    }\n",
       "</style>\n",
       "<table border=\"1\" class=\"dataframe\">\n",
       "  <thead>\n",
       "    <tr style=\"text-align: right;\">\n",
       "      <th></th>\n",
       "      <th>User_ID</th>\n",
       "      <th>min_purchase_date</th>\n",
       "      <th>max_purchase_date</th>\n",
       "      <th>order_cnt</th>\n",
       "    </tr>\n",
       "  </thead>\n",
       "  <tbody>\n",
       "    <tr>\n",
       "      <th>0</th>\n",
       "      <td>40843</td>\n",
       "      <td>2020-09-04</td>\n",
       "      <td>2020-09-25</td>\n",
       "      <td>3</td>\n",
       "    </tr>\n",
       "    <tr>\n",
       "      <th>1</th>\n",
       "      <td>40861</td>\n",
       "      <td>2020-09-09</td>\n",
       "      <td>2020-09-09</td>\n",
       "      <td>1</td>\n",
       "    </tr>\n",
       "    <tr>\n",
       "      <th>2</th>\n",
       "      <td>41003</td>\n",
       "      <td>2020-10-27</td>\n",
       "      <td>2020-10-27</td>\n",
       "      <td>1</td>\n",
       "    </tr>\n",
       "  </tbody>\n",
       "</table>\n",
       "</div>"
      ],
      "text/plain": [
       "   User_ID min_purchase_date max_purchase_date  order_cnt\n",
       "0    40843        2020-09-04        2020-09-25          3\n",
       "1    40861        2020-09-09        2020-09-09          1\n",
       "2    41003        2020-10-27        2020-10-27          1"
      ]
     },
     "execution_count": 6,
     "metadata": {},
     "output_type": "execute_result"
    }
   ],
   "source": [
    "order_summary_df = order_detail_df.groupby(\"UserID (FK)\").agg(\n",
    "                    {'Transaction Date': ['min', 'max', 'count']\n",
    "                    }\n",
    "                    ).reset_index()\n",
    "order_summary_df.columns = ['User_ID','min_purchase_date','max_purchase_date','order_cnt']\n",
    "\n",
    "order_summary_df.head(3)"
   ]
  },
  {
   "cell_type": "code",
   "execution_count": 7,
   "metadata": {
    "scrolled": false
   },
   "outputs": [
    {
     "data": {
      "text/html": [
       "<div>\n",
       "<style scoped>\n",
       "    .dataframe tbody tr th:only-of-type {\n",
       "        vertical-align: middle;\n",
       "    }\n",
       "\n",
       "    .dataframe tbody tr th {\n",
       "        vertical-align: top;\n",
       "    }\n",
       "\n",
       "    .dataframe thead th {\n",
       "        text-align: right;\n",
       "    }\n",
       "</style>\n",
       "<table border=\"1\" class=\"dataframe\">\n",
       "  <thead>\n",
       "    <tr style=\"text-align: right;\">\n",
       "      <th></th>\n",
       "      <th>UserID (PK)</th>\n",
       "      <th>VIP hay Free</th>\n",
       "      <th>Gender</th>\n",
       "      <th>Year of Birth</th>\n",
       "      <th>Age Range</th>\n",
       "      <th>Age</th>\n",
       "      <th>Region</th>\n",
       "      <th>Operation Systems</th>\n",
       "      <th>Registration Date</th>\n",
       "      <th>Total Listerning</th>\n",
       "      <th>Total Listening Time (Min)</th>\n",
       "    </tr>\n",
       "  </thead>\n",
       "  <tbody>\n",
       "    <tr>\n",
       "      <th>0</th>\n",
       "      <td>86229</td>\n",
       "      <td>free</td>\n",
       "      <td>male</td>\n",
       "      <td>NaN</td>\n",
       "      <td>No information</td>\n",
       "      <td>NaN</td>\n",
       "      <td>VN</td>\n",
       "      <td>android</td>\n",
       "      <td>2020-11-27</td>\n",
       "      <td>218</td>\n",
       "      <td>4151.3</td>\n",
       "    </tr>\n",
       "    <tr>\n",
       "      <th>1</th>\n",
       "      <td>48053</td>\n",
       "      <td>free</td>\n",
       "      <td>male</td>\n",
       "      <td>1995.0</td>\n",
       "      <td>25 - 34</td>\n",
       "      <td>26.0</td>\n",
       "      <td>VN</td>\n",
       "      <td>ios</td>\n",
       "      <td>2020-08-24</td>\n",
       "      <td>19</td>\n",
       "      <td>278.6</td>\n",
       "    </tr>\n",
       "    <tr>\n",
       "      <th>2</th>\n",
       "      <td>46340</td>\n",
       "      <td>free</td>\n",
       "      <td>male</td>\n",
       "      <td>1988.0</td>\n",
       "      <td>25 - 34</td>\n",
       "      <td>33.0</td>\n",
       "      <td>VN</td>\n",
       "      <td>website</td>\n",
       "      <td>2020-08-19</td>\n",
       "      <td>28</td>\n",
       "      <td>170.5</td>\n",
       "    </tr>\n",
       "  </tbody>\n",
       "</table>\n",
       "</div>"
      ],
      "text/plain": [
       "   UserID (PK) VIP hay Free Gender  Year of Birth       Age Range   Age  \\\n",
       "0        86229         free   male            NaN  No information   NaN   \n",
       "1        48053         free   male         1995.0         25 - 34  26.0   \n",
       "2        46340         free   male         1988.0         25 - 34  33.0   \n",
       "\n",
       "  Region Operation Systems Registration Date  Total Listerning  \\\n",
       "0     VN           android        2020-11-27               218   \n",
       "1     VN               ios        2020-08-24                19   \n",
       "2     VN           website        2020-08-19                28   \n",
       "\n",
       "   Total Listening Time (Min)  \n",
       "0                      4151.3  \n",
       "1                       278.6  \n",
       "2                       170.5  "
      ]
     },
     "execution_count": 7,
     "metadata": {},
     "output_type": "execute_result"
    }
   ],
   "source": [
    "user_df.head(3)"
   ]
  },
  {
   "cell_type": "code",
   "execution_count": 8,
   "metadata": {},
   "outputs": [],
   "source": [
    "user_df[\"Registration Date\"]=user_df[\"Registration Date\"].astype(\"datetime64\")"
   ]
  },
  {
   "cell_type": "code",
   "execution_count": 9,
   "metadata": {},
   "outputs": [
    {
     "name": "stderr",
     "output_type": "stream",
     "text": [
      "<ipython-input-9-bc95f8c9d5e5>:1: FutureWarning: Treating datetime data as categorical rather than numeric in `.describe` is deprecated and will be removed in a future version of pandas. Specify `datetime_is_numeric=True` to silence this warning and adopt the future behavior now.\n",
      "  user_df[\"Registration Date\"].describe()\n"
     ]
    },
    {
     "data": {
      "text/plain": [
       "count                   66146\n",
       "unique                    184\n",
       "top       2020-10-31 00:00:00\n",
       "freq                     1219\n",
       "first     2020-07-01 00:00:00\n",
       "last      2020-12-31 00:00:00\n",
       "Name: Registration Date, dtype: object"
      ]
     },
     "execution_count": 9,
     "metadata": {},
     "output_type": "execute_result"
    }
   ],
   "source": [
    "user_df[\"Registration Date\"].describe()"
   ]
  },
  {
   "cell_type": "code",
   "execution_count": 10,
   "metadata": {},
   "outputs": [
    {
     "data": {
      "text/html": [
       "<div>\n",
       "<style scoped>\n",
       "    .dataframe tbody tr th:only-of-type {\n",
       "        vertical-align: middle;\n",
       "    }\n",
       "\n",
       "    .dataframe tbody tr th {\n",
       "        vertical-align: top;\n",
       "    }\n",
       "\n",
       "    .dataframe thead th {\n",
       "        text-align: right;\n",
       "    }\n",
       "</style>\n",
       "<table border=\"1\" class=\"dataframe\">\n",
       "  <thead>\n",
       "    <tr style=\"text-align: right;\">\n",
       "      <th></th>\n",
       "      <th>PlaylistID (PK)</th>\n",
       "      <th>Playlist Name</th>\n",
       "      <th>Category</th>\n",
       "      <th>Sub Category</th>\n",
       "      <th>Playlist Type</th>\n",
       "      <th>Playlist Duration (min)</th>\n",
       "      <th>Actual Duration (min)</th>\n",
       "      <th>UserID (FK)</th>\n",
       "      <th>Listening Time</th>\n",
       "      <th>Listening Date</th>\n",
       "      <th>Listening Week</th>\n",
       "      <th>Listening Datetime</th>\n",
       "      <th>Value Rank</th>\n",
       "    </tr>\n",
       "  </thead>\n",
       "  <tbody>\n",
       "    <tr>\n",
       "      <th>0</th>\n",
       "      <td>4529</td>\n",
       "      <td>Dạy Tiếng Anh Cho Trẻ Mầm Non</td>\n",
       "      <td>Podcast</td>\n",
       "      <td>Học ngoại ngữ</td>\n",
       "      <td>free</td>\n",
       "      <td>44.9</td>\n",
       "      <td>0.1</td>\n",
       "      <td>82846</td>\n",
       "      <td>6:05:00</td>\n",
       "      <td>12/3/2020</td>\n",
       "      <td>11/30/2020</td>\n",
       "      <td>12/3/2020 6:05</td>\n",
       "      <td>High Value</td>\n",
       "    </tr>\n",
       "    <tr>\n",
       "      <th>1</th>\n",
       "      <td>4577</td>\n",
       "      <td>Tư Duy Tích Cực - Bạn Là Những Gì Bạn Nghĩ (Nh...</td>\n",
       "      <td>Sách nói</td>\n",
       "      <td>Hạnh phúc</td>\n",
       "      <td>vip</td>\n",
       "      <td>79.8</td>\n",
       "      <td>15.9</td>\n",
       "      <td>56112</td>\n",
       "      <td>12:49:00</td>\n",
       "      <td>10/30/2020</td>\n",
       "      <td>10/26/2020</td>\n",
       "      <td>10/30/2020 12:49</td>\n",
       "      <td>Low Value</td>\n",
       "    </tr>\n",
       "    <tr>\n",
       "      <th>2</th>\n",
       "      <td>4169</td>\n",
       "      <td>50 thiên thần của bạn: Giải phóng bản thân khỏ...</td>\n",
       "      <td>Sách nói</td>\n",
       "      <td>Tâm linh</td>\n",
       "      <td>vip</td>\n",
       "      <td>324.8</td>\n",
       "      <td>6.8</td>\n",
       "      <td>94362</td>\n",
       "      <td>0:17:00</td>\n",
       "      <td>12/15/2020</td>\n",
       "      <td>12/14/2020</td>\n",
       "      <td>12/15/2020 0:17</td>\n",
       "      <td>High Value</td>\n",
       "    </tr>\n",
       "  </tbody>\n",
       "</table>\n",
       "</div>"
      ],
      "text/plain": [
       "   PlaylistID (PK)                                      Playlist Name  \\\n",
       "0             4529                      Dạy Tiếng Anh Cho Trẻ Mầm Non   \n",
       "1             4577  Tư Duy Tích Cực - Bạn Là Những Gì Bạn Nghĩ (Nh...   \n",
       "2             4169  50 thiên thần của bạn: Giải phóng bản thân khỏ...   \n",
       "\n",
       "   Category   Sub Category Playlist Type  Playlist Duration (min)  \\\n",
       "0   Podcast  Học ngoại ngữ          free                     44.9   \n",
       "1  Sách nói      Hạnh phúc           vip                     79.8   \n",
       "2  Sách nói       Tâm linh           vip                    324.8   \n",
       "\n",
       "   Actual Duration (min)  UserID (FK) Listening Time Listening Date  \\\n",
       "0                    0.1        82846        6:05:00      12/3/2020   \n",
       "1                   15.9        56112       12:49:00     10/30/2020   \n",
       "2                    6.8        94362        0:17:00     12/15/2020   \n",
       "\n",
       "  Listening Week Listening Datetime  Value Rank  \n",
       "0     11/30/2020     12/3/2020 6:05  High Value  \n",
       "1     10/26/2020   10/30/2020 12:49   Low Value  \n",
       "2     12/14/2020    12/15/2020 0:17  High Value  "
      ]
     },
     "execution_count": 10,
     "metadata": {},
     "output_type": "execute_result"
    }
   ],
   "source": [
    "listening_detail_df.head(3)"
   ]
  },
  {
   "cell_type": "code",
   "execution_count": 11,
   "metadata": {},
   "outputs": [
    {
     "data": {
      "text/plain": [
       "PlaylistID (PK)              int64\n",
       "Playlist Name               object\n",
       "Category                    object\n",
       "Sub Category                object\n",
       "Playlist Type               object\n",
       "Playlist Duration (min)    float64\n",
       "Actual Duration (min)      float64\n",
       "UserID (FK)                  int64\n",
       "Listening Time              object\n",
       "Listening Date              object\n",
       "Listening Week              object\n",
       "Listening Datetime          object\n",
       "Value Rank                  object\n",
       "dtype: object"
      ]
     },
     "execution_count": 11,
     "metadata": {},
     "output_type": "execute_result"
    }
   ],
   "source": [
    "listening_detail_df.dtypes"
   ]
  },
  {
   "cell_type": "code",
   "execution_count": 12,
   "metadata": {},
   "outputs": [],
   "source": [
    "# # Chuyển Ngày phát sinh lượt nghe sang kiểu dữ liệu date\n",
    "# listening_detail_df[\"Listening Date\"] = listening_detail_df[\"Listening Date\"].map(\n",
    "#                                         lambda x:date(int(x.split(\"-\")[2]),int(x.split(\"-\")[1]),int(x.split(\"-\")[0])))\n",
    "listening_detail_df[\"Listening Date\"] = listening_detail_df[\"Listening Date\"].astype(\"datetime64\")"
   ]
  },
  {
   "cell_type": "code",
   "execution_count": 13,
   "metadata": {
    "scrolled": true
   },
   "outputs": [
    {
     "name": "stderr",
     "output_type": "stream",
     "text": [
      "<ipython-input-13-d0c3d75ad95d>:1: FutureWarning: Treating datetime data as categorical rather than numeric in `.describe` is deprecated and will be removed in a future version of pandas. Specify `datetime_is_numeric=True` to silence this warning and adopt the future behavior now.\n",
      "  listening_detail_df[\"Listening Date\"].describe()\n"
     ]
    },
    {
     "data": {
      "text/plain": [
       "count                  750098\n",
       "unique                    184\n",
       "top       2020-12-27 00:00:00\n",
       "freq                    10267\n",
       "first     2020-07-01 00:00:00\n",
       "last      2020-12-31 00:00:00\n",
       "Name: Listening Date, dtype: object"
      ]
     },
     "execution_count": 13,
     "metadata": {},
     "output_type": "execute_result"
    }
   ],
   "source": [
    "listening_detail_df[\"Listening Date\"].describe()"
   ]
  },
  {
   "cell_type": "markdown",
   "metadata": {},
   "source": [
    "### Lấy High Value Users"
   ]
  },
  {
   "cell_type": "code",
   "execution_count": 14,
   "metadata": {},
   "outputs": [],
   "source": [
    "listening_detail_df_1 = listening_detail_df.copy()"
   ]
  },
  {
   "cell_type": "code",
   "execution_count": 15,
   "metadata": {},
   "outputs": [],
   "source": [
    "listening_detail_df=listening_detail_df[listening_detail_df[\"Value Rank\"] == \"High Value\"]"
   ]
  },
  {
   "cell_type": "markdown",
   "metadata": {},
   "source": [
    "\t2. Use Cases:\t\t\t\t\t\t\t\n",
    "\ta. Content Bundle: Gộp các contents liên quan để offer cho users theo bundle\t\t\t\t\t\t\t\n",
    "\t\t1. Chọn những Content Bundle của những playlist có High Content Value ở (Output 1) >> Bundle High Content Value\t\t\t\t\t\t\n",
    "\t\t2. Offer theo từng user\t\t\t\t\t\t\n",
    "\t\t\t2.1 Application\t\t\t\t\t\n",
    "\t\t\t\t2.1.1. Recommend trên trang chủ: Customize dựa trên lịch sử của người dùng, nếu là KH mới dẩy all top High Value content\t\t\t\t\n",
    "\t\t\t\t2.2.1. Improve feature mới: Thường được nghe cùng >> Recommend trong phần dưới cùng của playlist khi user search và bấm vào playlist (~cat)\t\t\t\t\n",
    "\t\t\t2.2 Streamlit\t\t\t\t\t\n",
    "\t\t\t\t2.2.1. Input list các userid\t\t\t\t\n",
    "\t\t\t\t2.2.2.\tOutput\t\t\t\n",
    "\t\t\t\t\t- List các playlist recommend cho từng user (sorting)\t\t\t"
   ]
  },
  {
   "cell_type": "markdown",
   "metadata": {},
   "source": [
    "## Lấy high value content"
   ]
  },
  {
   "cell_type": "code",
   "execution_count": 16,
   "metadata": {},
   "outputs": [
    {
     "data": {
      "text/html": [
       "<div>\n",
       "<style scoped>\n",
       "    .dataframe tbody tr th:only-of-type {\n",
       "        vertical-align: middle;\n",
       "    }\n",
       "\n",
       "    .dataframe tbody tr th {\n",
       "        vertical-align: top;\n",
       "    }\n",
       "\n",
       "    .dataframe thead th {\n",
       "        text-align: right;\n",
       "    }\n",
       "</style>\n",
       "<table border=\"1\" class=\"dataframe\">\n",
       "  <thead>\n",
       "    <tr style=\"text-align: right;\">\n",
       "      <th></th>\n",
       "      <th>User_ID</th>\n",
       "      <th>min_purchase_date</th>\n",
       "      <th>max_purchase_date</th>\n",
       "      <th>order_cnt</th>\n",
       "    </tr>\n",
       "  </thead>\n",
       "  <tbody>\n",
       "    <tr>\n",
       "      <th>0</th>\n",
       "      <td>40843</td>\n",
       "      <td>2020-09-04</td>\n",
       "      <td>2020-09-25</td>\n",
       "      <td>3</td>\n",
       "    </tr>\n",
       "    <tr>\n",
       "      <th>1</th>\n",
       "      <td>40861</td>\n",
       "      <td>2020-09-09</td>\n",
       "      <td>2020-09-09</td>\n",
       "      <td>1</td>\n",
       "    </tr>\n",
       "    <tr>\n",
       "      <th>2</th>\n",
       "      <td>41003</td>\n",
       "      <td>2020-10-27</td>\n",
       "      <td>2020-10-27</td>\n",
       "      <td>1</td>\n",
       "    </tr>\n",
       "  </tbody>\n",
       "</table>\n",
       "</div>"
      ],
      "text/plain": [
       "   User_ID min_purchase_date max_purchase_date  order_cnt\n",
       "0    40843        2020-09-04        2020-09-25          3\n",
       "1    40861        2020-09-09        2020-09-09          1\n",
       "2    41003        2020-10-27        2020-10-27          1"
      ]
     },
     "execution_count": 16,
     "metadata": {},
     "output_type": "execute_result"
    }
   ],
   "source": [
    "order_summary_df.head(3)"
   ]
  },
  {
   "cell_type": "code",
   "execution_count": 17,
   "metadata": {},
   "outputs": [
    {
     "data": {
      "text/plain": [
       "Index(['PlaylistID (PK)', 'Playlist Name', 'Category', 'Sub Category',\n",
       "       'Playlist Type', 'Playlist Duration (min)', 'Actual Duration (min)',\n",
       "       'UserID (FK)', 'Listening Time', 'Listening Date', 'Listening Week',\n",
       "       'Listening Datetime', 'Value Rank'],\n",
       "      dtype='object')"
      ]
     },
     "execution_count": 17,
     "metadata": {},
     "output_type": "execute_result"
    }
   ],
   "source": [
    "listening_detail_df.columns"
   ]
  },
  {
   "cell_type": "code",
   "execution_count": 18,
   "metadata": {},
   "outputs": [],
   "source": [
    "listen_pay_user_df = listening_detail_df.join(other=order_summary_df[[\"User_ID\",\"min_purchase_date\"]].set_index(\"User_ID\"),\n",
    "                                             how=\"inner\",on=\"UserID (FK)\")"
   ]
  },
  {
   "cell_type": "code",
   "execution_count": 19,
   "metadata": {},
   "outputs": [],
   "source": [
    "listen_pay_user_df[\"botton_date\"]=listen_pay_user_df[\"min_purchase_date\"].map(lambda x: (x - dt.timedelta(days = 14)))"
   ]
  },
  {
   "cell_type": "code",
   "execution_count": 20,
   "metadata": {},
   "outputs": [],
   "source": [
    "listen_pay_user_df[\"botton_date\"]=listen_pay_user_df[\"botton_date\"].astype(\"datetime64\")"
   ]
  },
  {
   "cell_type": "code",
   "execution_count": 21,
   "metadata": {},
   "outputs": [
    {
     "data": {
      "text/plain": [
       "Index(['PlaylistID (PK)', 'Playlist Name', 'Category', 'Sub Category',\n",
       "       'Playlist Type', 'Playlist Duration (min)', 'Actual Duration (min)',\n",
       "       'UserID (FK)', 'Listening Time', 'Listening Date', 'Listening Week',\n",
       "       'Listening Datetime', 'Value Rank', 'min_purchase_date', 'botton_date'],\n",
       "      dtype='object')"
      ]
     },
     "execution_count": 21,
     "metadata": {},
     "output_type": "execute_result"
    }
   ],
   "source": [
    "listen_pay_user_df.columns"
   ]
  },
  {
   "cell_type": "code",
   "execution_count": 22,
   "metadata": {},
   "outputs": [
    {
     "data": {
      "text/plain": [
       "dtype('<M8[ns]')"
      ]
     },
     "execution_count": 22,
     "metadata": {},
     "output_type": "execute_result"
    }
   ],
   "source": [
    "listen_pay_user_df[\"botton_date\"].dtype"
   ]
  },
  {
   "cell_type": "code",
   "execution_count": 23,
   "metadata": {},
   "outputs": [],
   "source": [
    "hv_content_df = listen_pay_user_df[listen_pay_user_df[\"Listening Date\"] > listen_pay_user_df[\"botton_date\"]]"
   ]
  },
  {
   "cell_type": "code",
   "execution_count": 24,
   "metadata": {},
   "outputs": [],
   "source": [
    "hv_content_df = hv_content_df [hv_content_df[\"Listening Date\"]<hv_content_df[\"min_purchase_date\"]]\n"
   ]
  },
  {
   "cell_type": "code",
   "execution_count": 25,
   "metadata": {},
   "outputs": [],
   "source": [
    "hv_content_df= hv_content_df[['PlaylistID (PK)', 'Playlist Name', 'Category', 'Sub Category','Actual Duration (min)','UserID (FK)']]"
   ]
  },
  {
   "cell_type": "code",
   "execution_count": 26,
   "metadata": {},
   "outputs": [],
   "source": [
    "hv_content_summary_df=hv_content_df.groupby(['PlaylistID (PK)','Playlist Name','Category', 'Sub Category','UserID (FK)']).agg(\n",
    "    {'Actual Duration (min)': 'sum'}).reset_index()\n",
    "hv_content_summary_df.columns = ['PlaylistID','PlaylistName','Category', 'SubCategory','UserID','TotalDuration']"
   ]
  },
  {
   "cell_type": "code",
   "execution_count": 27,
   "metadata": {},
   "outputs": [
    {
     "data": {
      "text/html": [
       "<div>\n",
       "<style scoped>\n",
       "    .dataframe tbody tr th:only-of-type {\n",
       "        vertical-align: middle;\n",
       "    }\n",
       "\n",
       "    .dataframe tbody tr th {\n",
       "        vertical-align: top;\n",
       "    }\n",
       "\n",
       "    .dataframe thead th {\n",
       "        text-align: right;\n",
       "    }\n",
       "</style>\n",
       "<table border=\"1\" class=\"dataframe\">\n",
       "  <thead>\n",
       "    <tr style=\"text-align: right;\">\n",
       "      <th></th>\n",
       "      <th>PlaylistID</th>\n",
       "      <th>PlaylistName</th>\n",
       "      <th>Category</th>\n",
       "      <th>SubCategory</th>\n",
       "      <th>UserID</th>\n",
       "      <th>TotalDuration</th>\n",
       "    </tr>\n",
       "  </thead>\n",
       "  <tbody>\n",
       "    <tr>\n",
       "      <th>0</th>\n",
       "      <td>3808</td>\n",
       "      <td>[Sách Tóm Tắt] 10 Điều Khác Biệt Giữa Kẻ Giàu ...</td>\n",
       "      <td>Sách tóm tắt</td>\n",
       "      <td>Sách tóm tắt</td>\n",
       "      <td>48532</td>\n",
       "      <td>5.8</td>\n",
       "    </tr>\n",
       "    <tr>\n",
       "      <th>1</th>\n",
       "      <td>3808</td>\n",
       "      <td>[Sách Tóm Tắt] 10 Điều Khác Biệt Giữa Kẻ Giàu ...</td>\n",
       "      <td>Sách tóm tắt</td>\n",
       "      <td>Sách tóm tắt</td>\n",
       "      <td>62150</td>\n",
       "      <td>1.1</td>\n",
       "    </tr>\n",
       "    <tr>\n",
       "      <th>2</th>\n",
       "      <td>3808</td>\n",
       "      <td>[Sách Tóm Tắt] 10 Điều Khác Biệt Giữa Kẻ Giàu ...</td>\n",
       "      <td>Sách tóm tắt</td>\n",
       "      <td>Sách tóm tắt</td>\n",
       "      <td>62277</td>\n",
       "      <td>12.3</td>\n",
       "    </tr>\n",
       "  </tbody>\n",
       "</table>\n",
       "</div>"
      ],
      "text/plain": [
       "   PlaylistID                                       PlaylistName  \\\n",
       "0        3808  [Sách Tóm Tắt] 10 Điều Khác Biệt Giữa Kẻ Giàu ...   \n",
       "1        3808  [Sách Tóm Tắt] 10 Điều Khác Biệt Giữa Kẻ Giàu ...   \n",
       "2        3808  [Sách Tóm Tắt] 10 Điều Khác Biệt Giữa Kẻ Giàu ...   \n",
       "\n",
       "       Category   SubCategory  UserID  TotalDuration  \n",
       "0  Sách tóm tắt  Sách tóm tắt   48532            5.8  \n",
       "1  Sách tóm tắt  Sách tóm tắt   62150            1.1  \n",
       "2  Sách tóm tắt  Sách tóm tắt   62277           12.3  "
      ]
     },
     "execution_count": 27,
     "metadata": {},
     "output_type": "execute_result"
    }
   ],
   "source": [
    "hv_content_summary_df.head(3)"
   ]
  },
  {
   "cell_type": "code",
   "execution_count": 28,
   "metadata": {},
   "outputs": [
    {
     "data": {
      "text/plain": [
       "Index(['PlaylistID', 'PlaylistName', 'Category', 'SubCategory', 'UserID',\n",
       "       'TotalDuration'],\n",
       "      dtype='object')"
      ]
     },
     "execution_count": 28,
     "metadata": {},
     "output_type": "execute_result"
    }
   ],
   "source": [
    "hv_content_summary_df.columns"
   ]
  },
  {
   "cell_type": "code",
   "execution_count": 29,
   "metadata": {},
   "outputs": [],
   "source": [
    "hv_convert_content_df=hv_content_summary_df.groupby([\"PlaylistID\",\"PlaylistName\",'Category', 'SubCategory']).agg({\"TotalDuration\":\"mean\"}).reset_index()\n",
    "hv_convert_content_df.columns=[\"PlaylistID\",\"PlaylistName\",'Category', 'SubCategory',\"AvgDuration\"]"
   ]
  },
  {
   "cell_type": "code",
   "execution_count": 30,
   "metadata": {},
   "outputs": [],
   "source": [
    "hv_convert_content_df=hv_convert_content_df.sort_values(by=[\"AvgDuration\"],ascending = False)"
   ]
  },
  {
   "cell_type": "code",
   "execution_count": 31,
   "metadata": {},
   "outputs": [
    {
     "data": {
      "text/plain": [
       "474"
      ]
     },
     "execution_count": 31,
     "metadata": {},
     "output_type": "execute_result"
    }
   ],
   "source": [
    "kq=hv_convert_content_df[hv_convert_content_df[\"AvgDuration\"]>=20]\n",
    "kq.shape[0]"
   ]
  },
  {
   "cell_type": "code",
   "execution_count": 32,
   "metadata": {},
   "outputs": [
    {
     "data": {
      "text/html": [
       "<div>\n",
       "<style scoped>\n",
       "    .dataframe tbody tr th:only-of-type {\n",
       "        vertical-align: middle;\n",
       "    }\n",
       "\n",
       "    .dataframe tbody tr th {\n",
       "        vertical-align: top;\n",
       "    }\n",
       "\n",
       "    .dataframe thead th {\n",
       "        text-align: right;\n",
       "    }\n",
       "</style>\n",
       "<table border=\"1\" class=\"dataframe\">\n",
       "  <thead>\n",
       "    <tr style=\"text-align: right;\">\n",
       "      <th></th>\n",
       "      <th>PlaylistID</th>\n",
       "      <th>PlaylistName</th>\n",
       "      <th>Category</th>\n",
       "      <th>SubCategory</th>\n",
       "      <th>AvgDuration</th>\n",
       "    </tr>\n",
       "  </thead>\n",
       "  <tbody>\n",
       "    <tr>\n",
       "      <th>count</th>\n",
       "      <td>975.000000</td>\n",
       "      <td>975</td>\n",
       "      <td>975</td>\n",
       "      <td>975</td>\n",
       "      <td>975.000000</td>\n",
       "    </tr>\n",
       "    <tr>\n",
       "      <th>unique</th>\n",
       "      <td>NaN</td>\n",
       "      <td>975</td>\n",
       "      <td>5</td>\n",
       "      <td>31</td>\n",
       "      <td>NaN</td>\n",
       "    </tr>\n",
       "    <tr>\n",
       "      <th>top</th>\n",
       "      <td>NaN</td>\n",
       "      <td>Mọi thứ đều có thể thay đổi</td>\n",
       "      <td>Sách nói</td>\n",
       "      <td>Thiếu nhi</td>\n",
       "      <td>NaN</td>\n",
       "    </tr>\n",
       "    <tr>\n",
       "      <th>freq</th>\n",
       "      <td>NaN</td>\n",
       "      <td>1</td>\n",
       "      <td>462</td>\n",
       "      <td>112</td>\n",
       "      <td>NaN</td>\n",
       "    </tr>\n",
       "    <tr>\n",
       "      <th>mean</th>\n",
       "      <td>4602.518974</td>\n",
       "      <td>NaN</td>\n",
       "      <td>NaN</td>\n",
       "      <td>NaN</td>\n",
       "      <td>27.234392</td>\n",
       "    </tr>\n",
       "    <tr>\n",
       "      <th>std</th>\n",
       "      <td>388.304443</td>\n",
       "      <td>NaN</td>\n",
       "      <td>NaN</td>\n",
       "      <td>NaN</td>\n",
       "      <td>30.597589</td>\n",
       "    </tr>\n",
       "    <tr>\n",
       "      <th>min</th>\n",
       "      <td>3808.000000</td>\n",
       "      <td>NaN</td>\n",
       "      <td>NaN</td>\n",
       "      <td>NaN</td>\n",
       "      <td>0.000000</td>\n",
       "    </tr>\n",
       "    <tr>\n",
       "      <th>25%</th>\n",
       "      <td>4309.500000</td>\n",
       "      <td>NaN</td>\n",
       "      <td>NaN</td>\n",
       "      <td>NaN</td>\n",
       "      <td>8.610526</td>\n",
       "    </tr>\n",
       "    <tr>\n",
       "      <th>50%</th>\n",
       "      <td>4610.000000</td>\n",
       "      <td>NaN</td>\n",
       "      <td>NaN</td>\n",
       "      <td>NaN</td>\n",
       "      <td>18.900000</td>\n",
       "    </tr>\n",
       "    <tr>\n",
       "      <th>75%</th>\n",
       "      <td>4924.000000</td>\n",
       "      <td>NaN</td>\n",
       "      <td>NaN</td>\n",
       "      <td>NaN</td>\n",
       "      <td>35.045833</td>\n",
       "    </tr>\n",
       "    <tr>\n",
       "      <th>max</th>\n",
       "      <td>5439.000000</td>\n",
       "      <td>NaN</td>\n",
       "      <td>NaN</td>\n",
       "      <td>NaN</td>\n",
       "      <td>315.577778</td>\n",
       "    </tr>\n",
       "  </tbody>\n",
       "</table>\n",
       "</div>"
      ],
      "text/plain": [
       "         PlaylistID                 PlaylistName  Category SubCategory  \\\n",
       "count    975.000000                          975       975         975   \n",
       "unique          NaN                          975         5          31   \n",
       "top             NaN  Mọi thứ đều có thể thay đổi  Sách nói   Thiếu nhi   \n",
       "freq            NaN                            1       462         112   \n",
       "mean    4602.518974                          NaN       NaN         NaN   \n",
       "std      388.304443                          NaN       NaN         NaN   \n",
       "min     3808.000000                          NaN       NaN         NaN   \n",
       "25%     4309.500000                          NaN       NaN         NaN   \n",
       "50%     4610.000000                          NaN       NaN         NaN   \n",
       "75%     4924.000000                          NaN       NaN         NaN   \n",
       "max     5439.000000                          NaN       NaN         NaN   \n",
       "\n",
       "        AvgDuration  \n",
       "count    975.000000  \n",
       "unique          NaN  \n",
       "top             NaN  \n",
       "freq            NaN  \n",
       "mean      27.234392  \n",
       "std       30.597589  \n",
       "min        0.000000  \n",
       "25%        8.610526  \n",
       "50%       18.900000  \n",
       "75%       35.045833  \n",
       "max      315.577778  "
      ]
     },
     "execution_count": 32,
     "metadata": {},
     "output_type": "execute_result"
    }
   ],
   "source": [
    "hv_convert_content_df.describe(include=\"all\")"
   ]
  },
  {
   "cell_type": "code",
   "execution_count": 33,
   "metadata": {},
   "outputs": [
    {
     "data": {
      "text/html": [
       "<div>\n",
       "<style scoped>\n",
       "    .dataframe tbody tr th:only-of-type {\n",
       "        vertical-align: middle;\n",
       "    }\n",
       "\n",
       "    .dataframe tbody tr th {\n",
       "        vertical-align: top;\n",
       "    }\n",
       "\n",
       "    .dataframe thead th {\n",
       "        text-align: right;\n",
       "    }\n",
       "</style>\n",
       "<table border=\"1\" class=\"dataframe\">\n",
       "  <thead>\n",
       "    <tr style=\"text-align: right;\">\n",
       "      <th></th>\n",
       "      <th>PlaylistID</th>\n",
       "      <th>PlaylistName</th>\n",
       "      <th>Category</th>\n",
       "      <th>SubCategory</th>\n",
       "      <th>AvgDuration</th>\n",
       "    </tr>\n",
       "  </thead>\n",
       "  <tbody>\n",
       "    <tr>\n",
       "      <th>count</th>\n",
       "      <td>474.000000</td>\n",
       "      <td>474</td>\n",
       "      <td>474</td>\n",
       "      <td>474</td>\n",
       "      <td>474.000000</td>\n",
       "    </tr>\n",
       "    <tr>\n",
       "      <th>unique</th>\n",
       "      <td>NaN</td>\n",
       "      <td>474</td>\n",
       "      <td>5</td>\n",
       "      <td>31</td>\n",
       "      <td>NaN</td>\n",
       "    </tr>\n",
       "    <tr>\n",
       "      <th>top</th>\n",
       "      <td>NaN</td>\n",
       "      <td>Tại sao cần đơn giản?</td>\n",
       "      <td>Sách nói</td>\n",
       "      <td>Thành công</td>\n",
       "      <td>NaN</td>\n",
       "    </tr>\n",
       "    <tr>\n",
       "      <th>freq</th>\n",
       "      <td>NaN</td>\n",
       "      <td>1</td>\n",
       "      <td>283</td>\n",
       "      <td>49</td>\n",
       "      <td>NaN</td>\n",
       "    </tr>\n",
       "    <tr>\n",
       "      <th>mean</th>\n",
       "      <td>4637.970464</td>\n",
       "      <td>NaN</td>\n",
       "      <td>NaN</td>\n",
       "      <td>NaN</td>\n",
       "      <td>46.541484</td>\n",
       "    </tr>\n",
       "    <tr>\n",
       "      <th>std</th>\n",
       "      <td>386.726560</td>\n",
       "      <td>NaN</td>\n",
       "      <td>NaN</td>\n",
       "      <td>NaN</td>\n",
       "      <td>34.144320</td>\n",
       "    </tr>\n",
       "    <tr>\n",
       "      <th>min</th>\n",
       "      <td>3808.000000</td>\n",
       "      <td>NaN</td>\n",
       "      <td>NaN</td>\n",
       "      <td>NaN</td>\n",
       "      <td>20.000000</td>\n",
       "    </tr>\n",
       "    <tr>\n",
       "      <th>25%</th>\n",
       "      <td>4310.750000</td>\n",
       "      <td>NaN</td>\n",
       "      <td>NaN</td>\n",
       "      <td>NaN</td>\n",
       "      <td>26.166667</td>\n",
       "    </tr>\n",
       "    <tr>\n",
       "      <th>50%</th>\n",
       "      <td>4707.500000</td>\n",
       "      <td>NaN</td>\n",
       "      <td>NaN</td>\n",
       "      <td>NaN</td>\n",
       "      <td>35.570000</td>\n",
       "    </tr>\n",
       "    <tr>\n",
       "      <th>75%</th>\n",
       "      <td>4952.750000</td>\n",
       "      <td>NaN</td>\n",
       "      <td>NaN</td>\n",
       "      <td>NaN</td>\n",
       "      <td>51.825000</td>\n",
       "    </tr>\n",
       "    <tr>\n",
       "      <th>max</th>\n",
       "      <td>5236.000000</td>\n",
       "      <td>NaN</td>\n",
       "      <td>NaN</td>\n",
       "      <td>NaN</td>\n",
       "      <td>315.577778</td>\n",
       "    </tr>\n",
       "  </tbody>\n",
       "</table>\n",
       "</div>"
      ],
      "text/plain": [
       "         PlaylistID           PlaylistName  Category SubCategory  AvgDuration\n",
       "count    474.000000                    474       474         474   474.000000\n",
       "unique          NaN                    474         5          31          NaN\n",
       "top             NaN  Tại sao cần đơn giản?  Sách nói  Thành công          NaN\n",
       "freq            NaN                      1       283          49          NaN\n",
       "mean    4637.970464                    NaN       NaN         NaN    46.541484\n",
       "std      386.726560                    NaN       NaN         NaN    34.144320\n",
       "min     3808.000000                    NaN       NaN         NaN    20.000000\n",
       "25%     4310.750000                    NaN       NaN         NaN    26.166667\n",
       "50%     4707.500000                    NaN       NaN         NaN    35.570000\n",
       "75%     4952.750000                    NaN       NaN         NaN    51.825000\n",
       "max     5236.000000                    NaN       NaN         NaN   315.577778"
      ]
     },
     "execution_count": 33,
     "metadata": {},
     "output_type": "execute_result"
    }
   ],
   "source": [
    "kq.describe(include=\"all\")"
   ]
  },
  {
   "cell_type": "code",
   "execution_count": 34,
   "metadata": {},
   "outputs": [
    {
     "data": {
      "text/plain": [
       "SubCategory\n",
       "Con cái                     14\n",
       "Công nghệ                    4\n",
       "Danh nhân                   11\n",
       "Giải trí                     2\n",
       "Hạnh phúc                   36\n",
       "Học ngoại ngữ                2\n",
       "Kinh doanh                  31\n",
       "Kinh dị                      4\n",
       "Kinh điển Quốc tế           25\n",
       "Kinh điển Việt Nam          23\n",
       "Kiến thức                   12\n",
       "Kỹ năng                     44\n",
       "Lãnh đạo                    15\n",
       "Lịch sử                      8\n",
       "Lứa đôi                     11\n",
       "Marketing                   12\n",
       "Ngôn tình                   18\n",
       "Pháp thoại                  14\n",
       "Sách tóm tắt                34\n",
       "Sức khoẻ                     7\n",
       "Thiếu nhi                   16\n",
       "Thiền - Tĩnh tâm             1\n",
       "Thành công                  49\n",
       "Tin tức                      2\n",
       "Trinh thám                   9\n",
       "Tâm linh                    34\n",
       "Tâm lý                       7\n",
       "Tâm sự                       2\n",
       "Văn hoá                      2\n",
       "Văn học Quốc tế Hiện đại    15\n",
       "Văn học VN Hiện đại         10\n",
       "dtype: int64"
      ]
     },
     "execution_count": 34,
     "metadata": {},
     "output_type": "execute_result"
    }
   ],
   "source": [
    "kq.groupby(\"SubCategory\").size()"
   ]
  },
  {
   "cell_type": "code",
   "execution_count": 131,
   "metadata": {},
   "outputs": [],
   "source": [
    "kq.to_csv(\"data/export/hv_convert_content.xlsx\",index=False)"
   ]
  },
  {
   "cell_type": "markdown",
   "metadata": {},
   "source": [
    "### Basket_analysis"
   ]
  },
  {
   "cell_type": "code",
   "execution_count": 35,
   "metadata": {},
   "outputs": [],
   "source": [
    "basket_df=pd.read_excel(\"data/export/basket_output.xlsx\")"
   ]
  },
  {
   "cell_type": "code",
   "execution_count": 130,
   "metadata": {},
   "outputs": [
    {
     "data": {
      "text/html": [
       "<div>\n",
       "<style scoped>\n",
       "    .dataframe tbody tr th:only-of-type {\n",
       "        vertical-align: middle;\n",
       "    }\n",
       "\n",
       "    .dataframe tbody tr th {\n",
       "        vertical-align: top;\n",
       "    }\n",
       "\n",
       "    .dataframe thead th {\n",
       "        text-align: right;\n",
       "    }\n",
       "</style>\n",
       "<table border=\"1\" class=\"dataframe\">\n",
       "  <thead>\n",
       "    <tr style=\"text-align: right;\">\n",
       "      <th></th>\n",
       "      <th>antecedents</th>\n",
       "      <th>next playlist</th>\n",
       "    </tr>\n",
       "  </thead>\n",
       "  <tbody>\n",
       "    <tr>\n",
       "      <th>0</th>\n",
       "      <td>Trở về từ xứ tuyết</td>\n",
       "      <td>Dấu Chân Trên Cát, Muôn Kiếp Nhân Sinh - Tập 1...</td>\n",
       "    </tr>\n",
       "    <tr>\n",
       "      <th>1</th>\n",
       "      <td>Dấu Chân Trên Cát</td>\n",
       "      <td>Muôn Kiếp Nhân Sinh - Tập 1, Trở về từ xứ tuyế...</td>\n",
       "    </tr>\n",
       "    <tr>\n",
       "      <th>2</th>\n",
       "      <td>Minh Triết Trong Đời Sống</td>\n",
       "      <td>Trở về từ xứ tuyết,Dấu Chân Trên Cát,Hành Trìn...</td>\n",
       "    </tr>\n",
       "    <tr>\n",
       "      <th>3</th>\n",
       "      <td>Huyền thuật và các đạo sĩ Tây Tạng</td>\n",
       "      <td>Dấu Chân Trên Cát,Hành Trình Về Phương Đông,Mu...</td>\n",
       "    </tr>\n",
       "    <tr>\n",
       "      <th>4</th>\n",
       "      <td>Hành Trình Về Phương Đông</td>\n",
       "      <td>Muôn Kiếp Nhân Sinh - Tập 1, Trở về từ xứ tuyế...</td>\n",
       "    </tr>\n",
       "    <tr>\n",
       "      <th>5</th>\n",
       "      <td>Muôn Kiếp Nhân Sinh - Tập 1</td>\n",
       "      <td>Hành Trình Về Phương Đông, Trở về từ xứ tuyết,...</td>\n",
       "    </tr>\n",
       "    <tr>\n",
       "      <th>6</th>\n",
       "      <td>Vị Tu Sĩ Bán Chiếc Ferrari</td>\n",
       "      <td>Hành Trình Về Phương Đông,Muôn Kiếp Nhân Sinh ...</td>\n",
       "    </tr>\n",
       "    <tr>\n",
       "      <th>7</th>\n",
       "      <td>Đường Mây Qua Xứ Tuyết</td>\n",
       "      <td>Muôn Kiếp Nhân Sinh - Tập 1</td>\n",
       "    </tr>\n",
       "    <tr>\n",
       "      <th>8</th>\n",
       "      <td>Bên Rặng Tuyết Sơn</td>\n",
       "      <td>Muôn Kiếp Nhân Sinh - Tập 1</td>\n",
       "    </tr>\n",
       "    <tr>\n",
       "      <th>9</th>\n",
       "      <td>Hoa Sen Trên Tuyết</td>\n",
       "      <td>Muôn Kiếp Nhân Sinh - Tập 1</td>\n",
       "    </tr>\n",
       "    <tr>\n",
       "      <th>10</th>\n",
       "      <td>Thái độ quyết định thành công</td>\n",
       "      <td>Đừng Bao Giờ Từ Bỏ Ước Mơ,Đắc Nhân Tâm,Hành Tr...</td>\n",
       "    </tr>\n",
       "    <tr>\n",
       "      <th>11</th>\n",
       "      <td>Đừng Bao Giờ Từ Bỏ Ước Mơ</td>\n",
       "      <td>Thái độ quyết định thành công</td>\n",
       "    </tr>\n",
       "    <tr>\n",
       "      <th>12</th>\n",
       "      <td>Trở Về Từ Cõi Sáng</td>\n",
       "      <td>Muôn Kiếp Nhân Sinh - Tập 1</td>\n",
       "    </tr>\n",
       "    <tr>\n",
       "      <th>13</th>\n",
       "      <td>Người Giàu Có Nhất Thành Babylon</td>\n",
       "      <td>Muôn Kiếp Nhân Sinh - Tập 1</td>\n",
       "    </tr>\n",
       "    <tr>\n",
       "      <th>14</th>\n",
       "      <td>Nghĩ giàu Làm giàu - Think and Grow Rich</td>\n",
       "      <td>Muôn Kiếp Nhân Sinh - Tập 1</td>\n",
       "    </tr>\n",
       "    <tr>\n",
       "      <th>15</th>\n",
       "      <td>Giỏi Giao Tiếp Dễ Thành Công</td>\n",
       "      <td>Đắc Nhân Tâm,Muôn Kiếp Nhân Sinh - Tập 1</td>\n",
       "    </tr>\n",
       "    <tr>\n",
       "      <th>16</th>\n",
       "      <td>Đắc Nhân Tâm</td>\n",
       "      <td>Giỏi Giao Tiếp Dễ Thành Công,Hành Trình Về Phư...</td>\n",
       "    </tr>\n",
       "    <tr>\n",
       "      <th>17</th>\n",
       "      <td>Trời Tính Không Bằng Trời Tính</td>\n",
       "      <td>Muôn Kiếp Nhân Sinh - Tập 1</td>\n",
       "    </tr>\n",
       "    <tr>\n",
       "      <th>18</th>\n",
       "      <td>Nghìn Lẻ Một Đêm - 1001 đêm</td>\n",
       "      <td>Muôn Kiếp Nhân Sinh - Tập 1</td>\n",
       "    </tr>\n",
       "  </tbody>\n",
       "</table>\n",
       "</div>"
      ],
      "text/plain": [
       "                                 antecedents  \\\n",
       "0                         Trở về từ xứ tuyết   \n",
       "1                          Dấu Chân Trên Cát   \n",
       "2                  Minh Triết Trong Đời Sống   \n",
       "3         Huyền thuật và các đạo sĩ Tây Tạng   \n",
       "4                  Hành Trình Về Phương Đông   \n",
       "5                Muôn Kiếp Nhân Sinh - Tập 1   \n",
       "6                 Vị Tu Sĩ Bán Chiếc Ferrari   \n",
       "7                    Đường Mây Qua Xứ Tuyết    \n",
       "8                        Bên Rặng Tuyết Sơn    \n",
       "9                         Hoa Sen Trên Tuyết   \n",
       "10             Thái độ quyết định thành công   \n",
       "11                 Đừng Bao Giờ Từ Bỏ Ước Mơ   \n",
       "12                        Trở Về Từ Cõi Sáng   \n",
       "13          Người Giàu Có Nhất Thành Babylon   \n",
       "14  Nghĩ giàu Làm giàu - Think and Grow Rich   \n",
       "15              Giỏi Giao Tiếp Dễ Thành Công   \n",
       "16                              Đắc Nhân Tâm   \n",
       "17           Trời Tính Không Bằng Trời Tính    \n",
       "18               Nghìn Lẻ Một Đêm - 1001 đêm   \n",
       "\n",
       "                                        next playlist  \n",
       "0   Dấu Chân Trên Cát, Muôn Kiếp Nhân Sinh - Tập 1...  \n",
       "1   Muôn Kiếp Nhân Sinh - Tập 1, Trở về từ xứ tuyế...  \n",
       "2   Trở về từ xứ tuyết,Dấu Chân Trên Cát,Hành Trìn...  \n",
       "3   Dấu Chân Trên Cát,Hành Trình Về Phương Đông,Mu...  \n",
       "4   Muôn Kiếp Nhân Sinh - Tập 1, Trở về từ xứ tuyế...  \n",
       "5   Hành Trình Về Phương Đông, Trở về từ xứ tuyết,...  \n",
       "6   Hành Trình Về Phương Đông,Muôn Kiếp Nhân Sinh ...  \n",
       "7                         Muôn Kiếp Nhân Sinh - Tập 1  \n",
       "8                         Muôn Kiếp Nhân Sinh - Tập 1  \n",
       "9                         Muôn Kiếp Nhân Sinh - Tập 1  \n",
       "10  Đừng Bao Giờ Từ Bỏ Ước Mơ,Đắc Nhân Tâm,Hành Tr...  \n",
       "11                      Thái độ quyết định thành công  \n",
       "12                        Muôn Kiếp Nhân Sinh - Tập 1  \n",
       "13                        Muôn Kiếp Nhân Sinh - Tập 1  \n",
       "14                        Muôn Kiếp Nhân Sinh - Tập 1  \n",
       "15           Đắc Nhân Tâm,Muôn Kiếp Nhân Sinh - Tập 1  \n",
       "16  Giỏi Giao Tiếp Dễ Thành Công,Hành Trình Về Phư...  \n",
       "17                        Muôn Kiếp Nhân Sinh - Tập 1  \n",
       "18                        Muôn Kiếp Nhân Sinh - Tập 1  "
      ]
     },
     "execution_count": 130,
     "metadata": {},
     "output_type": "execute_result"
    }
   ],
   "source": [
    "basket_df1"
   ]
  },
  {
   "cell_type": "code",
   "execution_count": 36,
   "metadata": {
    "scrolled": false
   },
   "outputs": [
    {
     "data": {
      "text/html": [
       "<div>\n",
       "<style scoped>\n",
       "    .dataframe tbody tr th:only-of-type {\n",
       "        vertical-align: middle;\n",
       "    }\n",
       "\n",
       "    .dataframe tbody tr th {\n",
       "        vertical-align: top;\n",
       "    }\n",
       "\n",
       "    .dataframe thead th {\n",
       "        text-align: right;\n",
       "    }\n",
       "</style>\n",
       "<table border=\"1\" class=\"dataframe\">\n",
       "  <thead>\n",
       "    <tr style=\"text-align: right;\">\n",
       "      <th></th>\n",
       "      <th>antecedents</th>\n",
       "      <th>next playlist</th>\n",
       "    </tr>\n",
       "  </thead>\n",
       "  <tbody>\n",
       "    <tr>\n",
       "      <th>0</th>\n",
       "      <td>Trở về từ xứ tuyết</td>\n",
       "      <td>Dấu Chân Trên Cát, Muôn Kiếp Nhân Sinh - Tập 1...</td>\n",
       "    </tr>\n",
       "    <tr>\n",
       "      <th>1</th>\n",
       "      <td>Dấu Chân Trên Cát</td>\n",
       "      <td>Muôn Kiếp Nhân Sinh - Tập 1, Trở về từ xứ tuyế...</td>\n",
       "    </tr>\n",
       "    <tr>\n",
       "      <th>2</th>\n",
       "      <td>Minh Triết Trong Đời Sống</td>\n",
       "      <td>Trở về từ xứ tuyết,Dấu Chân Trên Cát,Hành Trìn...</td>\n",
       "    </tr>\n",
       "    <tr>\n",
       "      <th>3</th>\n",
       "      <td>Huyền thuật và các đạo sĩ Tây Tạng</td>\n",
       "      <td>Dấu Chân Trên Cát,Hành Trình Về Phương Đông,Mu...</td>\n",
       "    </tr>\n",
       "    <tr>\n",
       "      <th>4</th>\n",
       "      <td>Hành Trình Về Phương Đông</td>\n",
       "      <td>Muôn Kiếp Nhân Sinh - Tập 1, Trở về từ xứ tuyế...</td>\n",
       "    </tr>\n",
       "    <tr>\n",
       "      <th>5</th>\n",
       "      <td>Muôn Kiếp Nhân Sinh - Tập 1</td>\n",
       "      <td>Hành Trình Về Phương Đông, Trở về từ xứ tuyết,...</td>\n",
       "    </tr>\n",
       "    <tr>\n",
       "      <th>6</th>\n",
       "      <td>Vị Tu Sĩ Bán Chiếc Ferrari</td>\n",
       "      <td>Hành Trình Về Phương Đông,Muôn Kiếp Nhân Sinh ...</td>\n",
       "    </tr>\n",
       "    <tr>\n",
       "      <th>7</th>\n",
       "      <td>Đường Mây Qua Xứ Tuyết</td>\n",
       "      <td>Muôn Kiếp Nhân Sinh - Tập 1</td>\n",
       "    </tr>\n",
       "    <tr>\n",
       "      <th>8</th>\n",
       "      <td>Bên Rặng Tuyết Sơn</td>\n",
       "      <td>Muôn Kiếp Nhân Sinh - Tập 1</td>\n",
       "    </tr>\n",
       "    <tr>\n",
       "      <th>9</th>\n",
       "      <td>Hoa Sen Trên Tuyết</td>\n",
       "      <td>Muôn Kiếp Nhân Sinh - Tập 1</td>\n",
       "    </tr>\n",
       "    <tr>\n",
       "      <th>10</th>\n",
       "      <td>Thái độ quyết định thành công</td>\n",
       "      <td>Đừng Bao Giờ Từ Bỏ Ước Mơ,Đắc Nhân Tâm,Hành Tr...</td>\n",
       "    </tr>\n",
       "    <tr>\n",
       "      <th>11</th>\n",
       "      <td>Đừng Bao Giờ Từ Bỏ Ước Mơ</td>\n",
       "      <td>Thái độ quyết định thành công</td>\n",
       "    </tr>\n",
       "    <tr>\n",
       "      <th>12</th>\n",
       "      <td>Trở Về Từ Cõi Sáng</td>\n",
       "      <td>Muôn Kiếp Nhân Sinh - Tập 1</td>\n",
       "    </tr>\n",
       "    <tr>\n",
       "      <th>13</th>\n",
       "      <td>Người Giàu Có Nhất Thành Babylon</td>\n",
       "      <td>Muôn Kiếp Nhân Sinh - Tập 1</td>\n",
       "    </tr>\n",
       "    <tr>\n",
       "      <th>14</th>\n",
       "      <td>Nghĩ giàu Làm giàu - Think and Grow Rich</td>\n",
       "      <td>Muôn Kiếp Nhân Sinh - Tập 1</td>\n",
       "    </tr>\n",
       "    <tr>\n",
       "      <th>15</th>\n",
       "      <td>Giỏi Giao Tiếp Dễ Thành Công</td>\n",
       "      <td>Đắc Nhân Tâm,Muôn Kiếp Nhân Sinh - Tập 1</td>\n",
       "    </tr>\n",
       "    <tr>\n",
       "      <th>16</th>\n",
       "      <td>Đắc Nhân Tâm</td>\n",
       "      <td>Giỏi Giao Tiếp Dễ Thành Công,Hành Trình Về Phư...</td>\n",
       "    </tr>\n",
       "    <tr>\n",
       "      <th>17</th>\n",
       "      <td>Trời Tính Không Bằng Trời Tính</td>\n",
       "      <td>Muôn Kiếp Nhân Sinh - Tập 1</td>\n",
       "    </tr>\n",
       "    <tr>\n",
       "      <th>18</th>\n",
       "      <td>Nghìn Lẻ Một Đêm - 1001 đêm</td>\n",
       "      <td>Muôn Kiếp Nhân Sinh - Tập 1</td>\n",
       "    </tr>\n",
       "  </tbody>\n",
       "</table>\n",
       "</div>"
      ],
      "text/plain": [
       "                                 antecedents  \\\n",
       "0                         Trở về từ xứ tuyết   \n",
       "1                          Dấu Chân Trên Cát   \n",
       "2                  Minh Triết Trong Đời Sống   \n",
       "3         Huyền thuật và các đạo sĩ Tây Tạng   \n",
       "4                  Hành Trình Về Phương Đông   \n",
       "5                Muôn Kiếp Nhân Sinh - Tập 1   \n",
       "6                 Vị Tu Sĩ Bán Chiếc Ferrari   \n",
       "7                    Đường Mây Qua Xứ Tuyết    \n",
       "8                        Bên Rặng Tuyết Sơn    \n",
       "9                         Hoa Sen Trên Tuyết   \n",
       "10             Thái độ quyết định thành công   \n",
       "11                 Đừng Bao Giờ Từ Bỏ Ước Mơ   \n",
       "12                        Trở Về Từ Cõi Sáng   \n",
       "13          Người Giàu Có Nhất Thành Babylon   \n",
       "14  Nghĩ giàu Làm giàu - Think and Grow Rich   \n",
       "15              Giỏi Giao Tiếp Dễ Thành Công   \n",
       "16                              Đắc Nhân Tâm   \n",
       "17           Trời Tính Không Bằng Trời Tính    \n",
       "18               Nghìn Lẻ Một Đêm - 1001 đêm   \n",
       "\n",
       "                                        next playlist  \n",
       "0   Dấu Chân Trên Cát, Muôn Kiếp Nhân Sinh - Tập 1...  \n",
       "1   Muôn Kiếp Nhân Sinh - Tập 1, Trở về từ xứ tuyế...  \n",
       "2   Trở về từ xứ tuyết,Dấu Chân Trên Cát,Hành Trìn...  \n",
       "3   Dấu Chân Trên Cát,Hành Trình Về Phương Đông,Mu...  \n",
       "4   Muôn Kiếp Nhân Sinh - Tập 1, Trở về từ xứ tuyế...  \n",
       "5   Hành Trình Về Phương Đông, Trở về từ xứ tuyết,...  \n",
       "6   Hành Trình Về Phương Đông,Muôn Kiếp Nhân Sinh ...  \n",
       "7                         Muôn Kiếp Nhân Sinh - Tập 1  \n",
       "8                         Muôn Kiếp Nhân Sinh - Tập 1  \n",
       "9                         Muôn Kiếp Nhân Sinh - Tập 1  \n",
       "10  Đừng Bao Giờ Từ Bỏ Ước Mơ,Đắc Nhân Tâm,Hành Tr...  \n",
       "11                      Thái độ quyết định thành công  \n",
       "12                        Muôn Kiếp Nhân Sinh - Tập 1  \n",
       "13                        Muôn Kiếp Nhân Sinh - Tập 1  \n",
       "14                        Muôn Kiếp Nhân Sinh - Tập 1  \n",
       "15           Đắc Nhân Tâm,Muôn Kiếp Nhân Sinh - Tập 1  \n",
       "16  Giỏi Giao Tiếp Dễ Thành Công,Hành Trình Về Phư...  \n",
       "17                        Muôn Kiếp Nhân Sinh - Tập 1  \n",
       "18                        Muôn Kiếp Nhân Sinh - Tập 1  "
      ]
     },
     "execution_count": 36,
     "metadata": {},
     "output_type": "execute_result"
    }
   ],
   "source": [
    "basket_df"
   ]
  },
  {
   "cell_type": "code",
   "execution_count": 37,
   "metadata": {
    "scrolled": true
   },
   "outputs": [
    {
     "data": {
      "text/html": [
       "<div>\n",
       "<style scoped>\n",
       "    .dataframe tbody tr th:only-of-type {\n",
       "        vertical-align: middle;\n",
       "    }\n",
       "\n",
       "    .dataframe tbody tr th {\n",
       "        vertical-align: top;\n",
       "    }\n",
       "\n",
       "    .dataframe thead th {\n",
       "        text-align: right;\n",
       "    }\n",
       "</style>\n",
       "<table border=\"1\" class=\"dataframe\">\n",
       "  <thead>\n",
       "    <tr style=\"text-align: right;\">\n",
       "      <th></th>\n",
       "      <th>PlaylistID</th>\n",
       "      <th>PlaylistName</th>\n",
       "      <th>Category</th>\n",
       "      <th>SubCategory</th>\n",
       "      <th>AvgDuration</th>\n",
       "    </tr>\n",
       "  </thead>\n",
       "  <tbody>\n",
       "    <tr>\n",
       "      <th>936</th>\n",
       "      <td>5195</td>\n",
       "      <td>Hỏa Ngục</td>\n",
       "      <td>Truyện nói</td>\n",
       "      <td>Trinh thám</td>\n",
       "      <td>315.577778</td>\n",
       "    </tr>\n",
       "    <tr>\n",
       "      <th>246</th>\n",
       "      <td>4313</td>\n",
       "      <td>Thần Hổ</td>\n",
       "      <td>Truyện nói</td>\n",
       "      <td>Kinh điển Việt Nam</td>\n",
       "      <td>284.800000</td>\n",
       "    </tr>\n",
       "    <tr>\n",
       "      <th>388</th>\n",
       "      <td>4488</td>\n",
       "      <td>Ác Mộng Trong Đêm</td>\n",
       "      <td>Truyện nói</td>\n",
       "      <td>Trinh thám</td>\n",
       "      <td>205.900000</td>\n",
       "    </tr>\n",
       "  </tbody>\n",
       "</table>\n",
       "</div>"
      ],
      "text/plain": [
       "     PlaylistID       PlaylistName    Category         SubCategory  \\\n",
       "936        5195           Hỏa Ngục  Truyện nói          Trinh thám   \n",
       "246        4313            Thần Hổ  Truyện nói  Kinh điển Việt Nam   \n",
       "388        4488  Ác Mộng Trong Đêm  Truyện nói          Trinh thám   \n",
       "\n",
       "     AvgDuration  \n",
       "936   315.577778  \n",
       "246   284.800000  \n",
       "388   205.900000  "
      ]
     },
     "execution_count": 37,
     "metadata": {},
     "output_type": "execute_result"
    }
   ],
   "source": [
    "hv_convert_content_df.head(3)"
   ]
  },
  {
   "cell_type": "markdown",
   "metadata": {},
   "source": [
    "## Content Bundle\n",
    " Cho UserID --> recommend content cho user\n"
   ]
  },
  {
   "cell_type": "markdown",
   "metadata": {},
   "source": [
    "### 1. Recommend list based on historycal playlist and basket analysis"
   ]
  },
  {
   "cell_type": "code",
   "execution_count": 38,
   "metadata": {},
   "outputs": [
    {
     "data": {
      "text/plain": [
       "Index(['PlaylistID (PK)', 'Playlist Name', 'Category', 'Sub Category',\n",
       "       'Playlist Type', 'Playlist Duration (min)', 'Actual Duration (min)',\n",
       "       'UserID (FK)', 'Listening Time', 'Listening Date', 'Listening Week',\n",
       "       'Listening Datetime', 'Value Rank'],\n",
       "      dtype='object')"
      ]
     },
     "execution_count": 38,
     "metadata": {},
     "output_type": "execute_result"
    }
   ],
   "source": [
    "listening_detail_df.columns"
   ]
  },
  {
   "cell_type": "code",
   "execution_count": 39,
   "metadata": {},
   "outputs": [],
   "source": [
    "listen_free_user_df = listening_detail_df.join(other=order_summary_df[[\"User_ID\",\"min_purchase_date\"]].set_index(\"User_ID\"),\n",
    "                                             how=\"left\",on=\"UserID (FK)\")"
   ]
  },
  {
   "cell_type": "code",
   "execution_count": 40,
   "metadata": {
    "scrolled": true
   },
   "outputs": [],
   "source": [
    "listen_free_user_df = listen_free_user_df[listen_free_user_df[\"min_purchase_date\"].isnull()]"
   ]
  },
  {
   "cell_type": "markdown",
   "metadata": {},
   "source": [
    "#### Lọc danh sách free users"
   ]
  },
  {
   "cell_type": "code",
   "execution_count": 41,
   "metadata": {
    "scrolled": true
   },
   "outputs": [
    {
     "data": {
      "text/html": [
       "<div>\n",
       "<style scoped>\n",
       "    .dataframe tbody tr th:only-of-type {\n",
       "        vertical-align: middle;\n",
       "    }\n",
       "\n",
       "    .dataframe tbody tr th {\n",
       "        vertical-align: top;\n",
       "    }\n",
       "\n",
       "    .dataframe thead th {\n",
       "        text-align: right;\n",
       "    }\n",
       "</style>\n",
       "<table border=\"1\" class=\"dataframe\">\n",
       "  <thead>\n",
       "    <tr style=\"text-align: right;\">\n",
       "      <th></th>\n",
       "      <th>PlaylistID (PK)</th>\n",
       "      <th>Playlist Name</th>\n",
       "      <th>Category</th>\n",
       "      <th>Sub Category</th>\n",
       "      <th>Playlist Type</th>\n",
       "      <th>Playlist Duration (min)</th>\n",
       "      <th>Actual Duration (min)</th>\n",
       "      <th>UserID (FK)</th>\n",
       "      <th>Listening Time</th>\n",
       "      <th>Listening Date</th>\n",
       "      <th>Listening Week</th>\n",
       "      <th>Listening Datetime</th>\n",
       "      <th>Value Rank</th>\n",
       "      <th>min_purchase_date</th>\n",
       "    </tr>\n",
       "  </thead>\n",
       "  <tbody>\n",
       "    <tr>\n",
       "      <th>0</th>\n",
       "      <td>4529</td>\n",
       "      <td>Dạy Tiếng Anh Cho Trẻ Mầm Non</td>\n",
       "      <td>Podcast</td>\n",
       "      <td>Học ngoại ngữ</td>\n",
       "      <td>free</td>\n",
       "      <td>44.9</td>\n",
       "      <td>0.1</td>\n",
       "      <td>82846</td>\n",
       "      <td>6:05:00</td>\n",
       "      <td>2020-12-03</td>\n",
       "      <td>11/30/2020</td>\n",
       "      <td>12/3/2020 6:05</td>\n",
       "      <td>High Value</td>\n",
       "      <td>NaT</td>\n",
       "    </tr>\n",
       "  </tbody>\n",
       "</table>\n",
       "</div>"
      ],
      "text/plain": [
       "   PlaylistID (PK)                  Playlist Name Category   Sub Category  \\\n",
       "0             4529  Dạy Tiếng Anh Cho Trẻ Mầm Non  Podcast  Học ngoại ngữ   \n",
       "\n",
       "  Playlist Type  Playlist Duration (min)  Actual Duration (min)  UserID (FK)  \\\n",
       "0          free                     44.9                    0.1        82846   \n",
       "\n",
       "  Listening Time Listening Date Listening Week Listening Datetime  Value Rank  \\\n",
       "0        6:05:00     2020-12-03     11/30/2020     12/3/2020 6:05  High Value   \n",
       "\n",
       "  min_purchase_date  \n",
       "0               NaT  "
      ]
     },
     "execution_count": 41,
     "metadata": {},
     "output_type": "execute_result"
    }
   ],
   "source": [
    "listen_free_user_df.head(1)"
   ]
  },
  {
   "cell_type": "markdown",
   "metadata": {},
   "source": [
    "### Kiếm ra quyển sách được nghe nhiều nhất của user"
   ]
  },
  {
   "cell_type": "code",
   "execution_count": 158,
   "metadata": {},
   "outputs": [],
   "source": [
    "## Function suggest together_playlists base on basket analysis\n",
    "\n",
    "def define_hardPlaylist(user_id, listen_free_user_df):\n",
    "    df = listen_free_user_df[listen_free_user_df[\"UserID (FK)\"]==user_id]\n",
    "    bottom_date = df[\"Listening Date\"].max() -dt.timedelta(days = 14)\n",
    "    playlist = df[df[\"Listening Date\"]>bottom_date]\n",
    "    playlist_summary=playlist.groupby([\"UserID (FK)\",\"PlaylistID (PK)\",\"Playlist Name\"]).agg(\n",
    "    {\"Actual Duration (min)\":[\"sum\"]}).reset_index()\n",
    "    playlist_summary.columns=[\"UserID\",\"PlaylistID\",\"PlaylistName\",\"TotalDuration\"]\n",
    "    hard_playlist= playlist_summary.loc[playlist_summary[\"TotalDuration\"].idxmax(),[\"PlaylistID\",\"PlaylistName\"]]\n",
    "    return hard_playlist[1]\n",
    "\n",
    "def suggest_together_playlists(user_id,listen_free_user_df):\n",
    "    playlist = define_hardPlaylist(user_id, listen_free_user_df)\n",
    "    together_playlists = basket_df[basket_df[\"antecedents\"] == playlist][\"next playlist\"].to_list()\n",
    "    if len(together_playlists)>1:\n",
    "        return (together_playlists[0].split(\",\"))\n",
    "    else:\n",
    "        return (together_playlists)\n",
    "        \n",
    "#     return lst\n",
    "\n",
    "def extract_high_value(x,high_value_user):\n",
    "#     high_value_user = listening_df[listening_df['Value Rank'] == 'High Value']\n",
    "    high_value_user_filter = high_value_user[high_value_user['UserID (FK)'] == x]\n",
    "    last_listening = high_value_user_filter.groupby(by='UserID (FK)')['Listening Date'].max().reset_index()\n",
    "    last_listening.columns = ['UserID (FK)','Last Listening Date']\n",
    "    test = pd.merge(high_value_user_filter, last_listening, how='left', on= 'UserID (FK)')\n",
    "    test['Last Listening Date'] = test['Last Listening Date'].astype('datetime64')\n",
    "    test['time window'] = (test['Last Listening Date'] - test['Listening Date']).dt.days\n",
    "    test = test[test['time window'] <= 14]\n",
    "    test = test.groupby(by=['UserID (FK)', 'Sub Category'])['PlaylistID (PK)'].count().reset_index()\n",
    "    test.columns = ['UserID (FK)', 'Sub Category', 'Listening Count']\n",
    "    test = test[test['Listening Count'] == test['Listening Count'].max()]\n",
    "    test = pd.merge(test, hv_convert_content_df[['PlaylistID','PlaylistName', 'Category', 'SubCategory' , 'AvgDuration']], how='left', left_on='Sub Category', right_on = 'SubCategory' )\n",
    "    lst = test['PlaylistName'].tolist()\n",
    "    \n",
    "    return lst\n",
    "\n",
    "def recommend_playlists(user_id, listen_free_user_df):\n",
    "    lst1 = extract_high_value(user_id,listen_free_user_df)\n",
    "    lst2 = suggest_together_playlists(user_id,listen_free_user_df)\n",
    "    lst3 = lst1 + lst2\n",
    "    newlist=[ii for n,ii in enumerate(lst3) if ii not in lst3[:n]]\n",
    "    \n",
    "    return ((newlist[:3]+newlist[-3:]) if len(newlist)>6 else newlist )"
   ]
  },
  {
   "cell_type": "code",
   "execution_count": 123,
   "metadata": {},
   "outputs": [],
   "source": [
    "# listen_free_user_df.to_csv(\"data/export/listen_free_user_df.csv\")\n",
    "# listening_detail_df.to_csv(\"data/export/listening_detail_df.csv\")"
   ]
  },
  {
   "cell_type": "code",
   "execution_count": 167,
   "metadata": {
    "scrolled": true
   },
   "outputs": [
    {
     "data": {
      "text/plain": [
       "[]"
      ]
     },
     "execution_count": 167,
     "metadata": {},
     "output_type": "execute_result"
    }
   ],
   "source": [
    "# recommend_playlists(85514,listen_free_user_df)\n",
    "suggest_together_playlists(85514,listen_free_user_df)\n",
    "# define_hardPlaylist(84801,listen_free_user_df)"
   ]
  },
  {
   "cell_type": "code",
   "execution_count": 185,
   "metadata": {},
   "outputs": [
    {
     "data": {
      "text/plain": [
       "348"
      ]
     },
     "execution_count": 185,
     "metadata": {},
     "output_type": "execute_result"
    }
   ],
   "source": [
    "user_lst = listen_free_user_df[listen_free_user_df[\"Playlist Name\"]==\"Đừng Bao Giờ Từ Bỏ Ước Mơ\"][\"UserID (FK)\"].unique()\n",
    "len(user_lst)"
   ]
  },
  {
   "cell_type": "code",
   "execution_count": 186,
   "metadata": {},
   "outputs": [],
   "source": [
    "# thử chạy list:\n",
    "recomemend_lst = {}\n",
    "for user in user_lst[:10]:\n",
    "    recomemend_lst[user] = recommend_playlists(user,listen_free_user_df) \n",
    "recomemend_df = pd.DataFrame()\n",
    "recomemend_df[\"User_ID\"]=recomemend_lst.keys()\n",
    "recomemend_df[\"RecommendPlaylists\"]=recomemend_lst.values()"
   ]
  },
  {
   "cell_type": "code",
   "execution_count": 199,
   "metadata": {},
   "outputs": [
    {
     "data": {
      "text/html": [
       "<div>\n",
       "<style scoped>\n",
       "    .dataframe tbody tr th:only-of-type {\n",
       "        vertical-align: middle;\n",
       "    }\n",
       "\n",
       "    .dataframe tbody tr th {\n",
       "        vertical-align: top;\n",
       "    }\n",
       "\n",
       "    .dataframe thead th {\n",
       "        text-align: right;\n",
       "    }\n",
       "</style>\n",
       "<table border=\"1\" class=\"dataframe\">\n",
       "  <thead>\n",
       "    <tr style=\"text-align: right;\">\n",
       "      <th></th>\n",
       "      <th>User_ID</th>\n",
       "      <th>RecommendPlaylists</th>\n",
       "    </tr>\n",
       "  </thead>\n",
       "  <tbody>\n",
       "    <tr>\n",
       "      <th>0</th>\n",
       "      <td>85514</td>\n",
       "      <td>(Blog Cho Tâm Hồn 1, Bí Mật Chiếc Xô Cảm Xúc, ...</td>\n",
       "    </tr>\n",
       "    <tr>\n",
       "      <th>1</th>\n",
       "      <td>84801</td>\n",
       "      <td>(Khách Hàng Là Số 1, Cải Tổ Doanh Nghiệp Trong...</td>\n",
       "    </tr>\n",
       "    <tr>\n",
       "      <th>2</th>\n",
       "      <td>60682</td>\n",
       "      <td>(Khám Phá Những Điều Phi Thường, Để thế giới b...</td>\n",
       "    </tr>\n",
       "    <tr>\n",
       "      <th>3</th>\n",
       "      <td>66283</td>\n",
       "      <td>(Khám Phá Những Điều Phi Thường, Để thế giới b...</td>\n",
       "    </tr>\n",
       "    <tr>\n",
       "      <th>4</th>\n",
       "      <td>75309</td>\n",
       "      <td>(Khám Phá Những Điều Phi Thường, Để thế giới b...</td>\n",
       "    </tr>\n",
       "    <tr>\n",
       "      <th>5</th>\n",
       "      <td>71716</td>\n",
       "      <td>(Blog Cho Tâm Hồn 1, Bí Mật Chiếc Xô Cảm Xúc, ...</td>\n",
       "    </tr>\n",
       "    <tr>\n",
       "      <th>6</th>\n",
       "      <td>70528</td>\n",
       "      <td>(Khám Phá Những Điều Phi Thường, Để thế giới b...</td>\n",
       "    </tr>\n",
       "    <tr>\n",
       "      <th>7</th>\n",
       "      <td>82390</td>\n",
       "      <td>(Tái Tạo Tổ Chức, Triết Học Cho Người Không Ch...</td>\n",
       "    </tr>\n",
       "    <tr>\n",
       "      <th>8</th>\n",
       "      <td>78771</td>\n",
       "      <td>(Thần Hổ, Truyện Ngắn Nam Cao 1 - Chí Phèo, Tr...</td>\n",
       "    </tr>\n",
       "    <tr>\n",
       "      <th>9</th>\n",
       "      <td>79347</td>\n",
       "      <td>(Dê Con Nhanh Trí, Bí Mật Một Khu Rừng, Cùng B...</td>\n",
       "    </tr>\n",
       "  </tbody>\n",
       "</table>\n",
       "</div>"
      ],
      "text/plain": [
       "   User_ID                                 RecommendPlaylists\n",
       "0    85514  (Blog Cho Tâm Hồn 1, Bí Mật Chiếc Xô Cảm Xúc, ...\n",
       "1    84801  (Khách Hàng Là Số 1, Cải Tổ Doanh Nghiệp Trong...\n",
       "2    60682  (Khám Phá Những Điều Phi Thường, Để thế giới b...\n",
       "3    66283  (Khám Phá Những Điều Phi Thường, Để thế giới b...\n",
       "4    75309  (Khám Phá Những Điều Phi Thường, Để thế giới b...\n",
       "5    71716  (Blog Cho Tâm Hồn 1, Bí Mật Chiếc Xô Cảm Xúc, ...\n",
       "6    70528  (Khám Phá Những Điều Phi Thường, Để thế giới b...\n",
       "7    82390  (Tái Tạo Tổ Chức, Triết Học Cho Người Không Ch...\n",
       "8    78771  (Thần Hổ, Truyện Ngắn Nam Cao 1 - Chí Phèo, Tr...\n",
       "9    79347  (Dê Con Nhanh Trí, Bí Mật Một Khu Rừng, Cùng B..."
      ]
     },
     "execution_count": 199,
     "metadata": {},
     "output_type": "execute_result"
    }
   ],
   "source": [
    "recomemend_df"
   ]
  },
  {
   "cell_type": "code",
   "execution_count": 206,
   "metadata": {},
   "outputs": [],
   "source": [
    "## Nối free users theo clustering\n",
    "\n",
    "clustering_df = pd.read_csv(\"data/clustering_processed.csv\")\n"
   ]
  },
  {
   "cell_type": "code",
   "execution_count": 207,
   "metadata": {},
   "outputs": [
    {
     "data": {
      "text/plain": [
       "Index(['User_ID (FK)', 'Type_user', 'MainCluster_ID',\n",
       "       'MainCluster_Description'],\n",
       "      dtype='object')"
      ]
     },
     "execution_count": 207,
     "metadata": {},
     "output_type": "execute_result"
    }
   ],
   "source": [
    "clustering_df.columns"
   ]
  },
  {
   "cell_type": "code",
   "execution_count": 211,
   "metadata": {},
   "outputs": [],
   "source": [
    "free_clustering_df = clustering_df[clustering_df[\"Type_user\"]==\"free\"]"
   ]
  },
  {
   "cell_type": "code",
   "execution_count": 239,
   "metadata": {},
   "outputs": [
    {
     "data": {
      "text/plain": [
       "Index(['PlaylistID (PK)', 'Playlist Name', 'Category', 'Sub Category',\n",
       "       'Playlist Type', 'Playlist Duration (min)', 'Actual Duration (min)',\n",
       "       'UserID (FK)', 'Listening Time', 'Listening Date', 'Listening Week',\n",
       "       'Listening Datetime', 'Value Rank', 'min_purchase_date',\n",
       "       'MainCluster_ID', 'MainCluster_Description'],\n",
       "      dtype='object')"
      ]
     },
     "execution_count": 239,
     "metadata": {},
     "output_type": "execute_result"
    }
   ],
   "source": [
    "listen_free_user_df.columns"
   ]
  },
  {
   "cell_type": "code",
   "execution_count": 225,
   "metadata": {},
   "outputs": [],
   "source": [
    "listen_free_user_df = listen_free_user_df.join(other=free_clustering_df[[\"User_ID (FK)\",'MainCluster_ID','MainCluster_Description']].set_index(\"User_ID (FK)\"),\n",
    "                        how = \"inner\", on = \"UserID (FK)\")\n",
    "listen_free_user_df.to_csv(\"data/export/listen_free_user_df.csv\",index= False)"
   ]
  },
  {
   "cell_type": "code",
   "execution_count": 240,
   "metadata": {},
   "outputs": [],
   "source": [
    "cluster = listen_free_user_df.groupby([\"MainCluster_ID\",\"MainCluster_Description\"]).agg({\"UserID (FK)\":\"count\"}).reset_index()\n",
    "\n",
    "cluster.columns=[\"MainCluster_ID\",\"MainCluster_Description\",\"#\"]"
   ]
  },
  {
   "cell_type": "code",
   "execution_count": 241,
   "metadata": {},
   "outputs": [
    {
     "data": {
      "text/html": [
       "<div>\n",
       "<style scoped>\n",
       "    .dataframe tbody tr th:only-of-type {\n",
       "        vertical-align: middle;\n",
       "    }\n",
       "\n",
       "    .dataframe tbody tr th {\n",
       "        vertical-align: top;\n",
       "    }\n",
       "\n",
       "    .dataframe thead th {\n",
       "        text-align: right;\n",
       "    }\n",
       "</style>\n",
       "<table border=\"1\" class=\"dataframe\">\n",
       "  <thead>\n",
       "    <tr style=\"text-align: right;\">\n",
       "      <th></th>\n",
       "      <th>MainCluster_ID</th>\n",
       "      <th>MainCluster_Description</th>\n",
       "      <th>#</th>\n",
       "    </tr>\n",
       "  </thead>\n",
       "  <tbody>\n",
       "    <tr>\n",
       "      <th>0</th>\n",
       "      <td>4</td>\n",
       "      <td>Lost active user</td>\n",
       "      <td>51783</td>\n",
       "    </tr>\n",
       "    <tr>\n",
       "      <th>1</th>\n",
       "      <td>7</td>\n",
       "      <td>Potential, Skimming Listeners</td>\n",
       "      <td>19558</td>\n",
       "    </tr>\n",
       "    <tr>\n",
       "      <th>2</th>\n",
       "      <td>8</td>\n",
       "      <td>Potential, Engaging Listeners</td>\n",
       "      <td>98687</td>\n",
       "    </tr>\n",
       "    <tr>\n",
       "      <th>3</th>\n",
       "      <td>9</td>\n",
       "      <td>Loyal Users, Skimming Listeners</td>\n",
       "      <td>17705</td>\n",
       "    </tr>\n",
       "    <tr>\n",
       "      <th>4</th>\n",
       "      <td>10</td>\n",
       "      <td>Loyal Users, Engaging Listeners</td>\n",
       "      <td>26133</td>\n",
       "    </tr>\n",
       "  </tbody>\n",
       "</table>\n",
       "</div>"
      ],
      "text/plain": [
       "   MainCluster_ID          MainCluster_Description      #\n",
       "0               4                 Lost active user  51783\n",
       "1               7    Potential, Skimming Listeners  19558\n",
       "2               8    Potential, Engaging Listeners  98687\n",
       "3               9  Loyal Users, Skimming Listeners  17705\n",
       "4              10  Loyal Users, Engaging Listeners  26133"
      ]
     },
     "execution_count": 241,
     "metadata": {},
     "output_type": "execute_result"
    }
   ],
   "source": [
    "cluster.sort_values(by=[\"MainCluster_ID\"])"
   ]
  },
  {
   "cell_type": "code",
   "execution_count": 247,
   "metadata": {},
   "outputs": [
    {
     "data": {
      "text/plain": [
       "(list, 51783)"
      ]
     },
     "execution_count": 247,
     "metadata": {},
     "output_type": "execute_result"
    }
   ],
   "source": [
    "l =cluster[cluster[\"MainCluster_Description\"]==\"Lost active user\"][\"#\"].tolist()\n",
    "type(l),l[0]"
   ]
  },
  {
   "cell_type": "code",
   "execution_count": 261,
   "metadata": {},
   "outputs": [],
   "source": [
    "users = listen_free_user_df[listen_free_user_df[\"MainCluster_Description\"]==\"Lost active user\"][\"UserID (FK)\"].unique()"
   ]
  },
  {
   "cell_type": "code",
   "execution_count": 263,
   "metadata": {},
   "outputs": [
    {
     "data": {
      "text/plain": [
       "list"
      ]
     },
     "execution_count": 263,
     "metadata": {},
     "output_type": "execute_result"
    }
   ],
   "source": [
    "type(users.tolist())"
   ]
  },
  {
   "cell_type": "code",
   "execution_count": 264,
   "metadata": {},
   "outputs": [],
   "source": [
    "users = users[:100]"
   ]
  },
  {
   "cell_type": "code",
   "execution_count": 265,
   "metadata": {},
   "outputs": [
    {
     "data": {
      "text/plain": [
       "array([68280, 71674, 70213, 65043, 62648, 65204, 73219, 64694, 58540,\n",
       "       59898, 83576, 62938, 75572, 82465, 64465, 64109, 63973, 76319,\n",
       "       84976, 80696, 64163, 83404, 76101, 67908, 68908, 83950, 69817,\n",
       "       73315, 69970, 72482, 52826, 71096, 75151, 66895, 55096, 68676,\n",
       "       81317, 61336, 74814, 52798, 66250, 65117, 75829, 66478, 52982,\n",
       "       68411, 73896, 61127, 70355, 78043, 82252, 75516, 73302, 71322,\n",
       "       75309, 64296, 67991, 60794, 82772, 80180, 73412, 80009, 72426,\n",
       "       73038, 63325, 63816, 67728, 69863, 81561, 62850, 74149, 62062,\n",
       "       60525, 81473, 83221, 68902, 63240, 74985, 85028, 73348, 73256,\n",
       "       77407, 75712, 73190, 62275, 67207, 63528, 66231, 65004, 51526,\n",
       "       50323, 81190, 74736, 63731, 55057, 69943, 63535, 66241, 64761,\n",
       "       68659], dtype=int64)"
      ]
     },
     "execution_count": 265,
     "metadata": {},
     "output_type": "execute_result"
    }
   ],
   "source": [
    "users"
   ]
  },
  {
   "cell_type": "code",
   "execution_count": 140,
   "metadata": {
    "scrolled": true
   },
   "outputs": [
    {
     "data": {
      "text/plain": [
       "PlaylistID (PK)                     int64\n",
       "Playlist Name                      object\n",
       "Category                           object\n",
       "Sub Category                       object\n",
       "Playlist Type                      object\n",
       "Playlist Duration (min)           float64\n",
       "Actual Duration (min)             float64\n",
       "UserID (FK)                         int64\n",
       "Listening Time                     object\n",
       "Listening Date             datetime64[ns]\n",
       "Listening Week                     object\n",
       "Listening Datetime                 object\n",
       "Value Rank                         object\n",
       "min_purchase_date          datetime64[ns]\n",
       "dtype: object"
      ]
     },
     "execution_count": 140,
     "metadata": {},
     "output_type": "execute_result"
    }
   ],
   "source": [
    "listen_free_user_df.dtypes"
   ]
  },
  {
   "cell_type": "code",
   "execution_count": 13,
   "metadata": {},
   "outputs": [],
   "source": [
    "hv_convert_content_df = pd.read_csv(\"streamlit_data/basket_output.csv\")"
   ]
  },
  {
   "cell_type": "code",
   "execution_count": 14,
   "metadata": {},
   "outputs": [
    {
     "data": {
      "text/html": [
       "<div>\n",
       "<style scoped>\n",
       "    .dataframe tbody tr th:only-of-type {\n",
       "        vertical-align: middle;\n",
       "    }\n",
       "\n",
       "    .dataframe tbody tr th {\n",
       "        vertical-align: top;\n",
       "    }\n",
       "\n",
       "    .dataframe thead th {\n",
       "        text-align: right;\n",
       "    }\n",
       "</style>\n",
       "<table border=\"1\" class=\"dataframe\">\n",
       "  <thead>\n",
       "    <tr style=\"text-align: right;\">\n",
       "      <th></th>\n",
       "      <th>antecedents</th>\n",
       "      <th>next playlist</th>\n",
       "    </tr>\n",
       "  </thead>\n",
       "  <tbody>\n",
       "    <tr>\n",
       "      <th>0</th>\n",
       "      <td>Sự Tích Con Rồng Cháu Tiên</td>\n",
       "      <td>Sự Tích Thạch Sùng</td>\n",
       "    </tr>\n",
       "    <tr>\n",
       "      <th>1</th>\n",
       "      <td>Sự Tích Thạch Sùng</td>\n",
       "      <td>Sự Tích Con Rồng Cháu Tiên,Nghìn Lẻ Một Đêm - ...</td>\n",
       "    </tr>\n",
       "    <tr>\n",
       "      <th>2</th>\n",
       "      <td>Trở Về Từ Cõi Sáng</td>\n",
       "      <td>Trở về từ xứ tuyết, Huyền thuật và các đạo sĩ ...</td>\n",
       "    </tr>\n",
       "    <tr>\n",
       "      <th>3</th>\n",
       "      <td>Bên Rặng Tuyết Sơn</td>\n",
       "      <td>Trở về từ xứ tuyết, Minh Triết Trong Đời Sống,...</td>\n",
       "    </tr>\n",
       "    <tr>\n",
       "      <th>4</th>\n",
       "      <td>Huyền thuật và các đạo sĩ Tây Tạng</td>\n",
       "      <td>Trở Về Từ Cõi Sáng, Trở về từ xứ tuyết,Trở Về ...</td>\n",
       "    </tr>\n",
       "    <tr>\n",
       "      <th>5</th>\n",
       "      <td>Trở về từ xứ tuyết</td>\n",
       "      <td>Bên Rặng Tuyết Sơn , Minh Triết Trong Đời Sống...</td>\n",
       "    </tr>\n",
       "    <tr>\n",
       "      <th>6</th>\n",
       "      <td>Đường Mây Qua Xứ Tuyết</td>\n",
       "      <td>Bên Rặng Tuyết Sơn ,Trở Về Từ Cõi Sáng,Huyền t...</td>\n",
       "    </tr>\n",
       "    <tr>\n",
       "      <th>7</th>\n",
       "      <td>Ngọc sáng trong hoa sen</td>\n",
       "      <td>Huyền thuật và các đạo sĩ Tây Tạng,Minh Triết ...</td>\n",
       "    </tr>\n",
       "    <tr>\n",
       "      <th>8</th>\n",
       "      <td>Hoa Sen Trên Tuyết</td>\n",
       "      <td>Trở về từ xứ tuyết, Dấu Chân Trên Cát,Trở Về T...</td>\n",
       "    </tr>\n",
       "    <tr>\n",
       "      <th>9</th>\n",
       "      <td>Minh Triết Trong Đời Sống</td>\n",
       "      <td>Trở Về Từ Cõi Sáng, Huyền thuật và các đạo sĩ ...</td>\n",
       "    </tr>\n",
       "    <tr>\n",
       "      <th>10</th>\n",
       "      <td>Hoa Trôi Trên Sóng Nước</td>\n",
       "      <td>Trở về từ xứ tuyết,Dấu Chân Trên Cát</td>\n",
       "    </tr>\n",
       "    <tr>\n",
       "      <th>11</th>\n",
       "      <td>Điểm Tin Quốc Tế</td>\n",
       "      <td>Điểm Tin Trong Nước</td>\n",
       "    </tr>\n",
       "    <tr>\n",
       "      <th>12</th>\n",
       "      <td>Điểm Tin Trong Nước</td>\n",
       "      <td>Điểm Tin Quốc Tế</td>\n",
       "    </tr>\n",
       "    <tr>\n",
       "      <th>13</th>\n",
       "      <td>Dấu Chân Trên Cát</td>\n",
       "      <td>Trở Về Từ Cõi Sáng, Trở về từ xứ tuyết,Trở Về ...</td>\n",
       "    </tr>\n",
       "    <tr>\n",
       "      <th>14</th>\n",
       "      <td>Nhạc Thư Giãn Giảm Stress</td>\n",
       "      <td>Nhạc Không Lời Nhẹ Nhàng,Trời Tính Không Bằng ...</td>\n",
       "    </tr>\n",
       "    <tr>\n",
       "      <th>15</th>\n",
       "      <td>Nhạc Không Lời Nhẹ Nhàng</td>\n",
       "      <td>Nhạc Thư Giãn Giảm Stress,Nhìn Cuộc Sống Khác ...</td>\n",
       "    </tr>\n",
       "    <tr>\n",
       "      <th>16</th>\n",
       "      <td>Vị Tu Sĩ Bán Chiếc Ferrari</td>\n",
       "      <td>Trở về từ xứ tuyết, Dấu Chân Trên Cát,Trở Về T...</td>\n",
       "    </tr>\n",
       "    <tr>\n",
       "      <th>17</th>\n",
       "      <td>Không Diệt Không Sinh Đừng Sợ Hãi - Thích Nhất...</td>\n",
       "      <td>Dấu Chân Trên Cát</td>\n",
       "    </tr>\n",
       "    <tr>\n",
       "      <th>18</th>\n",
       "      <td>Bí Ẩn Sử Việt</td>\n",
       "      <td>Tây Sơn Ký: Những câu chuyện về thời đại của H...</td>\n",
       "    </tr>\n",
       "    <tr>\n",
       "      <th>19</th>\n",
       "      <td>Tây Sơn Ký: Những câu chuyện về thời đại của H...</td>\n",
       "      <td>Bí Ẩn Sử Việt,Trời Tính Không Bằng Trời Tính</td>\n",
       "    </tr>\n",
       "    <tr>\n",
       "      <th>20</th>\n",
       "      <td>Dưới Ánh Sáng Của Thiền</td>\n",
       "      <td>Minh Triết Trong Đời Sống</td>\n",
       "    </tr>\n",
       "    <tr>\n",
       "      <th>21</th>\n",
       "      <td>Nghìn Lẻ Một Đêm - 1001 đêm</td>\n",
       "      <td>Sự Tích Thạch Sùng,Bí Ẩn Sử Việt,Tư Duy Tích C...</td>\n",
       "    </tr>\n",
       "    <tr>\n",
       "      <th>22</th>\n",
       "      <td>Nghĩ giàu Làm giàu - Think and Grow Rich</td>\n",
       "      <td>Vị Tu Sĩ Bán Chiếc Ferrari,Giỏi Giao Tiếp Dễ T...</td>\n",
       "    </tr>\n",
       "    <tr>\n",
       "      <th>23</th>\n",
       "      <td>Nhìn Cuộc Sống Khác Đi</td>\n",
       "      <td>Nhạc Không Lời Nhẹ Nhàng,Đừng Bao Giờ Từ Bỏ Ướ...</td>\n",
       "    </tr>\n",
       "    <tr>\n",
       "      <th>24</th>\n",
       "      <td>10 Quy luật cuộc sống</td>\n",
       "      <td>Đừng Bao Giờ Từ Bỏ Ước Mơ,Thái độ quyết định t...</td>\n",
       "    </tr>\n",
       "    <tr>\n",
       "      <th>25</th>\n",
       "      <td>Đừng Bao Giờ Từ Bỏ Ước Mơ</td>\n",
       "      <td>10 Quy luật cuộc sống,Nhìn Cuộc Sống Khác Đi,T...</td>\n",
       "    </tr>\n",
       "    <tr>\n",
       "      <th>26</th>\n",
       "      <td>Giỏi Giao Tiếp Dễ Thành Công</td>\n",
       "      <td>Nghĩ giàu Làm giàu - Think and Grow Rich,Vị Tu...</td>\n",
       "    </tr>\n",
       "    <tr>\n",
       "      <th>27</th>\n",
       "      <td>Tư Duy Tích Cực - Bạn Là Những Gì Bạn Nghĩ (Nh...</td>\n",
       "      <td>Đừng Bao Giờ Từ Bỏ Ước Mơ,Thái độ quyết định t...</td>\n",
       "    </tr>\n",
       "    <tr>\n",
       "      <th>28</th>\n",
       "      <td>Thái độ quyết định thành công</td>\n",
       "      <td>Đừng Bao Giờ Từ Bỏ Ước Mơ,10 Quy luật cuộc sốn...</td>\n",
       "    </tr>\n",
       "    <tr>\n",
       "      <th>29</th>\n",
       "      <td>Trời Tính Không Bằng Trời Tính</td>\n",
       "      <td>Tây Sơn Ký: Những câu chuyện về thời đại của H...</td>\n",
       "    </tr>\n",
       "    <tr>\n",
       "      <th>30</th>\n",
       "      <td>Người Giàu Có Nhất Thành Babylon</td>\n",
       "      <td>Đắc Nhân Tâm</td>\n",
       "    </tr>\n",
       "    <tr>\n",
       "      <th>31</th>\n",
       "      <td>Đắc Nhân Tâm</td>\n",
       "      <td>Người Giàu Có Nhất Thành Babylon,Giỏi Giao Tiế...</td>\n",
       "    </tr>\n",
       "    <tr>\n",
       "      <th>32</th>\n",
       "      <td>[Sách Tóm Tắt] Nguyên Lý 80 - 20</td>\n",
       "      <td>Thái độ quyết định thành công</td>\n",
       "    </tr>\n",
       "    <tr>\n",
       "      <th>33</th>\n",
       "      <td>Tâm Lý Học</td>\n",
       "      <td>Trời Tính Không Bằng Trời Tính ,Thái độ quyết ...</td>\n",
       "    </tr>\n",
       "    <tr>\n",
       "      <th>34</th>\n",
       "      <td>Số Đỏ</td>\n",
       "      <td>Trời Tính Không Bằng Trời Tính</td>\n",
       "    </tr>\n",
       "    <tr>\n",
       "      <th>35</th>\n",
       "      <td>[Sách Tóm Tắt] Dạy Con Làm Giàu - Cha giàu Cha...</td>\n",
       "      <td>Thái độ quyết định thành công</td>\n",
       "    </tr>\n",
       "    <tr>\n",
       "      <th>36</th>\n",
       "      <td>[Sách Tóm Tắt] Đọc Vị Bất Kỳ Ai</td>\n",
       "      <td>Trời Tính Không Bằng Trời Tính ,Thái độ quyết ...</td>\n",
       "    </tr>\n",
       "    <tr>\n",
       "      <th>37</th>\n",
       "      <td>Hạt Giống Tâm Hồn 12</td>\n",
       "      <td>Thái độ quyết định thành công,Trời Tính Không ...</td>\n",
       "    </tr>\n",
       "    <tr>\n",
       "      <th>38</th>\n",
       "      <td>NaN</td>\n",
       "      <td>NaN</td>\n",
       "    </tr>\n",
       "  </tbody>\n",
       "</table>\n",
       "</div>"
      ],
      "text/plain": [
       "                                          antecedents  \\\n",
       "0                          Sự Tích Con Rồng Cháu Tiên   \n",
       "1                                  Sự Tích Thạch Sùng   \n",
       "2                                  Trở Về Từ Cõi Sáng   \n",
       "3                                 Bên Rặng Tuyết Sơn    \n",
       "4                  Huyền thuật và các đạo sĩ Tây Tạng   \n",
       "5                                  Trở về từ xứ tuyết   \n",
       "6                             Đường Mây Qua Xứ Tuyết    \n",
       "7                             Ngọc sáng trong hoa sen   \n",
       "8                                  Hoa Sen Trên Tuyết   \n",
       "9                           Minh Triết Trong Đời Sống   \n",
       "10                            Hoa Trôi Trên Sóng Nước   \n",
       "11                                   Điểm Tin Quốc Tế   \n",
       "12                                Điểm Tin Trong Nước   \n",
       "13                                  Dấu Chân Trên Cát   \n",
       "14                          Nhạc Thư Giãn Giảm Stress   \n",
       "15                           Nhạc Không Lời Nhẹ Nhàng   \n",
       "16                         Vị Tu Sĩ Bán Chiếc Ferrari   \n",
       "17  Không Diệt Không Sinh Đừng Sợ Hãi - Thích Nhất...   \n",
       "18                                      Bí Ẩn Sử Việt   \n",
       "19  Tây Sơn Ký: Những câu chuyện về thời đại của H...   \n",
       "20                            Dưới Ánh Sáng Của Thiền   \n",
       "21                        Nghìn Lẻ Một Đêm - 1001 đêm   \n",
       "22           Nghĩ giàu Làm giàu - Think and Grow Rich   \n",
       "23                             Nhìn Cuộc Sống Khác Đi   \n",
       "24                              10 Quy luật cuộc sống   \n",
       "25                          Đừng Bao Giờ Từ Bỏ Ước Mơ   \n",
       "26                       Giỏi Giao Tiếp Dễ Thành Công   \n",
       "27  Tư Duy Tích Cực - Bạn Là Những Gì Bạn Nghĩ (Nh...   \n",
       "28                      Thái độ quyết định thành công   \n",
       "29                    Trời Tính Không Bằng Trời Tính    \n",
       "30                   Người Giàu Có Nhất Thành Babylon   \n",
       "31                                       Đắc Nhân Tâm   \n",
       "32                   [Sách Tóm Tắt] Nguyên Lý 80 - 20   \n",
       "33                                         Tâm Lý Học   \n",
       "34                                              Số Đỏ   \n",
       "35  [Sách Tóm Tắt] Dạy Con Làm Giàu - Cha giàu Cha...   \n",
       "36                    [Sách Tóm Tắt] Đọc Vị Bất Kỳ Ai   \n",
       "37                               Hạt Giống Tâm Hồn 12   \n",
       "38                                                NaN   \n",
       "\n",
       "                                        next playlist  \n",
       "0                                  Sự Tích Thạch Sùng  \n",
       "1   Sự Tích Con Rồng Cháu Tiên,Nghìn Lẻ Một Đêm - ...  \n",
       "2   Trở về từ xứ tuyết, Huyền thuật và các đạo sĩ ...  \n",
       "3   Trở về từ xứ tuyết, Minh Triết Trong Đời Sống,...  \n",
       "4   Trở Về Từ Cõi Sáng, Trở về từ xứ tuyết,Trở Về ...  \n",
       "5   Bên Rặng Tuyết Sơn , Minh Triết Trong Đời Sống...  \n",
       "6   Bên Rặng Tuyết Sơn ,Trở Về Từ Cõi Sáng,Huyền t...  \n",
       "7   Huyền thuật và các đạo sĩ Tây Tạng,Minh Triết ...  \n",
       "8   Trở về từ xứ tuyết, Dấu Chân Trên Cát,Trở Về T...  \n",
       "9   Trở Về Từ Cõi Sáng, Huyền thuật và các đạo sĩ ...  \n",
       "10               Trở về từ xứ tuyết,Dấu Chân Trên Cát  \n",
       "11                                Điểm Tin Trong Nước  \n",
       "12                                   Điểm Tin Quốc Tế  \n",
       "13  Trở Về Từ Cõi Sáng, Trở về từ xứ tuyết,Trở Về ...  \n",
       "14  Nhạc Không Lời Nhẹ Nhàng,Trời Tính Không Bằng ...  \n",
       "15  Nhạc Thư Giãn Giảm Stress,Nhìn Cuộc Sống Khác ...  \n",
       "16  Trở về từ xứ tuyết, Dấu Chân Trên Cát,Trở Về T...  \n",
       "17                                  Dấu Chân Trên Cát  \n",
       "18  Tây Sơn Ký: Những câu chuyện về thời đại của H...  \n",
       "19      Bí Ẩn Sử Việt,Trời Tính Không Bằng Trời Tính   \n",
       "20                          Minh Triết Trong Đời Sống  \n",
       "21  Sự Tích Thạch Sùng,Bí Ẩn Sử Việt,Tư Duy Tích C...  \n",
       "22  Vị Tu Sĩ Bán Chiếc Ferrari,Giỏi Giao Tiếp Dễ T...  \n",
       "23  Nhạc Không Lời Nhẹ Nhàng,Đừng Bao Giờ Từ Bỏ Ướ...  \n",
       "24  Đừng Bao Giờ Từ Bỏ Ước Mơ,Thái độ quyết định t...  \n",
       "25  10 Quy luật cuộc sống,Nhìn Cuộc Sống Khác Đi,T...  \n",
       "26  Nghĩ giàu Làm giàu - Think and Grow Rich,Vị Tu...  \n",
       "27  Đừng Bao Giờ Từ Bỏ Ước Mơ,Thái độ quyết định t...  \n",
       "28  Đừng Bao Giờ Từ Bỏ Ước Mơ,10 Quy luật cuộc sốn...  \n",
       "29  Tây Sơn Ký: Những câu chuyện về thời đại của H...  \n",
       "30                                       Đắc Nhân Tâm  \n",
       "31  Người Giàu Có Nhất Thành Babylon,Giỏi Giao Tiế...  \n",
       "32                      Thái độ quyết định thành công  \n",
       "33  Trời Tính Không Bằng Trời Tính ,Thái độ quyết ...  \n",
       "34                    Trời Tính Không Bằng Trời Tính   \n",
       "35                      Thái độ quyết định thành công  \n",
       "36  Trời Tính Không Bằng Trời Tính ,Thái độ quyết ...  \n",
       "37  Thái độ quyết định thành công,Trời Tính Không ...  \n",
       "38                                                NaN  "
      ]
     },
     "execution_count": 14,
     "metadata": {},
     "output_type": "execute_result"
    }
   ],
   "source": [
    "hv_convert_content_df = hv_convert_content_df.drop(columns = ['Unnamed: 0'],axis=1)\n"
   ]
  },
  {
   "cell_type": "code",
   "execution_count": 11,
   "metadata": {},
   "outputs": [],
   "source": [
    "hv_convert_content_df.to_csv(\"streamlit_data/hv_convert_content.csv\",index=False)"
   ]
  }
 ],
 "metadata": {
  "kernelspec": {
   "display_name": "Python 3",
   "language": "python",
   "name": "python3"
  },
  "language_info": {
   "codemirror_mode": {
    "name": "ipython",
    "version": 3
   },
   "file_extension": ".py",
   "mimetype": "text/x-python",
   "name": "python",
   "nbconvert_exporter": "python",
   "pygments_lexer": "ipython3",
   "version": "3.8.5"
  }
 },
 "nbformat": 4,
 "nbformat_minor": 4
}
