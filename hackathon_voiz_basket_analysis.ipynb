{
 "cells": [
  {
   "cell_type": "markdown",
   "metadata": {},
   "source": [
    "## PLAYLIST BASKET ANALYSIS"
   ]
  },
  {
   "cell_type": "code",
   "execution_count": 1,
   "metadata": {},
   "outputs": [],
   "source": [
    "import pandas as pd\n",
    "import numpy as np\n",
    "from matplotlib import pyplot as plt\n",
    "import seaborn as sns\n",
    "\n",
    "from datetime import date\n",
    "from datetime import time\n",
    "import datetime as dt\n",
    "\n",
    "import mlxtend.frequent_patterns \n",
    "import mlxtend.preprocessing"
   ]
  },
  {
   "cell_type": "code",
   "execution_count": 2,
   "metadata": {},
   "outputs": [],
   "source": [
    "order_detail_df = pd.read_csv(\"data/order_processed.csv\")\n",
    "user_df = pd.read_csv(\"data/user_processed.csv\")\n",
    "listening_detail_df = pd.read_csv(\"data/listening_processed.csv\")\n",
    "clustering_df = pd.read_csv(\"data/clustering_processed.csv\")"
   ]
  },
  {
   "cell_type": "markdown",
   "metadata": {},
   "source": [
    "#### Xử lý kiểu dữ liệu"
   ]
  },
  {
   "cell_type": "code",
   "execution_count": 3,
   "metadata": {},
   "outputs": [],
   "source": [
    "##### Đổi tên cột\n",
    "listening_detail_df.columns=[\"PlaylistID\",\"Playlist Name\",\"Category\",\"SubCategory\",\"PlaylistType\",\"PlaylistDuration(min)\",\n",
    "                            \"ActualDuration(min)\",\"UserID\",\"ListeningTime\",\"ListeningDate\",\"ListeningDatetime\"]"
   ]
  },
  {
   "cell_type": "code",
   "execution_count": 4,
   "metadata": {},
   "outputs": [],
   "source": [
    "listening_detail_df[\"ListeningDate\"] = listening_detail_df[\"ListeningDate\"].astype(\"datetime64\")\n",
    "listening_detail_df[\"PlaylistID\"] = listening_detail_df[\"PlaylistID\"].astype(\"object\")"
   ]
  },
  {
   "cell_type": "code",
   "execution_count": 5,
   "metadata": {},
   "outputs": [],
   "source": [
    "##### Chuyển dữ liệu datetime\n",
    "order_detail_df[\"Transaction Date\"]=order_detail_df[\"Transaction Date\"].astype(\"datetime64\")"
   ]
  },
  {
   "cell_type": "markdown",
   "metadata": {},
   "source": [
    "### Function definition"
   ]
  },
  {
   "cell_type": "code",
   "execution_count": 6,
   "metadata": {},
   "outputs": [],
   "source": [
    "def visualize_numerical(df, column, target = None):\n",
    "\n",
    "    fig, (ax1,ax2) = plt.subplots(nrows = 1, ncols = 2, figsize = (14, 4));\n",
    "\n",
    "    sns.histplot(df[column], ax=ax1, kde=True);\n",
    "    ax1.set_xlabel(column);\n",
    "    ax1.set_ylabel('Number');\n",
    "    ax1.set_title(f'{column}  Distribution');\n",
    "    \n",
    "    if(target == None):\n",
    "        sns.boxplot(y=column, data=df, showmeans=True, ax=ax2);\n",
    "        ax2.set_ylabel(column);\n",
    "    else:\n",
    "        sns.boxplot(x=target, y=column, data=df, showmeans=True, ax=ax2);\n",
    "        ax2.set_xlabel('Target');\n",
    "        ax2.set_ylabel(column);\n",
    "    \n",
    "    plt.show()\n",
    "\n",
    "def visualize_numerical_lst(df, numerical = ['age', 'duration', 'campaign', 'pdays', 'previous', 'emp.var.rate',\\\n",
    "                            'cons.price.idx', 'cons.conf.idx', 'euribor3m', 'nr.employed'], target = None):\n",
    "    for column in numerical:\n",
    "        visualize_numerical(df,column, target)\n",
    "        print();\n",
    "        \n",
    "def frequency_items (x,y):\n",
    "    fx_=sum([x in i for i in my_basket])\n",
    "    fy_=sum([y in i for i in my_basket])\n",
    "    \n",
    "    fxy_=sum([all(z in i for z in [x,y]) for i in my_basket])\n",
    "    \n",
    "    support=fxy_/len(my_basket)\n",
    "    confidence = support/(fx_/len(my_basket))\n",
    "    lift =confidence /(fy_/len(my_basket))\n",
    "    if confidence ==1:\n",
    "        conviction = 0\n",
    "    else:\n",
    "        conviction=(1-(fy_/len(my_basket)))/(1-confidence)\n",
    "    \n",
    "    print(\"Support = {}\".format(round(support,2)))\n",
    "    print(\"Confidence = {}\".format(round(confidence,2)))\n",
    "    print(\"Lift= {}\".format(round(lift,2)))\n",
    "    print(\"Conviction={}\".format(round(conviction,2)))\n",
    "\n",
    "def frequency_item(x,df):\n",
    "    '''\n",
    "        Return tần suất xuất hiện của item trong các lượt nghe\n",
    "    '''\n",
    "    fx_=sum([x in i for i in df])\n",
    "    support = fx_/len(df)\n",
    "    return support"
   ]
  },
  {
   "cell_type": "markdown",
   "metadata": {},
   "source": [
    "### High values users"
   ]
  },
  {
   "cell_type": "code",
   "execution_count": 7,
   "metadata": {},
   "outputs": [],
   "source": [
    "clustering_df = pd.read_csv(\"data/clustering_processed.csv\")"
   ]
  },
  {
   "cell_type": "code",
   "execution_count": 8,
   "metadata": {},
   "outputs": [
    {
     "data": {
      "text/plain": [
       "Index(['User_ID (FK)', 'Type_user', 'MainCluster_ID',\n",
       "       'MainCluster_Description'],\n",
       "      dtype='object')"
      ]
     },
     "execution_count": 8,
     "metadata": {},
     "output_type": "execute_result"
    }
   ],
   "source": [
    "clustering_df.columns"
   ]
  },
  {
   "cell_type": "code",
   "execution_count": 9,
   "metadata": {},
   "outputs": [
    {
     "data": {
      "text/html": [
       "<div>\n",
       "<style scoped>\n",
       "    .dataframe tbody tr th:only-of-type {\n",
       "        vertical-align: middle;\n",
       "    }\n",
       "\n",
       "    .dataframe tbody tr th {\n",
       "        vertical-align: top;\n",
       "    }\n",
       "\n",
       "    .dataframe thead tr th {\n",
       "        text-align: left;\n",
       "    }\n",
       "\n",
       "    .dataframe thead tr:last-of-type th {\n",
       "        text-align: right;\n",
       "    }\n",
       "</style>\n",
       "<table border=\"1\" class=\"dataframe\">\n",
       "  <thead>\n",
       "    <tr>\n",
       "      <th></th>\n",
       "      <th></th>\n",
       "      <th></th>\n",
       "      <th>User_ID (FK)</th>\n",
       "    </tr>\n",
       "    <tr>\n",
       "      <th></th>\n",
       "      <th></th>\n",
       "      <th></th>\n",
       "      <th>count</th>\n",
       "    </tr>\n",
       "    <tr>\n",
       "      <th>Type_user</th>\n",
       "      <th>MainCluster_ID</th>\n",
       "      <th>MainCluster_Description</th>\n",
       "      <th></th>\n",
       "    </tr>\n",
       "  </thead>\n",
       "  <tbody>\n",
       "    <tr>\n",
       "      <th rowspan=\"10\" valign=\"top\">free</th>\n",
       "      <th>1</th>\n",
       "      <th>Hibernating</th>\n",
       "      <td>3093</td>\n",
       "    </tr>\n",
       "    <tr>\n",
       "      <th>2</th>\n",
       "      <th>Defrost</th>\n",
       "      <td>1185</td>\n",
       "    </tr>\n",
       "    <tr>\n",
       "      <th>3</th>\n",
       "      <th>Need Attention</th>\n",
       "      <td>6196</td>\n",
       "    </tr>\n",
       "    <tr>\n",
       "      <th>4</th>\n",
       "      <th>Lost active user</th>\n",
       "      <td>2510</td>\n",
       "    </tr>\n",
       "    <tr>\n",
       "      <th>5</th>\n",
       "      <th>New User, Skimming Listeners</th>\n",
       "      <td>4256</td>\n",
       "    </tr>\n",
       "    <tr>\n",
       "      <th>6</th>\n",
       "      <th>New Users, Engaging Listeners</th>\n",
       "      <td>4099</td>\n",
       "    </tr>\n",
       "    <tr>\n",
       "      <th>7</th>\n",
       "      <th>Potential, Skimming Listeners</th>\n",
       "      <td>1090</td>\n",
       "    </tr>\n",
       "    <tr>\n",
       "      <th>8</th>\n",
       "      <th>Potential, Engaging Listeners</th>\n",
       "      <td>1622</td>\n",
       "    </tr>\n",
       "    <tr>\n",
       "      <th>9</th>\n",
       "      <th>Loyal Users, Skimming Listeners</th>\n",
       "      <td>342</td>\n",
       "    </tr>\n",
       "    <tr>\n",
       "      <th>10</th>\n",
       "      <th>Loyal Users, Engaging Listeners</th>\n",
       "      <td>427</td>\n",
       "    </tr>\n",
       "    <tr>\n",
       "      <th rowspan=\"7\" valign=\"top\">paid</th>\n",
       "      <th>1</th>\n",
       "      <th>Churn App Users</th>\n",
       "      <td>387</td>\n",
       "    </tr>\n",
       "    <tr>\n",
       "      <th>2</th>\n",
       "      <th>Need attention</th>\n",
       "      <td>175</td>\n",
       "    </tr>\n",
       "    <tr>\n",
       "      <th>3</th>\n",
       "      <th>Lost Users</th>\n",
       "      <td>254</td>\n",
       "    </tr>\n",
       "    <tr>\n",
       "      <th>4</th>\n",
       "      <th>Lost High-value</th>\n",
       "      <td>119</td>\n",
       "    </tr>\n",
       "    <tr>\n",
       "      <th>5</th>\n",
       "      <th>New Paid Users</th>\n",
       "      <td>424</td>\n",
       "    </tr>\n",
       "    <tr>\n",
       "      <th>6</th>\n",
       "      <th>Potential Users</th>\n",
       "      <td>727</td>\n",
       "    </tr>\n",
       "    <tr>\n",
       "      <th>7</th>\n",
       "      <th>Loyal Users</th>\n",
       "      <td>552</td>\n",
       "    </tr>\n",
       "  </tbody>\n",
       "</table>\n",
       "</div>"
      ],
      "text/plain": [
       "                                                         User_ID (FK)\n",
       "                                                                count\n",
       "Type_user MainCluster_ID MainCluster_Description                     \n",
       "free      1              Hibernating                             3093\n",
       "          2              Defrost                                 1185\n",
       "          3              Need Attention                          6196\n",
       "          4              Lost active user                        2510\n",
       "          5              New User, Skimming Listeners            4256\n",
       "          6              New Users, Engaging Listeners           4099\n",
       "          7              Potential, Skimming Listeners           1090\n",
       "          8              Potential, Engaging Listeners           1622\n",
       "          9              Loyal Users, Skimming Listeners          342\n",
       "          10             Loyal Users, Engaging Listeners          427\n",
       "paid      1              Churn App Users                          387\n",
       "          2              Need attention                           175\n",
       "          3              Lost Users                               254\n",
       "          4              Lost High-value                          119\n",
       "          5              New Paid Users                           424\n",
       "          6              Potential Users                          727\n",
       "          7              Loyal Users                              552"
      ]
     },
     "execution_count": 9,
     "metadata": {},
     "output_type": "execute_result"
    }
   ],
   "source": [
    "clustering_df.groupby([\"Type_user\",\"MainCluster_ID\",\"MainCluster_Description\"]).agg({\"User_ID (FK)\":[\"count\"]})"
   ]
  },
  {
   "cell_type": "code",
   "execution_count": 10,
   "metadata": {},
   "outputs": [],
   "source": [
    "low_value_cluster_ids = [1,2,3]\n",
    "clustering_df['Value Rank'] = clustering_df['MainCluster_ID'].map(lambda x: 'Low Value' if x in low_value_cluster_ids else 'High Value')"
   ]
  },
  {
   "cell_type": "code",
   "execution_count": 11,
   "metadata": {},
   "outputs": [],
   "source": [
    "highvalue_users =  clustering_df[clustering_df['Value Rank'] == 'High Value']\n",
    "listening_detail_df = listening_detail_df[listening_detail_df['UserID'].isin(highvalue_users[\"User_ID (FK)\"])]"
   ]
  },
  {
   "cell_type": "code",
   "execution_count": 12,
   "metadata": {},
   "outputs": [
    {
     "data": {
      "text/plain": [
       "601341"
      ]
     },
     "execution_count": 12,
     "metadata": {},
     "output_type": "execute_result"
    }
   ],
   "source": [
    "listening_detail_df.shape[0]"
   ]
  },
  {
   "cell_type": "markdown",
   "metadata": {},
   "source": [
    "### PROCESSING listening_detail_df"
   ]
  },
  {
   "cell_type": "markdown",
   "metadata": {},
   "source": [
    "1. Drop những playlist có duration ngắn\n",
    "2. Drop các playlist có frequency quá thấp ==> vẽ phân phối frequency để nhìn thấy các outliers"
   ]
  },
  {
   "cell_type": "markdown",
   "metadata": {},
   "source": [
    "##### 1. Short duration: drop\n",
    "1. chỉ lấy những lượt nghe có Actual Duration > 3' --25% dữ liệu"
   ]
  },
  {
   "cell_type": "code",
   "execution_count": 13,
   "metadata": {},
   "outputs": [
    {
     "data": {
      "text/plain": [
       "count    601341.000000\n",
       "mean         15.895353\n",
       "std          27.211397\n",
       "min           0.000000\n",
       "25%           1.400000\n",
       "50%           7.600000\n",
       "75%          19.700000\n",
       "max        1769.600000\n",
       "Name: ActualDuration(min), dtype: float64"
      ]
     },
     "execution_count": 13,
     "metadata": {},
     "output_type": "execute_result"
    }
   ],
   "source": [
    "listening_detail_df[\"ActualDuration(min)\"].describe()"
   ]
  },
  {
   "cell_type": "code",
   "execution_count": 14,
   "metadata": {},
   "outputs": [
    {
     "data": {
      "image/png": "[encoded data removed]",
      "text/plain": [
       "<Figure size 1008x288 with 2 Axes>"
      ]
     },
     "metadata": {
      "needs_background": "light"
     },
     "output_type": "display_data"
    }
   ],
   "source": [
    "visualize_numerical(listening_detail_df,\"ActualDuration(min)\")"
   ]
  },
  {
   "cell_type": "code",
   "execution_count": 411,
   "metadata": {},
   "outputs": [],
   "source": [
    "# bk_listening_detail_df = listening_detail_df.copy()"
   ]
  },
  {
   "cell_type": "code",
   "execution_count": 15,
   "metadata": {
    "scrolled": true
   },
   "outputs": [
    {
     "data": {
      "text/plain": [
       "399233"
      ]
     },
     "execution_count": 15,
     "metadata": {},
     "output_type": "execute_result"
    }
   ],
   "source": [
    "## Drop những lượt nghe có duration ngắn hơn 3'\n",
    "listening_detail_df = listening_detail_df[listening_detail_df[\"ActualDuration(min)\"]>=3]\n",
    "listening_detail_df.shape[0]"
   ]
  },
  {
   "cell_type": "code",
   "execution_count": 16,
   "metadata": {},
   "outputs": [
    {
     "data": {
      "image/png": "[encoded data removed]",
      "text/plain": [
       "<Figure size 1008x288 with 2 Axes>"
      ]
     },
     "metadata": {
      "needs_background": "light"
     },
     "output_type": "display_data"
    }
   ],
   "source": [
    "visualize_numerical(listening_detail_df,\"ActualDuration(min)\")"
   ]
  },
  {
   "cell_type": "markdown",
   "metadata": {},
   "source": [
    "##### 2. Outliers Frequency:\n",
    "1. Frequency thấp: Drop những playlist có lượt nghe thấp\n",
    "<!-- 2. Frequency cao: đưa về mean() -->"
   ]
  },
  {
   "cell_type": "code",
   "execution_count": 17,
   "metadata": {},
   "outputs": [
    {
     "data": {
      "text/plain": [
       "1156"
      ]
     },
     "execution_count": 17,
     "metadata": {},
     "output_type": "execute_result"
    }
   ],
   "source": [
    "### summary theo Playlist\n",
    "\n",
    "playlist_summary_df = listening_detail_df.groupby([\"PlaylistID\",'Playlist Name', 'Category', 'SubCategory','PlaylistDuration(min)']).agg({\"ListeningDate\":[\"count\"]}).reset_index()\n",
    "playlist_summary_df.columns=['PlaylistID','Playlist Name', 'Category', 'SubCategory','PlaylistDuration(min)','listen_cnt']\n",
    "playlist_summary_df.shape[0]"
   ]
  },
  {
   "cell_type": "code",
   "execution_count": 18,
   "metadata": {},
   "outputs": [
    {
     "data": {
      "text/html": [
       "<div>\n",
       "<style scoped>\n",
       "    .dataframe tbody tr th:only-of-type {\n",
       "        vertical-align: middle;\n",
       "    }\n",
       "\n",
       "    .dataframe tbody tr th {\n",
       "        vertical-align: top;\n",
       "    }\n",
       "\n",
       "    .dataframe thead th {\n",
       "        text-align: right;\n",
       "    }\n",
       "</style>\n",
       "<table border=\"1\" class=\"dataframe\">\n",
       "  <thead>\n",
       "    <tr style=\"text-align: right;\">\n",
       "      <th></th>\n",
       "      <th>listen_cnt</th>\n",
       "      <th>Frequency</th>\n",
       "    </tr>\n",
       "  </thead>\n",
       "  <tbody>\n",
       "    <tr>\n",
       "      <th>count</th>\n",
       "      <td>1156.000000</td>\n",
       "      <td>1156.000000</td>\n",
       "    </tr>\n",
       "    <tr>\n",
       "      <th>mean</th>\n",
       "      <td>345.357266</td>\n",
       "      <td>0.000865</td>\n",
       "    </tr>\n",
       "    <tr>\n",
       "      <th>std</th>\n",
       "      <td>1229.571407</td>\n",
       "      <td>0.003080</td>\n",
       "    </tr>\n",
       "    <tr>\n",
       "      <th>min</th>\n",
       "      <td>1.000000</td>\n",
       "      <td>0.000003</td>\n",
       "    </tr>\n",
       "    <tr>\n",
       "      <th>25%</th>\n",
       "      <td>52.750000</td>\n",
       "      <td>0.000132</td>\n",
       "    </tr>\n",
       "    <tr>\n",
       "      <th>50%</th>\n",
       "      <td>129.000000</td>\n",
       "      <td>0.000323</td>\n",
       "    </tr>\n",
       "    <tr>\n",
       "      <th>75%</th>\n",
       "      <td>300.000000</td>\n",
       "      <td>0.000751</td>\n",
       "    </tr>\n",
       "    <tr>\n",
       "      <th>max</th>\n",
       "      <td>24835.000000</td>\n",
       "      <td>0.062207</td>\n",
       "    </tr>\n",
       "  </tbody>\n",
       "</table>\n",
       "</div>"
      ],
      "text/plain": [
       "         listen_cnt    Frequency\n",
       "count   1156.000000  1156.000000\n",
       "mean     345.357266     0.000865\n",
       "std     1229.571407     0.003080\n",
       "min        1.000000     0.000003\n",
       "25%       52.750000     0.000132\n",
       "50%      129.000000     0.000323\n",
       "75%      300.000000     0.000751\n",
       "max    24835.000000     0.062207"
      ]
     },
     "execution_count": 18,
     "metadata": {},
     "output_type": "execute_result"
    }
   ],
   "source": [
    "### Tính Frequency cho các playlist:\n",
    "total_listen_cnt = listening_detail_df.shape[0]\n",
    "playlist_summary_df['Frequency'] = round(playlist_summary_df.listen_cnt/total_listen_cnt,6)\n",
    "playlist_summary_df[[\"listen_cnt\",'Frequency']].describe()"
   ]
  },
  {
   "cell_type": "code",
   "execution_count": 19,
   "metadata": {},
   "outputs": [
    {
     "data": {
      "image/png": "[encoded data removed]",
      "text/plain": [
       "<Figure size 1008x288 with 2 Axes>"
      ]
     },
     "metadata": {
      "needs_background": "light"
     },
     "output_type": "display_data"
    }
   ],
   "source": [
    "visualize_numerical(playlist_summary_df,\"Frequency\")"
   ]
  },
  {
   "cell_type": "code",
   "execution_count": 20,
   "metadata": {},
   "outputs": [
    {
     "data": {
      "text/html": [
       "<div>\n",
       "<style scoped>\n",
       "    .dataframe tbody tr th:only-of-type {\n",
       "        vertical-align: middle;\n",
       "    }\n",
       "\n",
       "    .dataframe tbody tr th {\n",
       "        vertical-align: top;\n",
       "    }\n",
       "\n",
       "    .dataframe thead th {\n",
       "        text-align: right;\n",
       "    }\n",
       "</style>\n",
       "<table border=\"1\" class=\"dataframe\">\n",
       "  <thead>\n",
       "    <tr style=\"text-align: right;\">\n",
       "      <th></th>\n",
       "      <th>listen_cnt</th>\n",
       "      <th>Frequency</th>\n",
       "    </tr>\n",
       "  </thead>\n",
       "  <tbody>\n",
       "    <tr>\n",
       "      <th>count</th>\n",
       "      <td>867.000000</td>\n",
       "      <td>867.000000</td>\n",
       "    </tr>\n",
       "    <tr>\n",
       "      <th>mean</th>\n",
       "      <td>453.509804</td>\n",
       "      <td>0.001136</td>\n",
       "    </tr>\n",
       "    <tr>\n",
       "      <th>std</th>\n",
       "      <td>1403.370888</td>\n",
       "      <td>0.003515</td>\n",
       "    </tr>\n",
       "    <tr>\n",
       "      <th>min</th>\n",
       "      <td>53.000000</td>\n",
       "      <td>0.000133</td>\n",
       "    </tr>\n",
       "    <tr>\n",
       "      <th>25%</th>\n",
       "      <td>105.000000</td>\n",
       "      <td>0.000263</td>\n",
       "    </tr>\n",
       "    <tr>\n",
       "      <th>50%</th>\n",
       "      <td>192.000000</td>\n",
       "      <td>0.000481</td>\n",
       "    </tr>\n",
       "    <tr>\n",
       "      <th>75%</th>\n",
       "      <td>381.500000</td>\n",
       "      <td>0.000955</td>\n",
       "    </tr>\n",
       "    <tr>\n",
       "      <th>max</th>\n",
       "      <td>24835.000000</td>\n",
       "      <td>0.062207</td>\n",
       "    </tr>\n",
       "  </tbody>\n",
       "</table>\n",
       "</div>"
      ],
      "text/plain": [
       "         listen_cnt   Frequency\n",
       "count    867.000000  867.000000\n",
       "mean     453.509804    0.001136\n",
       "std     1403.370888    0.003515\n",
       "min       53.000000    0.000133\n",
       "25%      105.000000    0.000263\n",
       "50%      192.000000    0.000481\n",
       "75%      381.500000    0.000955\n",
       "max    24835.000000    0.062207"
      ]
     },
     "execution_count": 20,
     "metadata": {},
     "output_type": "execute_result"
    }
   ],
   "source": [
    "# Drop q_40: những playlist quá ít xuất hiện\n",
    "q_25 = playlist_summary_df[\"Frequency\"].quantile(0.25)\n",
    "playlist_summary_df=playlist_summary_df[playlist_summary_df.Frequency>=q_25]\n",
    "playlist_summary_df[[\"listen_cnt\",'Frequency']].describe()"
   ]
  },
  {
   "cell_type": "code",
   "execution_count": 21,
   "metadata": {},
   "outputs": [
    {
     "data": {
      "image/png": "[encoded data removed]",
      "text/plain": [
       "<Figure size 1008x288 with 2 Axes>"
      ]
     },
     "metadata": {
      "needs_background": "light"
     },
     "output_type": "display_data"
    }
   ],
   "source": [
    "visualize_numerical(playlist_summary_df,\"Frequency\")"
   ]
  },
  {
   "cell_type": "markdown",
   "metadata": {},
   "source": [
    "2. Drop những mega hit playlist "
   ]
  },
  {
   "cell_type": "code",
   "execution_count": 22,
   "metadata": {},
   "outputs": [
    {
     "data": {
      "text/html": [
       "<div>\n",
       "<style scoped>\n",
       "    .dataframe tbody tr th:only-of-type {\n",
       "        vertical-align: middle;\n",
       "    }\n",
       "\n",
       "    .dataframe tbody tr th {\n",
       "        vertical-align: top;\n",
       "    }\n",
       "\n",
       "    .dataframe thead th {\n",
       "        text-align: right;\n",
       "    }\n",
       "</style>\n",
       "<table border=\"1\" class=\"dataframe\">\n",
       "  <thead>\n",
       "    <tr style=\"text-align: right;\">\n",
       "      <th></th>\n",
       "      <th>PlaylistID</th>\n",
       "      <th>Playlist Name</th>\n",
       "      <th>Category</th>\n",
       "      <th>SubCategory</th>\n",
       "      <th>PlaylistDuration(min)</th>\n",
       "      <th>listen_cnt</th>\n",
       "      <th>Frequency</th>\n",
       "    </tr>\n",
       "  </thead>\n",
       "  <tbody>\n",
       "    <tr>\n",
       "      <th>589</th>\n",
       "      <td>4612</td>\n",
       "      <td>Muôn Kiếp Nhân Sinh - Tập 1</td>\n",
       "      <td>Sách nói</td>\n",
       "      <td>Tâm linh</td>\n",
       "      <td>616.8</td>\n",
       "      <td>24835</td>\n",
       "      <td>0.062207</td>\n",
       "    </tr>\n",
       "    <tr>\n",
       "      <th>695</th>\n",
       "      <td>4735</td>\n",
       "      <td>Đắc Nhân Tâm</td>\n",
       "      <td>Sách nói</td>\n",
       "      <td>Thành công</td>\n",
       "      <td>367.3</td>\n",
       "      <td>21601</td>\n",
       "      <td>0.054106</td>\n",
       "    </tr>\n",
       "  </tbody>\n",
       "</table>\n",
       "</div>"
      ],
      "text/plain": [
       "     PlaylistID                Playlist Name  Category SubCategory  \\\n",
       "589        4612  Muôn Kiếp Nhân Sinh - Tập 1  Sách nói    Tâm linh   \n",
       "695        4735                 Đắc Nhân Tâm  Sách nói  Thành công   \n",
       "\n",
       "     PlaylistDuration(min)  listen_cnt  Frequency  \n",
       "589                  616.8       24835   0.062207  \n",
       "695                  367.3       21601   0.054106  "
      ]
     },
     "execution_count": 22,
     "metadata": {},
     "output_type": "execute_result"
    }
   ],
   "source": [
    "### Bỏ các mega hit\n",
    "q_95 = playlist_summary_df[\"Frequency\"].quantile(0.998)\n",
    "playlist_summary_df[playlist_summary_df[\"Frequency\"]>q_95]\n",
    "# playlist_summary_df.loc[playlist_summary_df[\"Frequency\"].idxmax()]#== 0.062207]\n"
   ]
  },
  {
   "cell_type": "code",
   "execution_count": 23,
   "metadata": {},
   "outputs": [],
   "source": [
    "playlist_summary_df = playlist_summary_df[playlist_summary_df[\"Frequency\"]<q_95]"
   ]
  },
  {
   "cell_type": "code",
   "execution_count": 24,
   "metadata": {},
   "outputs": [
    {
     "data": {
      "text/plain": [
       "346757"
      ]
     },
     "execution_count": 24,
     "metadata": {},
     "output_type": "execute_result"
    }
   ],
   "source": [
    "### Lấy lại listening_detail_df sau khi đã xử lý outliers\n",
    "listening_detail_df = listening_detail_df[listening_detail_df['PlaylistID'].isin(playlist_summary_df.PlaylistID)]\n",
    "listening_detail_df.shape[0]"
   ]
  },
  {
   "cell_type": "code",
   "execution_count": 25,
   "metadata": {},
   "outputs": [
    {
     "data": {
      "text/plain": [
       "865"
      ]
     },
     "execution_count": 25,
     "metadata": {},
     "output_type": "execute_result"
    }
   ],
   "source": [
    "playlist_summary_df.shape[0]"
   ]
  },
  {
   "cell_type": "markdown",
   "metadata": {},
   "source": [
    "### Lấy danh sách các playlists theo transaction\n",
    "\n",
    "1. Một transaction: danh sách playlits mà users nghe trong vòng 30 ngày\n",
    "2. playlist_basket: chứa các playlist theo transaction 30 ngày"
   ]
  },
  {
   "cell_type": "markdown",
   "metadata": {},
   "source": [
    "#### 1. Tính danh sách nghe mỗi 30 ngày của các users\n",
    "1. Các playlists nằm trong playlist_basket\n",
    "2. Chỉ lấy những playlist có tổng thời lượng nghe/tổng trong 1thangs Audio >= 1/5"
   ]
  },
  {
   "cell_type": "code",
   "execution_count": 26,
   "metadata": {},
   "outputs": [],
   "source": [
    "def get_playlists_in_timewindow(user_id,timewindow = 30 ):\n",
    "    '''\n",
    "        Return list of playlists that user listens successively in every period of 30 days\n",
    "    '''\n",
    "    user_basket = []\n",
    "    \n",
    "    df = listening_detail_df[listening_detail_df[\"UserID\"]==user]\n",
    "    t_min = df['ListeningDate'].min()\n",
    "    t_max = df['ListeningDate'].max()\n",
    "\n",
    "    ### tính số transactions có thể có của mỗi users nếu chia ra 15 ngày là 1 transaction\n",
    "    distance = (t_max - t_min).days\n",
    "    div_delta = int(distance/timewindow)\n",
    "    mod_delta = distance%timewindow\n",
    "    div_delta,mod_delta\n",
    "    trans_cnt = (div_delta+1) if mod_delta > 0 else div_delta\n",
    "\n",
    "    ### Xác định các mốc thời gian tương ứng\n",
    "    freq = str(timewindow)+'D'\n",
    "    date_points = pd.date_range(start =t_min.date(),periods = trans_cnt+1,freq =freq)\n",
    "    \n",
    "    ### Tính playlists của các transactions ứng với các date_point ở trên <= <\n",
    "    for i in range(trans_cnt):\n",
    "        \n",
    "        playlist_df = df[df.ListeningDate.between(date_points[i], date_points[i+1])].groupby([\"Playlist Name\",\"PlaylistDuration(min)\"]).agg(\n",
    "        {\"ActualDuration(min)\":\"sum\"}).reset_index()\n",
    "        playlist_df.columns = [\"Playlist Name\",\"PlaylistDuration(min)\",\"TotalDuration\"]\n",
    "        \n",
    "        #chỉ lấy những cuốn trong tháng đó đã nghe hon 1/5\n",
    "        playlist_df[\"%\"] = playlist_df[\"TotalDuration\"]/playlist_df[\"PlaylistDuration(min)\"]\n",
    "        playlists = playlist_df[playlist_df[\"%\"]>= 0.2][\"Playlist Name\"].tolist()\n",
    "\n",
    "#        playlists = playlist_df[\"PlaylistID\"].tolist()\n",
    "        \n",
    "        if len(playlists)>0:\n",
    "            user_basket.append(playlists)\n",
    "    \n",
    "    return(user_basket)"
   ]
  },
  {
   "cell_type": "code",
   "execution_count": 27,
   "metadata": {
    "scrolled": true
   },
   "outputs": [
    {
     "data": {
      "text/plain": [
       "(346757, 12039)"
      ]
     },
     "execution_count": 27,
     "metadata": {},
     "output_type": "execute_result"
    }
   ],
   "source": [
    "listening_detail_df.shape[0],len(listening_detail_df['UserID'].unique().tolist())"
   ]
  },
  {
   "cell_type": "code",
   "execution_count": 28,
   "metadata": {},
   "outputs": [
    {
     "data": {
      "text/plain": [
       "29261"
      ]
     },
     "execution_count": 28,
     "metadata": {},
     "output_type": "execute_result"
    }
   ],
   "source": [
    "### Playlist basket cho cả hệ thống\n",
    "playlist_basket = []\n",
    "users = listening_detail_df['UserID'].unique().tolist()\n",
    "for user in users:\n",
    "    user_basket = get_playlists_in_timewindow(user)\n",
    "    playlist_basket += user_basket\n",
    "    \n",
    "len(playlist_basket)"
   ]
  },
  {
   "cell_type": "code",
   "execution_count": 30,
   "metadata": {},
   "outputs": [
    {
     "data": {
      "text/plain": [
       "[['Cô Bé Lọ Lem'],\n",
       " ['Ba Chú Lợn', 'Cô Bé Lọ Lem', 'Nàng Tiên Cá'],\n",
       " ['Gà Tơ Đi Học',\n",
       "  'Hài Độc Thoại Trong Nhà Ngoài Phố',\n",
       "  'Sống Xanh - Bí Mật Ở Làng Sống Chậm',\n",
       "  'Tại sao phải chần chừ?']]"
      ]
     },
     "execution_count": 30,
     "metadata": {},
     "output_type": "execute_result"
    }
   ],
   "source": [
    "playlist_basket[:3]"
   ]
  },
  {
   "cell_type": "markdown",
   "metadata": {},
   "source": [
    "##### Lấy playlists >= 2 items"
   ]
  },
  {
   "cell_type": "code",
   "execution_count": 31,
   "metadata": {},
   "outputs": [
    {
     "data": {
      "text/plain": [
       "11195"
      ]
     },
     "execution_count": 31,
     "metadata": {},
     "output_type": "execute_result"
    }
   ],
   "source": [
    "playlist_basket_OK = [lst for lst in playlist_basket if len(lst)>1]\n",
    "len(playlist_basket_OK)"
   ]
  },
  {
   "cell_type": "code",
   "execution_count": 34,
   "metadata": {},
   "outputs": [
    {
     "data": {
      "text/plain": [
       "['Ba Chú Lợn', 'Cô Bé Lọ Lem', 'Nàng Tiên Cá']"
      ]
     },
     "execution_count": 34,
     "metadata": {},
     "output_type": "execute_result"
    }
   ],
   "source": [
    "t = playlist_basket_OK[0]\n",
    "t"
   ]
  },
  {
   "cell_type": "code",
   "execution_count": 35,
   "metadata": {},
   "outputs": [
    {
     "data": {
      "text/plain": [
       "'Ba Chú Lợn'"
      ]
     },
     "execution_count": 35,
     "metadata": {},
     "output_type": "execute_result"
    }
   ],
   "source": [
    "t[0]"
   ]
  },
  {
   "cell_type": "code",
   "execution_count": 36,
   "metadata": {},
   "outputs": [
    {
     "data": {
      "text/plain": [
       "(str, 10)"
      ]
     },
     "execution_count": 36,
     "metadata": {},
     "output_type": "execute_result"
    }
   ],
   "source": [
    "type(t[0]),len(t[0])"
   ]
  },
  {
   "cell_type": "code",
   "execution_count": 479,
   "metadata": {},
   "outputs": [],
   "source": [
    "# playlist_basket_df = pd.DataFrame(data = np.array(playlist_basket_OK))\n",
    "# playlist_basket_df.columns = ['playlists']\n",
    "# playlist_basket_df.to_csv(\"data/export/playlist_basket_OK.csv\", index = False)"
   ]
  },
  {
   "cell_type": "markdown",
   "metadata": {},
   "source": [
    "## Basket Analysis on listening detail"
   ]
  },
  {
   "cell_type": "code",
   "execution_count": 37,
   "metadata": {},
   "outputs": [],
   "source": [
    "from mlxtend.preprocessing import TransactionEncoder\n",
    "from mlxtend.frequent_patterns import association_rules, apriori"
   ]
  },
  {
   "cell_type": "code",
   "execution_count": 38,
   "metadata": {},
   "outputs": [],
   "source": [
    "data = playlist_basket_OK"
   ]
  },
  {
   "cell_type": "code",
   "execution_count": 39,
   "metadata": {},
   "outputs": [],
   "source": [
    "## 2. Importing packages and data preprocessing (about mlxtend)\n",
    "encode_=TransactionEncoder()\n",
    "encode_arr=encode_.fit_transform(data)"
   ]
  },
  {
   "cell_type": "code",
   "execution_count": 40,
   "metadata": {},
   "outputs": [],
   "source": [
    "## 3. Converting to dataframe.\n",
    "encode_df=pd.DataFrame(encode_arr, columns=encode_.columns_)\n",
    "#encode_df"
   ]
  },
  {
   "cell_type": "code",
   "execution_count": 41,
   "metadata": {},
   "outputs": [
    {
     "data": {
      "text/plain": [
       "1746"
      ]
     },
     "execution_count": 41,
     "metadata": {},
     "output_type": "execute_result"
    }
   ],
   "source": [
    "## 4. Calculating support.\n",
    "frequent_items=apriori(encode_df,min_support=0.001, use_colnames=True)\n",
    "len(frequent_items)"
   ]
  },
  {
   "cell_type": "code",
   "execution_count": 42,
   "metadata": {},
   "outputs": [
    {
     "data": {
      "text/html": [
       "<div>\n",
       "<style scoped>\n",
       "    .dataframe tbody tr th:only-of-type {\n",
       "        vertical-align: middle;\n",
       "    }\n",
       "\n",
       "    .dataframe tbody tr th {\n",
       "        vertical-align: top;\n",
       "    }\n",
       "\n",
       "    .dataframe thead th {\n",
       "        text-align: right;\n",
       "    }\n",
       "</style>\n",
       "<table border=\"1\" class=\"dataframe\">\n",
       "  <thead>\n",
       "    <tr style=\"text-align: right;\">\n",
       "      <th></th>\n",
       "      <th>antecedents</th>\n",
       "      <th>consequents</th>\n",
       "      <th>antecedent support</th>\n",
       "      <th>consequent support</th>\n",
       "      <th>support</th>\n",
       "      <th>confidence</th>\n",
       "      <th>lift</th>\n",
       "      <th>leverage</th>\n",
       "      <th>conviction</th>\n",
       "    </tr>\n",
       "  </thead>\n",
       "  <tbody>\n",
       "    <tr>\n",
       "      <th>0</th>\n",
       "      <td>(10 Quy luật cuộc sống)</td>\n",
       "      <td>(Nghìn Lẻ Một Đêm - 1001 đêm)</td>\n",
       "      <td>0.024207</td>\n",
       "      <td>0.054757</td>\n",
       "      <td>0.001876</td>\n",
       "      <td>0.077491</td>\n",
       "      <td>1.415186</td>\n",
       "      <td>0.000550</td>\n",
       "      <td>1.024644</td>\n",
       "    </tr>\n",
       "    <tr>\n",
       "      <th>1</th>\n",
       "      <td>(Nghìn Lẻ Một Đêm - 1001 đêm)</td>\n",
       "      <td>(10 Quy luật cuộc sống)</td>\n",
       "      <td>0.054757</td>\n",
       "      <td>0.024207</td>\n",
       "      <td>0.001876</td>\n",
       "      <td>0.034258</td>\n",
       "      <td>1.415186</td>\n",
       "      <td>0.000550</td>\n",
       "      <td>1.010407</td>\n",
       "    </tr>\n",
       "    <tr>\n",
       "      <th>2</th>\n",
       "      <td>(10 Quy luật cuộc sống)</td>\n",
       "      <td>(Thái độ quyết định thành công)</td>\n",
       "      <td>0.024207</td>\n",
       "      <td>0.131041</td>\n",
       "      <td>0.007593</td>\n",
       "      <td>0.313653</td>\n",
       "      <td>2.393556</td>\n",
       "      <td>0.004421</td>\n",
       "      <td>1.266064</td>\n",
       "    </tr>\n",
       "    <tr>\n",
       "      <th>3</th>\n",
       "      <td>(Thái độ quyết định thành công)</td>\n",
       "      <td>(10 Quy luật cuộc sống)</td>\n",
       "      <td>0.131041</td>\n",
       "      <td>0.024207</td>\n",
       "      <td>0.007593</td>\n",
       "      <td>0.057941</td>\n",
       "      <td>2.393556</td>\n",
       "      <td>0.004421</td>\n",
       "      <td>1.035809</td>\n",
       "    </tr>\n",
       "    <tr>\n",
       "      <th>4</th>\n",
       "      <td>(10 Quy luật cuộc sống)</td>\n",
       "      <td>(Tại sao phải chần chừ?)</td>\n",
       "      <td>0.024207</td>\n",
       "      <td>0.007503</td>\n",
       "      <td>0.001072</td>\n",
       "      <td>0.044280</td>\n",
       "      <td>5.901423</td>\n",
       "      <td>0.000890</td>\n",
       "      <td>1.038481</td>\n",
       "    </tr>\n",
       "  </tbody>\n",
       "</table>\n",
       "</div>"
      ],
      "text/plain": [
       "                       antecedents                      consequents  \\\n",
       "0          (10 Quy luật cuộc sống)    (Nghìn Lẻ Một Đêm - 1001 đêm)   \n",
       "1    (Nghìn Lẻ Một Đêm - 1001 đêm)          (10 Quy luật cuộc sống)   \n",
       "2          (10 Quy luật cuộc sống)  (Thái độ quyết định thành công)   \n",
       "3  (Thái độ quyết định thành công)          (10 Quy luật cuộc sống)   \n",
       "4          (10 Quy luật cuộc sống)         (Tại sao phải chần chừ?)   \n",
       "\n",
       "   antecedent support  consequent support   support  confidence      lift  \\\n",
       "0            0.024207            0.054757  0.001876    0.077491  1.415186   \n",
       "1            0.054757            0.024207  0.001876    0.034258  1.415186   \n",
       "2            0.024207            0.131041  0.007593    0.313653  2.393556   \n",
       "3            0.131041            0.024207  0.007593    0.057941  2.393556   \n",
       "4            0.024207            0.007503  0.001072    0.044280  5.901423   \n",
       "\n",
       "   leverage  conviction  \n",
       "0  0.000550    1.024644  \n",
       "1  0.000550    1.010407  \n",
       "2  0.004421    1.266064  \n",
       "3  0.004421    1.035809  \n",
       "4  0.000890    1.038481  "
      ]
     },
     "execution_count": 42,
     "metadata": {},
     "output_type": "execute_result"
    }
   ],
   "source": [
    "rules = association_rules(frequent_items, metric=\"lift\", min_threshold=1)\n",
    "rules.head()"
   ]
  },
  {
   "cell_type": "code",
   "execution_count": 43,
   "metadata": {},
   "outputs": [
    {
     "data": {
      "text/plain": [
       "3386"
      ]
     },
     "execution_count": 43,
     "metadata": {},
     "output_type": "execute_result"
    }
   ],
   "source": [
    "rules.shape[0]"
   ]
  },
  {
   "cell_type": "code",
   "execution_count": 44,
   "metadata": {},
   "outputs": [],
   "source": [
    "basket =rules[rules['antecedents'].apply(lambda x: len(x) ==1)&\n",
    "(rules['lift']>3)&(rules['confidence']>=0.3)].sort_values(['lift'],ascending=False)"
   ]
  },
  {
   "cell_type": "code",
   "execution_count": 45,
   "metadata": {},
   "outputs": [
    {
     "data": {
      "text/plain": [
       "100"
      ]
     },
     "execution_count": 45,
     "metadata": {},
     "output_type": "execute_result"
    }
   ],
   "source": [
    "basket.shape[0]"
   ]
  },
  {
   "cell_type": "code",
   "execution_count": 46,
   "metadata": {
    "scrolled": false
   },
   "outputs": [
    {
     "data": {
      "text/html": [
       "<div>\n",
       "<style scoped>\n",
       "    .dataframe tbody tr th:only-of-type {\n",
       "        vertical-align: middle;\n",
       "    }\n",
       "\n",
       "    .dataframe tbody tr th {\n",
       "        vertical-align: top;\n",
       "    }\n",
       "\n",
       "    .dataframe thead th {\n",
       "        text-align: right;\n",
       "    }\n",
       "</style>\n",
       "<table border=\"1\" class=\"dataframe\">\n",
       "  <thead>\n",
       "    <tr style=\"text-align: right;\">\n",
       "      <th></th>\n",
       "      <th>antecedents</th>\n",
       "      <th>consequents</th>\n",
       "    </tr>\n",
       "  </thead>\n",
       "  <tbody>\n",
       "    <tr>\n",
       "      <th>376</th>\n",
       "      <td>(Bí Quyết Trở Thành Người Xuất Sắc)</td>\n",
       "      <td>(Thái độ quyết định thành công)</td>\n",
       "    </tr>\n",
       "    <tr>\n",
       "      <th>1439</th>\n",
       "      <td>(Tỏa Sáng Ở Trường Đại Học)</td>\n",
       "      <td>(Thái độ quyết định thành công)</td>\n",
       "    </tr>\n",
       "    <tr>\n",
       "      <th>10</th>\n",
       "      <td>(10 Điều Tạo Nên Số Phận)</td>\n",
       "      <td>(Thái độ quyết định thành công)</td>\n",
       "    </tr>\n",
       "    <tr>\n",
       "      <th>1214</th>\n",
       "      <td>(Nghệ thuật sống tự tin)</td>\n",
       "      <td>(Thái độ quyết định thành công)</td>\n",
       "    </tr>\n",
       "  </tbody>\n",
       "</table>\n",
       "</div>"
      ],
      "text/plain": [
       "                              antecedents                      consequents\n",
       "376   (Bí Quyết Trở Thành Người Xuất Sắc)  (Thái độ quyết định thành công)\n",
       "1439          (Tỏa Sáng Ở Trường Đại Học)  (Thái độ quyết định thành công)\n",
       "10              (10 Điều Tạo Nên Số Phận)  (Thái độ quyết định thành công)\n",
       "1214             (Nghệ thuật sống tự tin)  (Thái độ quyết định thành công)"
      ]
     },
     "execution_count": 46,
     "metadata": {},
     "output_type": "execute_result"
    }
   ],
   "source": [
    "basket[[\"antecedents\",\"consequents\"]].tail(4)"
   ]
  },
  {
   "cell_type": "code",
   "execution_count": 51,
   "metadata": {},
   "outputs": [],
   "source": [
    "# basket[[\"antecedents\",\"consequents\"]].to_excel('data/basket_output_xlxs.xlsx',index =False )\n",
    "# basket[[\"antecedents\",\"consequents\"]].to_csv('data/basket_output_csv.csv',index =False )\n",
    "\n",
    "# output = basket[[\"antecedents\",\"consequents\"]]\n",
    "# output.columns = [\"antecedents\",\"next playlist\"]\n",
    "# output.to_excel('data/basket_output_xlxs.xlsx',index =False )\n",
    "# output.to_csv('data/basket_output_csv.csv',index =False )"
   ]
  },
  {
   "cell_type": "markdown",
   "metadata": {},
   "source": [
    "#### Print rules"
   ]
  },
  {
   "cell_type": "code",
   "execution_count": 396,
   "metadata": {},
   "outputs": [],
   "source": [
    "# !pip install apyori"
   ]
  },
  {
   "cell_type": "code",
   "execution_count": 477,
   "metadata": {},
   "outputs": [],
   "source": [
    "from apyori import apriori\n",
    "# Training Apriori algorithm on the dataset\n",
    "rule_list = apriori(playlist_basket_OK, min_support = 0.001, min_confidence = 0.3, min_lift = 3, min_length = 2)"
   ]
  },
  {
   "cell_type": "code",
   "execution_count": 478,
   "metadata": {},
   "outputs": [
    {
     "name": "stdout",
     "output_type": "stream",
     "text": [
      "\n",
      "\n",
      "RelationRecord(items=frozenset({'Thái độ quyết định thành công', '10 Điều Tạo Nên Số Phận'}), support=0.001429209468512729, ordered_statistics=[OrderedStatistic(items_base=frozenset({'10 Điều Tạo Nên Số Phận'}), items_add=frozenset({'Thái độ quyết định thành công'}), confidence=0.4324324324324324, lift=3.299987103668085)])\n",
      "**********\n",
      "\n",
      "\n",
      "RelationRecord(items=frozenset({'Ba Chú Lợn', 'Chú Rô Con Không Vâng Lời Mẹ'}), support=0.002590442161679321, ordered_statistics=[OrderedStatistic(items_base=frozenset({'Chú Rô Con Không Vâng Lời Mẹ'}), items_add=frozenset({'Ba Chú Lợn'}), confidence=0.30208333333333337, lift=23.484881365740744)])\n",
      "**********\n",
      "\n",
      "\n",
      "RelationRecord(items=frozenset({'Ba Chú Lợn', 'Chú Vịt Xám'}), support=0.0018758374274229566, ordered_statistics=[OrderedStatistic(items_base=frozenset({'Chú Vịt Xám'}), items_add=frozenset({'Ba Chú Lợn'}), confidence=0.3559322033898305, lift=27.671257062146893)])\n",
      "**********\n",
      "\n",
      "\n",
      "RelationRecord(items=frozenset({'Chú Thỏ Tinh Khôn', 'Bác Gấu Đen Và Hai Chú Thỏ'}), support=0.0016971862438588657, ordered_statistics=[OrderedStatistic(items_base=frozenset({'Chú Thỏ Tinh Khôn'}), items_add=frozenset({'Bác Gấu Đen Và Hai Chú Thỏ'}), confidence=0.3166666666666667, lift=16.722091194968556)])\n",
      "**********\n",
      "\n",
      "\n",
      "RelationRecord(items=frozenset({'Bác Gấu Đen Và Hai Chú Thỏ', 'Chú Vịt Xám'}), support=0.001786511835640911, ordered_statistics=[OrderedStatistic(items_base=frozenset({'Chú Vịt Xám'}), items_add=frozenset({'Bác Gấu Đen Và Hai Chú Thỏ'}), confidence=0.3389830508474576, lift=17.90054365206268)])\n",
      "**********\n",
      "\n",
      "\n",
      "RelationRecord(items=frozenset({'Bác Gấu Đen Và Hai Chú Thỏ', 'Cáo, Thỏ Và Gà Trống'}), support=0.0029477445288075034, ordered_statistics=[OrderedStatistic(items_base=frozenset({'Cáo, Thỏ Và Gà Trống'}), items_add=frozenset({'Bác Gấu Đen Và Hai Chú Thỏ'}), confidence=0.33, lift=17.42617924528302)])\n",
      "**********\n",
      "\n",
      "\n",
      "RelationRecord(items=frozenset({'Bác Gấu Đen Và Hai Chú Thỏ', 'Gà Tơ Đi Học'}), support=0.004555605180884323, ordered_statistics=[OrderedStatistic(items_base=frozenset({'Gà Tơ Đi Học'}), items_add=frozenset({'Bác Gấu Đen Và Hai Chú Thỏ'}), confidence=0.3269230769230769, lift=17.263697387518143)])\n",
      "**********\n",
      "\n",
      "\n",
      "RelationRecord(items=frozenset({'Bác Gấu Đen Và Hai Chú Thỏ', 'Lợn Con Sạch Lắm Rồi'}), support=0.0018758374274229566, ordered_statistics=[OrderedStatistic(items_base=frozenset({'Lợn Con Sạch Lắm Rồi'}), items_add=frozenset({'Bác Gấu Đen Và Hai Chú Thỏ'}), confidence=0.328125, lift=17.327166863207548)])\n",
      "**********\n",
      "\n",
      "\n",
      "RelationRecord(items=frozenset({'Bác Gấu Đen Và Hai Chú Thỏ', 'Mèo Con Và Quyển Sách'}), support=0.004555605180884323, ordered_statistics=[OrderedStatistic(items_base=frozenset({'Mèo Con Và Quyển Sách'}), items_add=frozenset({'Bác Gấu Đen Và Hai Chú Thỏ'}), confidence=0.3148148148148148, lift=16.624301187980436)])\n",
      "**********\n",
      "\n",
      "\n",
      "RelationRecord(items=frozenset({'Bác Gấu Đen Và Hai Chú Thỏ', 'Đôi Bạn Tốt'}), support=0.003930326038410005, ordered_statistics=[OrderedStatistic(items_base=frozenset({'Đôi Bạn Tốt'}), items_add=frozenset({'Bác Gấu Đen Và Hai Chú Thỏ'}), confidence=0.3165467625899281, lift=16.71575946789738)])\n",
      "**********\n"
     ]
    }
   ],
   "source": [
    "# Visualizing the list of rules\n",
    "results = list(rule_list)\n",
    "for i in results[:5]:\n",
    "    print('\\n')\n",
    "    print(i)\n",
    "    print('**********') "
   ]
  },
  {
   "cell_type": "code",
   "execution_count": 471,
   "metadata": {},
   "outputs": [
    {
     "data": {
      "image/png": "[encoded data removed]",
      "text/plain": [
       "<Figure size 720x432 with 1 Axes>"
      ]
     },
     "metadata": {
      "needs_background": "light"
     },
     "output_type": "display_data"
    }
   ],
   "source": [
    "## 7. Scatter plot\n",
    "## Scatter plots help us to evaluate general tendencies of rules between antecedents and consequents\n",
    "\n",
    "import networkx as nx\n",
    "import seaborn as sns\n",
    "import matplotlib.pyplot as plt \n",
    "\n",
    "# Generate scatterplot using support and confidence\n",
    "plt.figure(figsize=(10,6))\n",
    "sns.scatterplot(x = \"support\", y = \"confidence\", \n",
    "                size = \"lift\", data = rules)\n",
    "plt.margins(0.01,0.01)\n",
    "plt.show()"
   ]
  }
 ],
 "metadata": {
  "kernelspec": {
   "display_name": "Python 3",
   "language": "python",
   "name": "python3"
  },
  "language_info": {
   "codemirror_mode": {
    "name": "ipython",
    "version": 3
   },
   "file_extension": ".py",
   "mimetype": "text/x-python",
   "name": "python",
   "nbconvert_exporter": "python",
   "pygments_lexer": "ipython3",
   "version": "3.8.5"
  }
 },
 "nbformat": 4,
 "nbformat_minor": 4
}
